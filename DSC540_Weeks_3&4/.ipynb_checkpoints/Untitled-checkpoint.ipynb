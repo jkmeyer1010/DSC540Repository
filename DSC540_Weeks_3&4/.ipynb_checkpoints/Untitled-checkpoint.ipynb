{
 "cells": [
  {
   "cell_type": "markdown",
   "id": "ab612e07",
   "metadata": {},
   "source": [
    "# DCS 540 Data Preparation (DSC540-T301 2225-1)\n",
    "## Bellevue University\n",
    "## Assignment: Weeks 3 & 4 Exercises\n",
    "## Author: Jake Meyer\n",
    "## Date: 04/01/2022"
   ]
  },
  {
   "cell_type": "markdown",
   "id": "8425633c",
   "metadata": {},
   "source": [
    "## Assignment Instructions:\n",
    "1. Data Wrangling with Python: Activity 5, page 116\n",
    "2. Data Wrangling with Python: Activity 6, page 171\n",
    "3. Create a series and practice basic arithmetic steps:\n",
    "* a. Series 1 = 7.3, -2.5, 3.4, 1.5\n",
    "* i. Index = ‘a’, ‘c’, ‘d’, ‘e’\n",
    "* b. Series 2 = -2.1, 3.6, -1.5, 4, 3.1\n",
    "* i. Index = ‘a’, ‘c’, ‘e’, ‘f’, ‘g’\n",
    "* c. Add Series 1 and Series 2 together and print the results\n",
    "* d. Subtract Series 1 from Series 2 and print the results"
   ]
  },
  {
   "cell_type": "markdown",
   "id": "2217ba33",
   "metadata": {},
   "source": [
    "### 1. Data Wrangling with Python: Activity 5, page 116\n"
   ]
  }
 ],
 "metadata": {
  "kernelspec": {
   "display_name": "Python 3 (ipykernel)",
   "language": "python",
   "name": "python3"
  },
  "language_info": {
   "codemirror_mode": {
    "name": "ipython",
    "version": 3
   },
   "file_extension": ".py",
   "mimetype": "text/x-python",
   "name": "python",
   "nbconvert_exporter": "python",
   "pygments_lexer": "ipython3",
   "version": "3.9.7"
  }
 },
 "nbformat": 4,
 "nbformat_minor": 5
}
