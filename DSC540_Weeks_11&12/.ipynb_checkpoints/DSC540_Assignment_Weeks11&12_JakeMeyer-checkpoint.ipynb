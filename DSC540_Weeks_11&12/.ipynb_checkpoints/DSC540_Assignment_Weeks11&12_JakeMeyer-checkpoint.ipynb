{
 "cells": [
  {
   "cell_type": "markdown",
   "id": "895f6b5d",
   "metadata": {},
   "source": [
    "# DCS 540 Data Preparation (DSC540-T301 2225-1)\n",
    "## Bellevue University\n",
    "## Assignment: Weeks 11 & 12 Exercises\n",
    "## Author: Jake Meyer\n",
    "## Date: 05/24/2022"
   ]
  },
  {
   "cell_type": "markdown",
   "id": "2be1fff6",
   "metadata": {},
   "source": [
    "### 1. Data Wrangling with Python: Activity 11, page 320\n",
    "### Activity 11: Retrieving Data Correctly from Databases"
   ]
  },
  {
   "cell_type": "code",
   "execution_count": 40,
   "id": "228ed94d",
   "metadata": {},
   "outputs": [],
   "source": [
    "'''\n",
    "Import the essential libraries to complete Activity 11 (Activities for Weeks 11 & 12).\n",
    "Any additional libraries will be imported later in the notebook.\n",
    "'''\n",
    "import numpy as np\n",
    "\n",
    "import pandas as pd\n",
    "   \n",
    "import sqlite3"
   ]
  },
  {
   "cell_type": "code",
   "execution_count": 41,
   "id": "564b7b18",
   "metadata": {},
   "outputs": [],
   "source": [
    "'''\n",
    "Move over a copy of 'petsdb' into the working directory. \n",
    "Connect to the 'petsdb' which should contain a persons table and a pets table per the assignment.\n",
    "As seen on pg 305 from DataWrangling with Python text, create a connection with sqlite3.connect().\n",
    "'''\n",
    "conn = sqlite3.connect('petsdb')"
   ]
  },
  {
   "cell_type": "code",
   "execution_count": 42,
   "id": "827631d4",
   "metadata": {},
   "outputs": [],
   "source": [
    "'''\n",
    "Per the assignment, check whether the connection has been successful.\n",
    "Write a function with try/except handling to check the connection.\n",
    "'''\n",
    "def test_open(conn):\n",
    "    try:\n",
    "        conn.execute(\"SELECT * FROM persons LIMIT 1\")\n",
    "        print(\"Connection Successful!\")\n",
    "        return True\n",
    "    except sqlite3.ProgrammingError as e:\n",
    "        print(\"Connection closed. {}\".format(e))\n",
    "        return False"
   ]
  },
  {
   "cell_type": "code",
   "execution_count": 43,
   "id": "d7383297",
   "metadata": {},
   "outputs": [
    {
     "name": "stdout",
     "output_type": "stream",
     "text": [
      "Connection Successful!\n",
      "True\n"
     ]
    }
   ],
   "source": [
    "'''\n",
    "Test the connection with test_open() function.\n",
    "'''\n",
    "print(test_open(conn))"
   ]
  },
  {
   "cell_type": "code",
   "execution_count": 44,
   "id": "5099a083",
   "metadata": {},
   "outputs": [],
   "source": [
    "'''\n",
    "Close the connection to 'petsdb'.\n",
    "'''\n",
    "conn.close()"
   ]
  },
  {
   "cell_type": "code",
   "execution_count": 45,
   "id": "229ba6c2",
   "metadata": {},
   "outputs": [
    {
     "name": "stdout",
     "output_type": "stream",
     "text": [
      "Connection closed. Cannot operate on a closed database.\n",
      "False\n"
     ]
    }
   ],
   "source": [
    "'''\n",
    "Retest the test_open(conn) function to ensure the connection shows closed.\n",
    "'''\n",
    "print(test_open(conn))"
   ]
  },
  {
   "cell_type": "code",
   "execution_count": 46,
   "id": "c3e71520",
   "metadata": {},
   "outputs": [],
   "source": [
    "'''\n",
    "Reopen the connection to 'petsdb' to answer the questions for the assignment.\n",
    "'''\n",
    "conn = sqlite3.connect('petsdb')"
   ]
  },
  {
   "cell_type": "code",
   "execution_count": 47,
   "id": "c9e47515",
   "metadata": {},
   "outputs": [],
   "source": [
    "'''\n",
    "Create a cursor object using conn.cursor() to communicate with 'petsdb'\n",
    "'''\n",
    "cursor = conn.cursor()"
   ]
  },
  {
   "cell_type": "code",
   "execution_count": 48,
   "id": "e7b669d5",
   "metadata": {},
   "outputs": [
    {
     "name": "stdout",
     "output_type": "stream",
     "text": [
      "Total of 2 people aged 5\n",
      "Total of 1 people aged 6\n",
      "Total of 1 people aged 7\n",
      "Total of 3 people aged 8\n",
      "Total of 1 people aged 9\n",
      "Total of 2 people aged 11\n",
      "Total of 3 people aged 12\n",
      "Total of 1 people aged 13\n",
      "Total of 4 people aged 14\n",
      "Total of 2 people aged 16\n",
      "Total of 2 people aged 17\n",
      "Total of 3 people aged 18\n",
      "Total of 1 people aged 19\n",
      "Total of 3 people aged 22\n",
      "Total of 2 people aged 23\n",
      "Total of 3 people aged 24\n",
      "Total of 2 people aged 25\n",
      "Total of 1 people aged 27\n",
      "Total of 1 people aged 30\n",
      "Total of 3 people aged 31\n",
      "Total of 1 people aged 32\n",
      "Total of 1 people aged 33\n",
      "Total of 2 people aged 34\n",
      "Total of 3 people aged 35\n",
      "Total of 3 people aged 36\n",
      "Total of 1 people aged 37\n",
      "Total of 2 people aged 39\n",
      "Total of 1 people aged 40\n",
      "Total of 1 people aged 42\n",
      "Total of 2 people aged 44\n",
      "Total of 2 people aged 48\n",
      "Total of 1 people aged 49\n",
      "Total of 1 people aged 50\n",
      "Total of 2 people aged 51\n",
      "Total of 2 people aged 52\n",
      "Total of 2 people aged 53\n",
      "Total of 2 people aged 54\n",
      "Total of 1 people aged 58\n",
      "Total of 1 people aged 59\n",
      "Total of 1 people aged 60\n",
      "Total of 1 people aged 61\n",
      "Total of 2 people aged 62\n",
      "Total of 1 people aged 63\n",
      "Total of 2 people aged 65\n",
      "Total of 2 people aged 66\n",
      "Total of 1 people aged 67\n",
      "Total of 3 people aged 68\n",
      "Total of 1 people aged 69\n",
      "Total of 1 people aged 70\n",
      "Total of 4 people aged 71\n",
      "Total of 1 people aged 72\n",
      "Total of 5 people aged 73\n",
      "Total of 3 people aged 74\n"
     ]
    }
   ],
   "source": [
    "'''\n",
    "Per the assignment, find the different age groups in the persons database.\n",
    "Create a for loop counting ages and executing commands (SELECT, FROM, GROUP) from persons grouped by age.\n",
    "'''\n",
    "for people, age in cursor.execute(\"SELECT count(*), age FROM persons GROUP BY age\"):\n",
    "    print(\"Total of {} people aged {}\".format(people, age))"
   ]
  },
  {
   "cell_type": "code",
   "execution_count": 49,
   "id": "5fa6ede6",
   "metadata": {},
   "outputs": [
    {
     "name": "stdout",
     "output_type": "stream",
     "text": [
      "Maximum number of people 5 came from 73 age group.\n"
     ]
    }
   ],
   "source": [
    "'''\n",
    "Per the assignment, find the age group with the maximum number of people.\n",
    "Create another for loop for people and age and put in descending order. Break after\n",
    "the first output.\n",
    "'''\n",
    "for people, age in cursor.execute(\"SELECT count(*), age FROM persons GROUP BY age ORDER BY count(*) DESC\"):\n",
    "    print(\"Maximum number of people {} came from {} age group.\".format(people, age))\n",
    "    break"
   ]
  },
  {
   "cell_type": "code",
   "execution_count": 50,
   "id": "172af742",
   "metadata": {},
   "outputs": [
    {
     "name": "stdout",
     "output_type": "stream",
     "text": [
      "There are 60 individuals with a null last name.\n"
     ]
    }
   ],
   "source": [
    "'''\n",
    "Per the assignment, find the number of people who do not have a last name.\n",
    "Utilize the count(*) on null last_name values from persons table. \n",
    "Read the data from the database by using a for loop on the rows of data.\n",
    "'''\n",
    "null_last_name = cursor.execute(\"SELECT count(*) FROM persons WHERE last_name IS null\")\n",
    "for row in null_last_name:\n",
    "    print('There are {} individuals with a null last name.'.format(row[0]))"
   ]
  },
  {
   "cell_type": "code",
   "execution_count": 51,
   "id": "2060af76",
   "metadata": {},
   "outputs": [
    {
     "name": "stdout",
     "output_type": "stream",
     "text": [
      "43 People have more than one pet.\n"
     ]
    }
   ],
   "source": [
    "'''\n",
    "Per the assignment, find the number of people with more than one pet.\n",
    "Utilize the count(*) on owner_id for pets with owner_id >1. \n",
    "Read the data from the database by using a for loop on the rows of data.\n",
    "'''\n",
    "more_pets = cursor.execute(\"SELECT count(*) FROM (SELECT count(owner_id) FROM pets GROUP BY owner_id HAVING count(owner_id) >1)\")\n",
    "for row in more_pets:\n",
    "    print(\"{} People have more than one pet.\".format(row[0]))"
   ]
  },
  {
   "cell_type": "code",
   "execution_count": 52,
   "id": "4080d338",
   "metadata": {},
   "outputs": [
    {
     "name": "stdout",
     "output_type": "stream",
     "text": [
      "There are 36 pets that received treatment.\n"
     ]
    }
   ],
   "source": [
    "'''\n",
    "Per the assignment, find out how many pets have received treatment.\n",
    "Utilize the count(*) from pets where on treatment_done = 1. \n",
    "Read the data from the database by using a for loop on the rows of data.\n",
    "'''\n",
    "pet_treatment = cursor.execute(\"SELECT count(*) FROM pets WHERE treatment_done=1\")\n",
    "for row in pet_treatment:\n",
    "    print('There are {} pets that received treatment.'.format(row[0]))"
   ]
  },
  {
   "cell_type": "code",
   "execution_count": 27,
   "id": "0723bd49",
   "metadata": {},
   "outputs": [
    {
     "name": "stdout",
     "output_type": "stream",
     "text": [
      "There are 16 pets that received treatment and the pet type is known.\n"
     ]
    }
   ],
   "source": [
    "'''\n",
    "Per the assignment, find out how many pets received treatement and the type of pet is known.\n",
    "Utilize the count(*) from pets where on treatment_done = 1 and non-null values for pet_type. \n",
    "Read the data from the database by using a for loop on the rows of data.\n",
    "'''\n",
    "pet_treatment_type = cursor.execute(\"SELECT count(*) FROM pets WHERE treatment_done=1 AND pet_type IS NOT null\")\n",
    "for row in pet_treatment_type:\n",
    "    print('There are {} pets that received treatment and the pet type is known.'.format(row[0]))"
   ]
  },
  {
   "cell_type": "code",
   "execution_count": 29,
   "id": "c7996ffc",
   "metadata": {},
   "outputs": [
    {
     "name": "stdout",
     "output_type": "stream",
     "text": [
      "There are 49 pets from east port.\n"
     ]
    }
   ],
   "source": [
    "'''\n",
    "Per the assignment, find out the number of pets from east port.\n",
    "JOIN pets, persons based on pets.owner_id WHERE persons.city='east port'. SELECT count(*) to get number.\n",
    "Read the data from the database by using a for loop on the rows of data.\n",
    "'''\n",
    "pet_ep = cursor.execute(\"SELECT count(*) FROM pets JOIN persons ON pets.owner_id = persons.id WHERE persons.city='east port'\")\n",
    "for row in pet_ep:\n",
    "    print('There are {} pets from east port.'.format(row[0]))"
   ]
  },
  {
   "cell_type": "code",
   "execution_count": 30,
   "id": "a3252f5e",
   "metadata": {},
   "outputs": [
    {
     "name": "stdout",
     "output_type": "stream",
     "text": [
      "There are 11 pets from east port that had treatment.\n"
     ]
    }
   ],
   "source": [
    "'''\n",
    "Per the assignment, find out the number of pets from east port.\n",
    "JOIN pets, persons based on pets.owner_id WHERE persons.city='east port'. SELECT count(*) to get number.\n",
    "Also include AND pets.treatment_done=1.\n",
    "Read the data from the database by using a for loop on the rows of data.\n",
    "'''\n",
    "pet_ep_treat = cursor.execute(\"SELECT count(*) FROM pets JOIN persons ON pets.owner_id = persons.id WHERE persons.city='east port' AND pets.treatment_done=1\")\n",
    "for row in pet_ep_treat:\n",
    "    print('There are {} pets from east port that had treatment.'.format(row[0]))"
   ]
  }
 ],
 "metadata": {
  "kernelspec": {
   "display_name": "Python 3 (ipykernel)",
   "language": "python",
   "name": "python3"
  },
  "language_info": {
   "codemirror_mode": {
    "name": "ipython",
    "version": 3
   },
   "file_extension": ".py",
   "mimetype": "text/x-python",
   "name": "python",
   "nbconvert_exporter": "python",
   "pygments_lexer": "ipython3",
   "version": "3.9.7"
  }
 },
 "nbformat": 4,
 "nbformat_minor": 5
}
