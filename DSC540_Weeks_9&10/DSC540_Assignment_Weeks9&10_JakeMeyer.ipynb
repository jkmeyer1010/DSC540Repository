{
 "cells": [
  {
   "cell_type": "markdown",
   "id": "895f6b5d",
   "metadata": {},
   "source": [
    "# DCS 540 Data Preparation (DSC540-T301 2225-1)\n",
    "## Bellevue University\n",
    "## Assignment: Weeks 9 & 10 Exercises\n",
    "## Author: Jake Meyer\n",
    "## Date: 05/18/2022"
   ]
  },
  {
   "cell_type": "markdown",
   "id": "2be1fff6",
   "metadata": {},
   "source": [
    "### 1. Data Wrangling with Python: Activity 9, page 294\n",
    "### Activity 9: Extracting the Top 100 eBooks from Gutenberg"
   ]
  },
  {
   "cell_type": "code",
   "execution_count": 124,
   "id": "228ed94d",
   "metadata": {},
   "outputs": [],
   "source": [
    "'''\n",
    "Import the essential libraries to complete Activity 9 (and other Activities for Weeks 9 & 10).\n",
    "Any additional libraries will be imported later in the notebook.\n",
    "'''\n",
    "import numpy as np\n",
    "\n",
    "import pandas as pd\n",
    "   \n",
    "from bs4 import BeautifulSoup\n",
    "\n",
    "import requests\n",
    "\n",
    "import re\n",
    "\n",
    "import urllib.request, urllib.parse, urllib.error\n",
    "\n",
    "import ssl\n",
    "\n",
    "import json\n",
    "\n",
    "import matplotlib.pyplot as plt"
   ]
  },
  {
   "cell_type": "code",
   "execution_count": 125,
   "id": "34d37341",
   "metadata": {},
   "outputs": [],
   "source": [
    "'''\n",
    "Check the SSL certificate.\n",
    "'''\n",
    "context = ssl.create_default_context()\n",
    "context.check_hostname = False\n",
    "context.verify_mode = ssl.CERT_NONE"
   ]
  },
  {
   "cell_type": "code",
   "execution_count": 126,
   "id": "be3c5e42",
   "metadata": {},
   "outputs": [],
   "source": [
    "'''\n",
    "Activity 9 requires the URL of Project Gutenberg's Top 100 eBooks.\n",
    "URL from Data Wrangling with Python GitHub Repository is provided below:\n",
    "https://www.gutenberg.org/browse/scores/top\n",
    "Follow the steps on page 239 to store url link and use get method from requests.\n",
    "'''\n",
    "url1 = 'https://www.gutenberg.org/browse/scores/top'\n",
    "response = requests.get(url1)"
   ]
  },
  {
   "cell_type": "code",
   "execution_count": 127,
   "id": "33cf3994",
   "metadata": {},
   "outputs": [],
   "source": [
    "'''\n",
    "Create a small function to check the status of the request to the url.\n",
    "Follow the steps on page 241 from the text (Data Wrangling with Python)\n",
    "to create the function.\n",
    "'''\n",
    "def status_check(r):\n",
    "    if r.status_code==200:\n",
    "        print(\"Success!\")\n",
    "        return 1\n",
    "    else:\n",
    "        print(\"Failed, something went wrong!\")\n",
    "        return -1"
   ]
  },
  {
   "cell_type": "code",
   "execution_count": 128,
   "id": "d53a1a1d",
   "metadata": {},
   "outputs": [
    {
     "name": "stdout",
     "output_type": "stream",
     "text": [
      "Success!\n"
     ]
    },
    {
     "data": {
      "text/plain": [
       "1"
      ]
     },
     "execution_count": 128,
     "metadata": {},
     "output_type": "execute_result"
    }
   ],
   "source": [
    "'''\n",
    "Check the request with the status_check(r) function.\n",
    "Determine if the request was successful.\n",
    "'''\n",
    "status_check(response)"
   ]
  },
  {
   "cell_type": "code",
   "execution_count": 129,
   "id": "f03b606a",
   "metadata": {},
   "outputs": [],
   "source": [
    "'''\n",
    "Create a function that will check the encoding of the web page.\n",
    "Reference page 242 for additional details for the function.\n",
    "'''\n",
    "def encoding_check(r):\n",
    "    return (r.encoding)"
   ]
  },
  {
   "cell_type": "code",
   "execution_count": 130,
   "id": "d6c95b5b",
   "metadata": {},
   "outputs": [
    {
     "data": {
      "text/plain": [
       "'UTF-8'"
      ]
     },
     "execution_count": 130,
     "metadata": {},
     "output_type": "execute_result"
    }
   ],
   "source": [
    "'''\n",
    "Check the encoding type of the web page. \n",
    "'''\n",
    "encoding_check(response)"
   ]
  },
  {
   "cell_type": "code",
   "execution_count": 131,
   "id": "596ca344",
   "metadata": {},
   "outputs": [],
   "source": [
    "'''\n",
    "Create a utility function to decode the contents of the response.\n",
    "Reference page 242 for guidance on creating the utility function.\n",
    "'''\n",
    "def decode_content(r,encoding):\n",
    "    return (r.content.decode(encoding))"
   ]
  },
  {
   "cell_type": "code",
   "execution_count": 132,
   "id": "0782c8eb",
   "metadata": {},
   "outputs": [],
   "source": [
    "'''\n",
    "Use the function to decode the contents of response.\n",
    "'''\n",
    "contents = decode_content(response,encoding_check(response))"
   ]
  },
  {
   "cell_type": "code",
   "execution_count": 133,
   "id": "fd676cbc",
   "metadata": {},
   "outputs": [
    {
     "data": {
      "text/plain": [
       "str"
      ]
     },
     "execution_count": 133,
     "metadata": {},
     "output_type": "execute_result"
    }
   ],
   "source": [
    "'''\n",
    "Check the type of content.\n",
    "'''\n",
    "type(contents)"
   ]
  },
  {
   "cell_type": "code",
   "execution_count": 134,
   "id": "62110823",
   "metadata": {},
   "outputs": [],
   "source": [
    "'''\n",
    "Read the content with Beautiful Soup.\n",
    "From page 244, use BeautifulSoup() to read the content with 'html.parser'.\n",
    "'''\n",
    "soup = BeautifulSoup(contents, 'html.parser')"
   ]
  },
  {
   "cell_type": "code",
   "execution_count": 135,
   "id": "9e76b8c6",
   "metadata": {},
   "outputs": [
    {
     "name": "stdout",
     "output_type": "stream",
     "text": [
      "<!DOCTYPE html>\n",
      "<html class=\"client-nojs\" dir=\"ltr\" lang=\"en\">\n",
      " <head>\n",
      "  <meta charset=\"utf-8\"/>\n",
      "  <title>\n",
      "   Top 100 | Project Gutenberg\n",
      "  </title>\n",
      "  <link href=\"/gutenberg/style.css?v=1.1\" rel=\"stylesheet\"/>\n",
      "  <link href=\"/gutenberg/collapsible.css?1.1\" rel=\"stylesheet\"/>\n",
      "  <link href=\"/gutenberg/new_nav.css?v=1.321231\" rel=\"stylesheet\"/>\n",
      "  <link href=\"/gutenberg/pg-desktop-one.css\" rel=\"stylesheet\"/>\n",
      "  <meta content=\"width=device-width, initial-scale=1\" name=\"viewport\"/>\n",
      "  <meta content=\"books, ebooks, free, kindle, android, iphone, ipad\" name=\"keywords\">\n",
      "   <meta content=\"wucOEvSnj5kP3Ts_36OfP64laakK-1mVTg-ptrGC9io\" name=\"google-site-verification\"/>\n",
      "   <meta content=\"4WNaCljsE-A82vP_ih2H_UqXZvM\" name=\"alexaVerifyID\"/>\n",
      "   <link href=\"https://www.gnu.org/copyleft/fdl.html\" rel=\"copyright\">\n",
      "    <link href=\"/gutenberg/favicon.ico?v=1.1\" rel=\"shortcut icon\">\n",
      "     <meta content=\"Project Gutenberg\" property=\"og:title\"/>\n",
      "     <meta content=\"website\" property=\"og:type\"/>\n",
      "     <meta content=\"https://www.gutenberg.org/\" property=\"og:url\"/>\n",
      "     <meta content=\"Project Gutenberg is a library of free eBooks.\" property=\"og:description\"/>\n",
      "     <meta content=\"615269807\" property=\"fb:admins\"/>\n",
      "     <meta content=\"115319388529183\" property=\"fb:app_id\"/>\n",
      "     <meta content=\"Project Gutenberg\" property=\"og:site_name\"/>\n",
      "     <meta content=\"https://www.gutenberg.org/gutenberg/pg-logo-144x144.png\" property=\"og:image\"/>\n",
      "    </link>\n",
      "   </link>\n",
      "  </meta>\n",
      " </head>\n",
      " <body>\n",
      "  <div class=\"container\">\n",
      "   <!-- start body -->\n",
      "   <nav>\n",
      "    <!--<div id=\"main_logo\"> -->\n",
      "    <a class=\"no-hover\" href=\"/\" id=\"main_logo\">\n",
      "     <img alt=\"Project Gutenberg\" draggable=\"false\" src=\"/gutenberg/pg-logo-129x80.png\"/>\n",
      "    </a>\n",
      "    <!--\t</div>-->\n",
      "    <div id=\"menu\">\n",
      "     <label for=\"tm\" id=\"toggle-menu\">\n",
      "      Menu\n",
      "      <span class=\"drop-icon\">\n",
      "       ▾\n",
      "      </span>\n",
      "     </label>\n",
      "     <input id=\"tm\" type=\"checkbox\"/>\n",
      "     <ul class=\"main-menu cf\">\n",
      "      <li>\n",
      "       <a href=\"/about/\">\n",
      "        About\n",
      "        <span class=\"drop-icon\">\n",
      "         ▾\n",
      "        </span>\n",
      "       </a>\n",
      "       <label class=\"drop-icon\" for=\"sm0\" title=\"Toggle Drop-down\">\n",
      "        ▾\n",
      "       </label>\n",
      "       <input id=\"sm0\" type=\"checkbox\"/>\n",
      "       <ul class=\"sub-menu\">\n",
      "        <li>\n",
      "         <a href=\"/about/\">\n",
      "          About Project Gutenberg\n",
      "         </a>\n",
      "        </li>\n",
      "        <li>\n",
      "         <a href=\"/policy/collection_development.html\">\n",
      "          Collection Development\n",
      "         </a>\n",
      "        </li>\n",
      "        <li>\n",
      "         <a href=\"/about/cont\n"
     ]
    }
   ],
   "source": [
    "'''\n",
    "Review the first 2500 characters of content within the Gutenberg Project site.\n",
    "'''\n",
    "print(soup.prettify()[0:2500])"
   ]
  },
  {
   "cell_type": "code",
   "execution_count": 136,
   "id": "6904e10f",
   "metadata": {},
   "outputs": [],
   "source": [
    "'''\n",
    "Create a list of links by using find_all() for href elements.\n",
    "Use a for loop (similar to the one seen on page 253) to create the list of links \n",
    "'''\n",
    "# Empty list for the HTTP hyperlinks\n",
    "link_list = []\n",
    "\n",
    "# For loop to get all the href elements and store in link_list.\n",
    "for link in soup.find_all('a'):\n",
    "    link_list.append(link.get('href'))"
   ]
  },
  {
   "cell_type": "code",
   "execution_count": 137,
   "id": "66c47e71",
   "metadata": {},
   "outputs": [
    {
     "data": {
      "text/plain": [
       "['/',\n",
       " '/about/',\n",
       " '/about/',\n",
       " '/policy/collection_development.html',\n",
       " '/about/contact_information.html',\n",
       " '/about/background/',\n",
       " '/policy/permission.html',\n",
       " '/policy/privacy_policy.html',\n",
       " '/policy/terms_of_use.html',\n",
       " '/ebooks/',\n",
       " '/ebooks/',\n",
       " '/ebooks/bookshelf/',\n",
       " '/browse/scores/top',\n",
       " '/ebooks/offline_catalogs.html',\n",
       " '/help/',\n",
       " '/help/',\n",
       " '/help/copyright.html',\n",
       " '/help/errata.html',\n",
       " '/help/file_formats.html',\n",
       " '/help/faq.html',\n",
       " '/policy/',\n",
       " '/help/public_domain_ebook_submission.html',\n",
       " '/help/submitting_your_own_work.html',\n",
       " '/help/mobile.html',\n",
       " '/attic/',\n",
       " '/donate/',\n",
       " '/donate/',\n",
       " '#books-last1',\n",
       " '#authors-last1',\n",
       " '#books-last7',\n",
       " '#authors-last7',\n",
       " '#books-last30',\n",
       " '#authors-last30',\n",
       " '/ebooks/1342',\n",
       " '/ebooks/84',\n",
       " '/ebooks/11',\n",
       " '/ebooks/64317',\n",
       " '/ebooks/1661',\n",
       " '/ebooks/20228',\n",
       " '/ebooks/98',\n",
       " '/ebooks/174',\n",
       " '/ebooks/2542',\n",
       " '/ebooks/345',\n",
       " '/ebooks/844',\n",
       " '/ebooks/2701',\n",
       " '/ebooks/1952',\n",
       " '/ebooks/1400',\n",
       " '/ebooks/68107',\n",
       " '/ebooks/2591',\n",
       " '/ebooks/1080']"
      ]
     },
     "execution_count": 137,
     "metadata": {},
     "output_type": "execute_result"
    }
   ],
   "source": [
    "'''\n",
    "Print the first 50 elements in link_list.\n",
    "'''\n",
    "link_list[0:50]"
   ]
  },
  {
   "cell_type": "code",
   "execution_count": 138,
   "id": "b60f5dbb",
   "metadata": {},
   "outputs": [],
   "source": [
    "'''\n",
    "Use Regex to find the file digits for the https links.\n",
    "Create an empty list to store the file digits.\n",
    "'''\n",
    "booknum = []"
   ]
  },
  {
   "cell_type": "code",
   "execution_count": 139,
   "id": "ec339eab",
   "metadata": {},
   "outputs": [],
   "source": [
    "'''\n",
    "Create a function to find the file numbers for the numeric digits within the href strings.\n",
    "Reqiired help from GitHub repository for the function to generate list of file numbers over \n",
    "range 33-133. \n",
    "'''\n",
    "for i in range(33,133):\n",
    "    link=link_list[i]\n",
    "    link=link.strip()\n",
    "    n=re.findall('[0-9]+',link)\n",
    "    if len(n)==1:\n",
    "        booknum.append(int(n[0]))"
   ]
  },
  {
   "cell_type": "code",
   "execution_count": 140,
   "id": "a03dca8b",
   "metadata": {},
   "outputs": [
    {
     "name": "stdout",
     "output_type": "stream",
     "text": [
      "[1342, 84, 11, 64317, 1661, 20228, 98, 174, 2542, 345, 844, 2701, 1952, 1400, 68107, 2591, 1080, 35899, 1260, 68103, 43, 47629, 32449, 76, 25344, 68105, 1184, 5200, 2852, 4300, 2600, 55, 68101, 219, 2554, 1232, 6130, 996, 5740, 46, 74, 68102, 120, 408, 2814, 35, 1727, 514, 205, 160, 45, 33044, 16, 1250, 4363, 215, 135, 158, 68099, 30254, 28054, 768, 244, 68096, 36, 766, 44440, 68108, 7370, 1513, 3825, 2500, 6737, 829, 236, 730, 902, 67098, 10676, 1497, 68110, 68106, 2148, 16328, 58585, 1399, 27827, 3207, 203, 10007, 113, 15845, 41, 3600, 68094, 105, 68098, 10, 2781, 43453]\n"
     ]
    }
   ],
   "source": [
    "'''\n",
    "Print the booknum list with all the file digits stored within it.\n",
    "'''\n",
    "print(booknum)"
   ]
  },
  {
   "cell_type": "code",
   "execution_count": 141,
   "id": "6c594d6b",
   "metadata": {},
   "outputs": [
    {
     "name": "stdout",
     "output_type": "stream",
     "text": [
      "\n",
      "\n",
      "\n",
      "\n",
      "Top 100 | Project Gutenberg\n",
      "\n",
      "\n",
      "\n",
      "\n",
      "\n",
      "\n",
      "\n",
      "\n",
      "\n",
      "\n",
      "\n",
      "\n",
      "\n",
      "\n",
      "\n",
      "\n",
      "\n",
      "\n",
      "\n",
      "\n",
      "\n",
      "\n",
      "\n",
      "\n",
      "\n",
      "\n",
      "\n",
      "Menu▾\n",
      "\n",
      "\n",
      "\n",
      "About\n",
      "          ▾\n",
      "\n",
      "▾\n",
      "\n",
      "\n",
      "About Project Gutenberg\n",
      "Collection Development\n",
      "Contact Us\n",
      "History & Philosophy\n",
      "Permissions & License\n",
      "Privacy Policy\n",
      "Terms of Use\n",
      "\n",
      "\n",
      "\n",
      "Search and Browse\n",
      "      \t  ▾\n",
      "\n",
      "▾\n",
      "\n",
      "\n",
      "Book Search\n",
      "Bookshelves\n",
      "Frequently Downloaded\n",
      "Offline Catalogs\n",
      "\n",
      "\n",
      "\n",
      "Help\n",
      "          ▾\n",
      "\n",
      "▾\n",
      "\n",
      "\n",
      "All help topics →\n",
      "Copyright Procedures\n",
      "Errata, Fixes and Bug Reports\n",
      "File Formats\n",
      "Frequently Asked Questions\n",
      "Policies →\n",
      "Public Domain eBook Submission\n",
      "Submitting Your Own Work\n",
      "Tablets, Phones and eReaders\n",
      "The Attic →\n",
      "\n",
      "\n",
      "Donate\n",
      "\n",
      "\n",
      "\n",
      "\n",
      "\n",
      "\n",
      "\n",
      "\n",
      "\n",
      "\n",
      "Donation\n",
      "\n",
      "\n",
      "\n",
      "\n",
      "\n",
      "\n",
      "\n",
      "Frequently Viewed or Downloaded\n",
      "These listings are based on the number of times each eBook gets downloaded.\n",
      "      Multiple downloads from the same Internet address on the same day count as one download, and addresses that download more than 100 eBooks in a day are considered robots and are not counted.\n",
      "\n",
      "Downloaded Books\n",
      "2022-05-17158578\n",
      "last 7 days1084298\n",
      "last 30 days5020257\n",
      "\n",
      "\n",
      "\n",
      "Top 100 EBooks yesterday\n",
      "Top 100 Authors yesterday\n",
      "Top 100 EBooks last 7 days\n",
      "Top 100 Authors last 7 days\n",
      "Top 100 EBooks last 30 days\n",
      "Top 100 Authors last 30 days\n",
      "\n",
      "\n",
      "Top 100 EBooks yesterday\n",
      "\n",
      "Pride and Prejudice by Jane Austen (1990)\n",
      "Frankenstein; Or, The Modern Prometheus by Mary Wollstonecraft Shelley (1724)\n",
      "Alice's Adventures in Wonderland by Lewis Carroll (987)\n",
      "The Great Gatsby by F. Scott  Fitzgerald (961)\n",
      "The Adventures of Sherlock Holmes by Arthur Conan Doyle (865)\n",
      "Noli Me Tangere by José Rizal (849)\n",
      "A Tale of Two Cities by Charles Dickens (794)\n",
      "The Picture of Dorian Gray by Oscar Wilde (756)\n",
      "A Doll's House : a play by Henrik Ibsen (727)\n",
      "Dracula by Bram Stoker (717)\n",
      "The Importance of Being Earnest: A Trivial Comedy for Serious People by Oscar Wilde (656)\n",
      "Moby Dick; Or, The Whale by Herman Melville (646)\n",
      "The Yellow Wallpaper by Charlotte Perkins Gilman (556)\n",
      "Great Expectations by Charles Dickens (536)\n",
      "Juke-Box by Woodrow Wilson Smith (516)\n",
      "Grimms' Fairy Tales by Jacob Grimm and Wilhelm Grimm (481)\n",
      "A Mo\n"
     ]
    }
   ],
   "source": [
    "'''\n",
    "Assignment asks to use .text method to print only the first 2,000 characters of the soup object.\n",
    "'''\n",
    "print(soup.text[:2000])"
   ]
  },
  {
   "cell_type": "code",
   "execution_count": 142,
   "id": "57fb018d",
   "metadata": {},
   "outputs": [],
   "source": [
    "'''\n",
    "Per the assignment, search the extracted text to find the names of the Top 100 EBooks yesterday.\n",
    "Create an empty list to store title information initially. \n",
    "Also, create a start index based on the Top 100 EBooks yesterday text. \n",
    "'''\n",
    "initial_title_list = []\n",
    "\n",
    "start_index = soup.text.splitlines().index('Top 100 EBooks yesterday')"
   ]
  },
  {
   "cell_type": "code",
   "execution_count": 143,
   "id": "95de772e",
   "metadata": {},
   "outputs": [],
   "source": [
    "'''\n",
    "Create a function to go through the 100 lines following the Top 100 Ebooks yesterday text.\n",
    "Utilize splitlines() method.\n",
    "'''\n",
    "for i in range(108):\n",
    "    initial_title_list.append(soup.text.splitlines()[start_index+2+i])"
   ]
  },
  {
   "cell_type": "code",
   "execution_count": 144,
   "id": "10baf333",
   "metadata": {},
   "outputs": [],
   "source": [
    "'''\n",
    "Create an empty list to store the title text under final_title_list. \n",
    "Utilize match and span to pull only the text from the name strings.\n",
    "'''\n",
    "final_title_list = []\n",
    "\n",
    "for i in range(108):\n",
    "    id1,id2=re.match(\"^[a-zA-Z,\\.\\'\\;\\-\\:\\\" ]*\",initial_title_list[i]).span()\n",
    "    final_title_list.append(initial_title_list[i][id1:id2])\n"
   ]
  },
  {
   "cell_type": "code",
   "execution_count": 145,
   "id": "0c56001c",
   "metadata": {},
   "outputs": [
    {
     "name": "stdout",
     "output_type": "stream",
     "text": [
      "['Pride and Prejudice by Jane Austen ', 'Frankenstein; Or, The Modern Prometheus by Mary Wollstonecraft Shelley ', \"Alice's Adventures in Wonderland by Lewis Carroll \", 'The Great Gatsby by F. Scott  Fitzgerald ', 'The Adventures of Sherlock Holmes by Arthur Conan Doyle ', 'Noli Me Tangere by Jos', 'A Tale of Two Cities by Charles Dickens ', 'The Picture of Dorian Gray by Oscar Wilde ', \"A Doll's House : a play by Henrik Ibsen \", 'Dracula by Bram Stoker ', 'The Importance of Being Earnest: A Trivial Comedy for Serious People by Oscar Wilde ', 'Moby Dick; Or, The Whale by Herman Melville ', 'The Yellow Wallpaper by Charlotte Perkins Gilman ', 'Great Expectations by Charles Dickens ', 'Juke-Box by Woodrow Wilson Smith ', \"Grimms' Fairy Tales by Jacob Grimm and Wilhelm Grimm \", 'A Modest Proposal by Jonathan Swift ', 'The Philippines a Century Hence by Jos', 'Jane Eyre: An Autobiography by Charlotte Bront', 'Twenty years at sea: Leaves from my old log-books by Frederic Stanhope Hill ', 'The Strange Case of Dr. Jekyll and Mr. Hyde by Robert Louis Stevenson ', 'Ang \"Filibusterismo\" ', 'Japanese Girls and Women by Alice Mabel Bacon ', 'Adventures of Huckleberry Finn by Mark Twain ', 'The Scarlet Letter by Nathaniel Hawthorne ', 'The Cabala by Thornton Niven Wilder ', 'The Count of Monte Cristo, Illustrated by Alexandre Dumas ', 'Metamorphosis by Franz Kafka ', 'The Hound of the Baskervilles by Arthur Conan Doyle ', 'Ulysses by James Joyce ', 'War and Peace by graf Leo Tolstoy ', 'The Wonderful Wizard of Oz by L. Frank  Baum ', 'Yermah the Dorado: The story of a lost race by Frona Eunice Wait ', 'Heart of Darkness by Joseph Conrad ', 'Crime and Punishment by Fyodor Dostoyevsky ', 'The Prince by Niccol', 'The Iliad by Homer ', 'Don Quixote by Miguel de Cervantes Saavedra ', 'Tractatus Logico-Philosophicus by Ludwig Wittgenstein ', 'A Christmas Carol in Prose; Being a Ghost Story of Christmas by Charles Dickens ', 'The Adventures of Tom Sawyer, Complete by Mark Twain ', \"The squaw spy; or the rangers of the lava-beds: Beadle's Pocket Novels No. \", 'Treasure Island by Robert Louis Stevenson ', 'The Souls of Black Folk by W. E. B.  Du Bois ', 'Dubliners by James Joyce ', 'The Time Machine by H. G.  Wells ', 'The Odyssey by Homer ', 'Little Women by Louisa May Alcott ', 'Walden, and On The Duty Of Civil Disobedience by Henry David Thoreau ', 'The Awakening, and Selected Short Stories by Kate Chopin ', 'Anne of Green Gables by L. M.  Montgomery ', 'Birds from North Borneo by Max C. Thompson ', 'Peter Pan by J. M.  Barrie ', 'Anthem by Ayn Rand ', 'Beyond Good and Evil by Friedrich Wilhelm Nietzsche ', 'The Call of the Wild by Jack London ', 'Les Mis', 'Emma by Jane Austen ', 'Malthus and his work by James Bonar ', 'The Romance of Lust: A classic Victorian erotic novel by Anonymous ', 'The Brothers Karamazov by Fyodor Dostoyevsky ', 'Wuthering Heights by Emily Bront', 'A Study in Scarlet by Arthur Conan Doyle ', 'Fifty years hence: or, What May Be in ', 'The War of the Worlds by H. G.  Wells ', 'David Copperfield by Charles Dickens ', \"Mother Nature's Toy-Shop by Adelia B.  Beard and Lina Beard \", 'Nick Carter Stories No. ', 'Second Treatise of Government by John Locke ', 'Romeo and Juliet by William Shakespeare ', 'Pygmalion by Bernard Shaw ', 'Siddhartha by Hermann Hesse ', 'The Social Cancer: A Complete English Version of Noli Me Tangere by Jos', \"Gulliver's Travels into Several Remote Nations of the World by Jonathan Swift \", 'The Jungle Book by Rudyard Kipling ', 'Oliver Twist by Charles Dickens ', 'The Happy Prince, and Other Tales by Oscar Wilde ', 'Winnie-the-Pooh by A. A.  Milne ', 'The Reign of Greed by Jos', 'The Republic by Plato ', 'Angola and the River Congo by Joachim John Monteiro ', 'Nick Carter Stories No. ', 'The Works of Edgar Allan Poe ', 'Beowulf: An Anglo-Saxon Epic Poem ', 'The Prophet by Kahlil Gibran ', 'Anna Karenina by graf Leo Tolstoy ', 'The Kama Sutra of Vatsyayana by Vatsyayana ', 'Leviathan by Thomas Hobbes ', \"Uncle Tom's Cabin by Harriet Beecher Stowe \", 'Carmilla by Joseph Sheridan Le Fanu ', 'The Secret Garden by Frances Hodgson Burnett ', 'Florante at Laura by Francisco Balagtas ', 'The Legend of Sleepy Hollow by Washington Irving ', 'Essays of Michel de Montaigne ', 'Nick Carter Stories No. ', 'Persuasion by Jane Austen ', 'Little Willie by Eugene Field ', 'The King James Version of the Bible ', 'Just So Stories by Rudyard Kipling ', 'A Pickle for the Knowing Ones by Timothy Dexter ']\n"
     ]
    }
   ],
   "source": [
    "'''\n",
    "Print the Ebook titles under the Top 100 Authors yesterday section.\n",
    "Skip the first 8 lines since the starting index is from the section above.\n",
    "'''\n",
    "print(final_title_list[8:]) "
   ]
  },
  {
   "cell_type": "markdown",
   "id": "9e04bbf7",
   "metadata": {},
   "source": [
    "### 2. Data Wrangling with Python: Activity 10, page 295\n",
    "### Activity 10: Building Your Own Movie Database by Reading an API"
   ]
  },
  {
   "cell_type": "code",
   "execution_count": 146,
   "id": "ba262ff8",
   "metadata": {},
   "outputs": [],
   "source": [
    "'''\n",
    "Obtain an API Key from http://www.omdbapi.com/.\n",
    "Create a JSON file with the API Key and store in same working repository as this notebook.\n",
    "The API Key is stored under 'OMDBapi' in APIkey.json.\n",
    "Open the APIkey.json file in this cell.\n",
    "'''\n",
    "with open('APIkey.json') as f:\n",
    "    keys = json.load(f)\n",
    "    omdbapi = keys['OMDBapi']"
   ]
  },
  {
   "cell_type": "code",
   "execution_count": 147,
   "id": "fe46db2b",
   "metadata": {},
   "outputs": [],
   "source": [
    "'''\n",
    "The url provided in the email from the site for the API Key is listed below:\n",
    "http://www.omdbapi.com/?i=tt3896198&apikey=xxxxxxx.\n",
    "This should be the final URL used, but I will construct the final URL with the following steps.\n",
    "'''\n",
    "serviceurl = 'http://www.omdbapi.com/?'\n",
    "apikey = '&apikey='+omdbapi"
   ]
  },
  {
   "cell_type": "code",
   "execution_count": 148,
   "id": "6c3c6232",
   "metadata": {},
   "outputs": [],
   "source": [
    "'''\n",
    "Per the assignment, write a utility function called print_json.\n",
    "The utility function will print movie data from a JSON file.\n",
    "'''\n",
    "def print_json(json_data):\n",
    "    list_keys=['Title', 'Year', 'Rated', 'Released', 'Runtime', 'Genre', 'Director', 'Writer', \n",
    "               'Actors', 'Plot', 'Language', 'Country', 'Awards', 'Ratings', \n",
    "               'Metascore', 'imdbRating', 'imdbVotes', 'imdbID']\n",
    "    print(\"-\"*50)\n",
    "    for k in list_keys:\n",
    "        if k in list(json_data.keys()):\n",
    "            print(f\"{k}: {json_data[k]}\")\n",
    "    print(\"-\"*50)"
   ]
  },
  {
   "cell_type": "code",
   "execution_count": 149,
   "id": "42b86d7b",
   "metadata": {},
   "outputs": [],
   "source": [
    "'''\n",
    "Per the assignment, write a utility function called save_poster.\n",
    "Use the os module.\n",
    "The poster data is stored under the JSON key 'Poster'.\n",
    "Write the poster data to a file and close it once done.\n",
    "'''\n",
    "def save_poster(json_data):\n",
    "    import os\n",
    "    title = json_data['Title']\n",
    "    poster_url = json_data['Poster']\n",
    "    # Splits the poster url by '.' and picks up the last string as file extension\n",
    "    poster_file_extension=poster_url.split('.')[-1]\n",
    "    # Reads the image file from web\n",
    "    poster_data = urllib.request.urlopen(poster_url).read()\n",
    "        \n",
    "    savelocation=os.getcwd()+'\\\\'+'Posters'+'\\\\'\n",
    "    # Creates new directory if the directory does not exist. Otherwise, just use the existing path.\n",
    "    if not os.path.isdir(savelocation):\n",
    "        os.mkdir(savelocation)\n",
    "    \n",
    "    filename=savelocation+str(title)+'.'+poster_file_extension\n",
    "    f=open(filename,'wb')\n",
    "    f.write(poster_data)\n",
    "    f.close()"
   ]
  },
  {
   "cell_type": "code",
   "execution_count": 150,
   "id": "11d4d765",
   "metadata": {},
   "outputs": [],
   "source": [
    "'''\n",
    "Per the assignment, write a utility function called search_movie.\n",
    "The function will search for a movie by name, save the movie poster in the \n",
    "working repository, and utilize try-except loops. \n",
    "'''\n",
    "def search_movie(title):\n",
    "    try:\n",
    "        url = serviceurl + urllib.parse.urlencode({'t': str(title)})+apikey\n",
    "        print(f'Retrieving the data of \"{title}\" now... ')\n",
    "        print(url)\n",
    "        uh = urllib.request.urlopen(url)\n",
    "        data = uh.read()\n",
    "        json_data=json.loads(data)\n",
    "        \n",
    "        if json_data['Response']=='True':\n",
    "            print_json(json_data)\n",
    "            # Asks user whether to download the poster of the movie\n",
    "            if json_data['Poster']!='N/A':\n",
    "                save_poster(json_data)\n",
    "        else:\n",
    "            print(\"Error encountered: \",json_data['Error'])\n",
    "    \n",
    "    except urllib.error.URLError as e:\n",
    "        print(f\"ERROR: {e.reason}\")"
   ]
  },
  {
   "cell_type": "code",
   "execution_count": 151,
   "id": "33e7a7a3",
   "metadata": {},
   "outputs": [
    {
     "name": "stdout",
     "output_type": "stream",
     "text": [
      "Retrieving the data of \"Titanic\" now... \n",
      "http://www.omdbapi.com/?t=Titanic&apikey=4ab138d1\n",
      "--------------------------------------------------\n",
      "Title: Titanic\n",
      "Year: 1997\n",
      "Rated: PG-13\n",
      "Released: 19 Dec 1997\n",
      "Runtime: 194 min\n",
      "Genre: Drama, Romance\n",
      "Director: James Cameron\n",
      "Writer: James Cameron\n",
      "Actors: Leonardo DiCaprio, Kate Winslet, Billy Zane\n",
      "Plot: A seventeen-year-old aristocrat falls in love with a kind but poor artist aboard the luxurious, ill-fated R.M.S. Titanic.\n",
      "Language: English, Swedish, Italian, French\n",
      "Country: United States, Mexico\n",
      "Awards: Won 11 Oscars. 125 wins & 83 nominations total\n",
      "Ratings: [{'Source': 'Internet Movie Database', 'Value': '7.9/10'}, {'Source': 'Rotten Tomatoes', 'Value': '87%'}, {'Source': 'Metacritic', 'Value': '75/100'}]\n",
      "Metascore: 75\n",
      "imdbRating: 7.9\n",
      "imdbVotes: 1,131,404\n",
      "imdbID: tt0120338\n",
      "--------------------------------------------------\n"
     ]
    }
   ],
   "source": [
    "'''\n",
    "Run a test of search_movie() by searching for Titanic.\n",
    "'''\n",
    "search_movie(\"Titanic\")"
   ]
  },
  {
   "cell_type": "code",
   "execution_count": 152,
   "id": "be04703d",
   "metadata": {},
   "outputs": [
    {
     "name": "stdout",
     "output_type": "stream",
     "text": [
      "Retrieving the data of \"random_error\" now... \n",
      "http://www.omdbapi.com/?t=random_error&apikey=4ab138d1\n",
      "Error encountered:  Movie not found!\n"
     ]
    }
   ],
   "source": [
    "'''\n",
    "Run a test of search_movie() by entering random_error.\n",
    "'''\n",
    "search_movie(\"random_error\")"
   ]
  },
  {
   "cell_type": "markdown",
   "id": "c6d1d9d5",
   "metadata": {},
   "source": [
    "### 3. Connect to the Twitter API and do a simple data pull\n",
    "* a. If you don’t have a twitter account – create one at twitter.com/signup (you can delete the account after this assignment)\n",
    "* b. Sign in to apps.twitter.com\n",
    "* c. Click “Create New App”\n",
    "* d. Give your app a name and description\n",
    "* e. Agree to the developer agreement – you will want to make sure to indicate this is for a class project, and this step can take several days to get through, so don’t wait until last minute to complete this portion of the assignment\n",
    "* f. Create an access token\n",
    "* g. You should receive a consumer key and a token\n",
    "* h. Using either the instructions from the book on connecting to an API or for help look here – pull back data searching for “Bellevue University” and “Data Science” (or something else you are interested in)\n",
    "* i. How to Create a Twitter App and API Interface via Python. (Grogan, 2016)\n",
    "* ii. Welcome Python-Twitter’s Documentation!  (The Python-Twitter Developers, 2016)"
   ]
  },
  {
   "cell_type": "code",
   "execution_count": 153,
   "id": "fa566085",
   "metadata": {},
   "outputs": [
    {
     "data": {
      "text/plain": [
       "'\\nInstall twitter modules.\\n'"
      ]
     },
     "execution_count": 153,
     "metadata": {},
     "output_type": "execute_result"
    }
   ],
   "source": [
    "'''\n",
    "Install twitter modules.\n",
    "'''\n",
    "# pip install twitter\n",
    "# pip install python-twitter"
   ]
  },
  {
   "cell_type": "code",
   "execution_count": 154,
   "id": "4c76f613",
   "metadata": {},
   "outputs": [],
   "source": [
    "'''\n",
    "Import twitter.\n",
    "'''\n",
    "import twitter"
   ]
  },
  {
   "cell_type": "code",
   "execution_count": 155,
   "id": "dfbb7c7e",
   "metadata": {},
   "outputs": [],
   "source": [
    "'''\n",
    "Created an external JSON file with the consumer key, consumer secret key, access token key, and access token secret key.\n",
    "Use the with open() function to read the JSON keys and store under each variable name with an _input.\n",
    "'''\n",
    "with open('TwitterAPIkey.json') as f:\n",
    "    keys = json.load(f)\n",
    "    consumer_key_input = keys['consumer_key']\n",
    "    consumer_secret_input = keys['consumer_secret']\n",
    "    access_token_key_input = keys['access_token_key']\n",
    "    access_token_secret_input = keys['access_token_secret']"
   ]
  },
  {
   "cell_type": "code",
   "execution_count": 156,
   "id": "86a3dd66",
   "metadata": {},
   "outputs": [],
   "source": [
    "'''\n",
    "Use twitter.Api() to conncect to the twitter API as specified in the following website link:\n",
    "https://www.sitepoint.com/how-to-create-a-twitter-app-and-api-interface-via-python/\n",
    "'''\n",
    "api = twitter.Api(consumer_key=consumer_key_input,\n",
    "    consumer_secret=consumer_secret_input,\n",
    "    access_token_key=access_token_key_input,\n",
    "    access_token_secret=access_token_secret_input)"
   ]
  },
  {
   "cell_type": "code",
   "execution_count": 157,
   "id": "39b043aa",
   "metadata": {},
   "outputs": [
    {
     "name": "stdout",
     "output_type": "stream",
     "text": [
      "{\"created_at\": \"Mon May 16 04:42:06 +0000 2022\", \"default_profile\": true, \"description\": \"Male. Engineer. 30 years old.\", \"friends_count\": 1, \"id\": 1526060169200709633, \"id_str\": \"1526060169200709633\", \"name\": \"Jake Meyer\", \"profile_background_color\": \"F5F8FA\", \"profile_image_url\": \"http://pbs.twimg.com/profile_images/1526060397278638080/YDeXU_Fb_normal.png\", \"profile_image_url_https\": \"https://pbs.twimg.com/profile_images/1526060397278638080/YDeXU_Fb_normal.png\", \"profile_link_color\": \"1DA1F2\", \"profile_sidebar_border_color\": \"C0DEED\", \"profile_sidebar_fill_color\": \"DDEEF6\", \"profile_text_color\": \"333333\", \"profile_use_background_image\": true, \"protected\": true, \"screen_name\": \"meyerjake46\", \"withheld_in_countries\": []}\n"
     ]
    }
   ],
   "source": [
    "'''\n",
    "Verify the connection with the Twitter API.\n",
    "'''\n",
    "print(api.VerifyCredentials())"
   ]
  },
  {
   "cell_type": "code",
   "execution_count": 158,
   "id": "740ddc5e",
   "metadata": {},
   "outputs": [
    {
     "data": {
      "text/plain": [
       "[Status(ID=1527008349509890052, ScreenName=ABDugoutStories, Created=Wed May 18 19:28:55 +0000 2022, Text='RT @DawgsAcademy: Logan Grant, recent Bellevue University commit, had another outstanding year for the Bismarck State Mystics!\\n\\nLook for Lo…'),\n",
       " Status(ID=1526992898192920577, ScreenName=JoeMcFarland, Created=Wed May 18 18:27:31 +0000 2022, Text='RT @DawgsAcademy: Logan Grant, recent Bellevue University commit, had another outstanding year for the Bismarck State Mystics!\\n\\nLook for Lo…'),\n",
       " Status(ID=1526989346083069956, ScreenName=GHS_Principal1, Created=Wed May 18 18:13:24 +0000 2022, Text='RT @GHSCouns: Off to Bellevue University! @GHS_Principal1 https://t.co/0iYzSChxeo'),\n",
       " Status(ID=1526989297752104963, ScreenName=GHSCouns, Created=Wed May 18 18:13:13 +0000 2022, Text='Off to Bellevue University! @GHS_Principal1 https://t.co/0iYzSChxeo'),\n",
       " Status(ID=1526987782501040129, ScreenName=CoachCoxBSB, Created=Wed May 18 18:07:12 +0000 2022, Text='RT @DawgsAcademy: Logan Grant, recent Bellevue University commit, had another outstanding year for the Bismarck State Mystics!\\n\\nLook for Lo…'),\n",
       " Status(ID=1526986095161970688, ScreenName=DawgsAcademy, Created=Wed May 18 18:00:29 +0000 2022, Text='Logan Grant, recent Bellevue University commit, had another outstanding year for the Bismarck State Mystics!\\n\\nLook… https://t.co/L6SWClB1wc'),\n",
       " Status(ID=1526925705828630529, ScreenName=kcmetrocanceled, Created=Wed May 18 14:00:31 +0000 2022, Text='Route 271 to University District Bellevue\\nDeparting Issaquah Transit Center - Bay 3 at:\\n9:25\\n\\n05/18/2022\\n#KCM_271'),\n",
       " Status(ID=1526776797441957890, ScreenName=Natashajeneeee, Created=Wed May 18 04:08:49 +0000 2022, Text=\"Bellevue University B.S. Healthcare Management '22! 👩🏿\\u200d🎓🎉🎊🥳💜 https://t.co/WKmKVwyYGg https://t.co/BmB1SLQA3d\"),\n",
       " Status(ID=1526673432250834947, ScreenName=Bellevue_Times, Created=Tue May 17 21:18:05 +0000 2022, Text='RT @drronyortega: Congratulations to Ayite D’Almeida (aka as D @OPS_BryanHigh) on qualifying for state track and signing with Nebraska Wesl…'),\n",
       " Status(ID=1526651991983656961, ScreenName=NEGoldDaly18U, Created=Tue May 17 19:52:53 +0000 2022, Text='RT @nefury00: The list is growing and not many spots left. University of Sioux Falls, Northern State, Southwest Minnesota State, Midland, B…'),\n",
       " Status(ID=1526596516877672449, ScreenName=crishm, Created=Tue May 17 16:12:27 +0000 2022, Text=\"I'm supporting @BellevueU on #DoGoodDays and hope you will, too https://t.co/DYeuyzFq7L\"),\n",
       " Status(ID=1526392049993674752, ScreenName=UFAThunder, Created=Tue May 17 02:39:58 +0000 2022, Text='RT @nefury00: The list is growing and not many spots left. University of Sioux Falls, Northern State, Southwest Minnesota State, Midland, B…'),\n",
       " Status(ID=1526391806228832256, ScreenName=papiosoftball, Created=Tue May 17 02:39:00 +0000 2022, Text='RT @nefury00: The list is growing and not many spots left. University of Sioux Falls, Northern State, Southwest Minnesota State, Midland, B…'),\n",
       " Status(ID=1526387383737978880, ScreenName=clperky5264, Created=Tue May 17 02:21:25 +0000 2022, Text='RT @nefury00: The list is growing and not many spots left. University of Sioux Falls, Northern State, Southwest Minnesota State, Midland, B…'),\n",
       " Status(ID=1526369550786232320, ScreenName=NEFuryFastpitch, Created=Tue May 17 01:10:34 +0000 2022, Text='RT @nefury00: The list is growing and not many spots left. University of Sioux Falls, Northern State, Southwest Minnesota State, Midland, B…')]"
      ]
     },
     "execution_count": 158,
     "metadata": {},
     "output_type": "execute_result"
    }
   ],
   "source": [
    "'''\n",
    "Use GetSearch() to find tweets based on the term bellevue university since 11/29/2020. Cap the tweets at a count of 15.\n",
    "'''\n",
    "api.GetSearch(term='bellevue university', since=2020-11-29, count=15)"
   ]
  },
  {
   "cell_type": "code",
   "execution_count": 159,
   "id": "da7623e6",
   "metadata": {},
   "outputs": [
    {
     "data": {
      "text/plain": [
       "[Status(ID=1526634610343522306, ScreenName=SOFIAtelescope, Created=Tue May 17 18:43:49 +0000 2022, Text='No, this isn’t a modern rendition of “The Starry Night.” \\n\\nThe role of magnetic fields in stellar birth is complica… https://t.co/5dIlXyZRf6'),\n",
       " Status(ID=1526337705973530624, ScreenName=AP, Created=Mon May 16 23:04:01 +0000 2022, Text='The official U.S. toll is based on death certificate data compiled by the CDC. But the real number of lives lost to… https://t.co/vS9zxljN7p'),\n",
       " Status(ID=1526534249930711042, ScreenName=audubonsociety, Created=Tue May 17 12:05:01 +0000 2022, Text='Being in nature brings a sense of calm and renewal. Now science is backing up our intuition with data and revealing… https://t.co/1S2LGmQaAP'),\n",
       " Status(ID=1527012526835257344, ScreenName=ecobearwitness, Created=Wed May 18 19:45:31 +0000 2022, Text='Why Sustainable Land Use Is Key To Achieve Our Carbon Neutrality Targets: The Wire Science https://t.co/1kP7xCqK9a… https://t.co/zbQDRqkPxx'),\n",
       " Status(ID=1527012410606993411, ScreenName=ana_thedataguru, Created=Wed May 18 19:45:03 +0000 2022, Text=\"It'd be an understatement to say that I'm REALLY excited about this, and makes the future of Apple Silicon in the D… https://t.co/6Rh3kv6qdz\"),\n",
       " Status(ID=1527012350594801667, ScreenName=Encrypgen, Created=Wed May 18 19:44:49 +0000 2022, Text='RT @genome_gov: This will be done through a cloud-based educational Hub that will engage with minority-serving institutions and help studen…'),\n",
       " Status(ID=1527012322379714560, ScreenName=Encrypgen, Created=Wed May 18 19:44:42 +0000 2022, Text='RT @genome_gov: .@Genome_gov has a funding opportunity to help diversify genomic data science education! https://t.co/p6AAsV26Gm'),\n",
       " Status(ID=1527012265102348291, ScreenName=BarbaraLancho, Created=Wed May 18 19:44:29 +0000 2022, Text='The effect of data sources on the measurement of open access: A comparison of Dimensions and the Web of Science | P… https://t.co/1KVLZGW5On'),\n",
       " Status(ID=1527012084835311618, ScreenName=ellislifehd, Created=Wed May 18 19:43:46 +0000 2022, Text='RT @OliverStegle: Job closing soon. Scientific coordinator for local data science activities in HD and @DKFZ. RT and get in touch if intere…'),\n",
       " Status(ID=1527012018217447424, ScreenName=angelovitzka, Created=Wed May 18 19:43:30 +0000 2022, Text='RT @MysChuff: @jomcc2011 Why will Trudeau not release this \"The Science\" he keeps claiming he has and based his vindictive policies on? Wit…')]"
      ]
     },
     "execution_count": 159,
     "metadata": {},
     "output_type": "execute_result"
    }
   ],
   "source": [
    "'''\n",
    "Use GetSearch() to find tweets based on the term data science since 1/1/2020. Cap the tweets at a count of 10.\n",
    "'''\n",
    "api.GetSearch(term='data science', since=2020-1-1, count=10)"
   ]
  },
  {
   "cell_type": "markdown",
   "id": "029d9c7a",
   "metadata": {},
   "source": [
    "### 4. Using one of the datasets provided in Weeks 7 & 8, or a dataset of your own, choose 3 of the following visualizations to complete. You must submit via PDF along with your code. You are free to use Matplotlib, Seaborn or another package if you prefer.\n",
    "* a. Line\n",
    "* b. Scatter\n",
    "* c. Bar\n",
    "* d. Histogram\n",
    "* e. Density Plot\n",
    "* f. Pie Chart"
   ]
  },
  {
   "cell_type": "code",
   "execution_count": 160,
   "id": "dd604666",
   "metadata": {},
   "outputs": [],
   "source": [
    "'''\n",
    "For the 4th part of this assignment, I've chosen to use the Milestone3_final_df.csv generated\n",
    "last week. Read the file using read_csv().\n",
    "'''\n",
    "df = pd.read_csv('Milestone3_final_df.csv')"
   ]
  },
  {
   "cell_type": "code",
   "execution_count": 161,
   "id": "92a179f4",
   "metadata": {},
   "outputs": [
    {
     "data": {
      "text/html": [
       "<div>\n",
       "<style scoped>\n",
       "    .dataframe tbody tr th:only-of-type {\n",
       "        vertical-align: middle;\n",
       "    }\n",
       "\n",
       "    .dataframe tbody tr th {\n",
       "        vertical-align: top;\n",
       "    }\n",
       "\n",
       "    .dataframe thead th {\n",
       "        text-align: right;\n",
       "    }\n",
       "</style>\n",
       "<table border=\"1\" class=\"dataframe\">\n",
       "  <thead>\n",
       "    <tr style=\"text-align: right;\">\n",
       "      <th></th>\n",
       "      <th>state_name</th>\n",
       "      <th>average_salary_state</th>\n",
       "      <th>hourly_rate_state</th>\n",
       "      <th>job_count_state</th>\n",
       "      <th>city</th>\n",
       "      <th>average_salary_city</th>\n",
       "      <th>hourly_rate_city</th>\n",
       "    </tr>\n",
       "  </thead>\n",
       "  <tbody>\n",
       "    <tr>\n",
       "      <th>0</th>\n",
       "      <td>Alabama</td>\n",
       "      <td>77743</td>\n",
       "      <td>37.38</td>\n",
       "      <td>390</td>\n",
       "      <td>No Data</td>\n",
       "      <td>77743.0</td>\n",
       "      <td>37.38</td>\n",
       "    </tr>\n",
       "    <tr>\n",
       "      <th>1</th>\n",
       "      <td>Alaska</td>\n",
       "      <td>84755</td>\n",
       "      <td>40.75</td>\n",
       "      <td>148</td>\n",
       "      <td>No Data</td>\n",
       "      <td>84755.0</td>\n",
       "      <td>40.75</td>\n",
       "    </tr>\n",
       "    <tr>\n",
       "      <th>2</th>\n",
       "      <td>Arizona</td>\n",
       "      <td>88333</td>\n",
       "      <td>42.47</td>\n",
       "      <td>831</td>\n",
       "      <td>Phoenix</td>\n",
       "      <td>88469.0</td>\n",
       "      <td>42.53</td>\n",
       "    </tr>\n",
       "    <tr>\n",
       "      <th>3</th>\n",
       "      <td>Arkansas</td>\n",
       "      <td>82909</td>\n",
       "      <td>39.86</td>\n",
       "      <td>266</td>\n",
       "      <td>No Data</td>\n",
       "      <td>82909.0</td>\n",
       "      <td>39.86</td>\n",
       "    </tr>\n",
       "    <tr>\n",
       "      <th>4</th>\n",
       "      <td>California</td>\n",
       "      <td>126682</td>\n",
       "      <td>60.90</td>\n",
       "      <td>3874</td>\n",
       "      <td>San Francisco</td>\n",
       "      <td>138170.0</td>\n",
       "      <td>66.43</td>\n",
       "    </tr>\n",
       "  </tbody>\n",
       "</table>\n",
       "</div>"
      ],
      "text/plain": [
       "   state_name  average_salary_state  hourly_rate_state  job_count_state  \\\n",
       "0     Alabama                 77743              37.38              390   \n",
       "1      Alaska                 84755              40.75              148   \n",
       "2     Arizona                 88333              42.47              831   \n",
       "3    Arkansas                 82909              39.86              266   \n",
       "4  California                126682              60.90             3874   \n",
       "\n",
       "            city  average_salary_city  hourly_rate_city  \n",
       "0        No Data              77743.0             37.38  \n",
       "1        No Data              84755.0             40.75  \n",
       "2        Phoenix              88469.0             42.53  \n",
       "3        No Data              82909.0             39.86  \n",
       "4  San Francisco             138170.0             66.43  "
      ]
     },
     "execution_count": 161,
     "metadata": {},
     "output_type": "execute_result"
    }
   ],
   "source": [
    "'''\n",
    "Show the first five rows of the dataframe for reference.\n",
    "'''\n",
    "df.head(5)"
   ]
  },
  {
   "cell_type": "code",
   "execution_count": 162,
   "id": "91ead4b3",
   "metadata": {},
   "outputs": [],
   "source": [
    "'''\n",
    "First visualization will be a scatter plot of average salary vs. open job requisitions.\n",
    "Start by setting up variables x and y from the csv file.\n",
    "'''\n",
    "x = df['job_count_state']\n",
    "y = df['average_salary_state']"
   ]
  },
  {
   "cell_type": "code",
   "execution_count": 163,
   "id": "770b235c",
   "metadata": {},
   "outputs": [
    {
     "data": {
      "image/png": "[encoded data removed]",
      "text/plain": [
       "<Figure size 432x288 with 1 Axes>"
      ]
     },
     "metadata": {
      "needs_background": "light"
     },
     "output_type": "display_data"
    }
   ],
   "source": [
    "'''\n",
    "Create the scatter plot of average salary vs. open job requisitions.\n",
    "'''\n",
    "\n",
    "plt.scatter(x,y,marker = 'o',color='g')\n",
    "plt.grid(True)\n",
    "plt.title('Job Requisition Count vs. Average Salary')\n",
    "plt.xlabel('Job Requisition Count')\n",
    "plt.ylabel('Average Salary')\n",
    "plt.show()"
   ]
  },
  {
   "cell_type": "code",
   "execution_count": 164,
   "id": "1f5db6a1",
   "metadata": {},
   "outputs": [
    {
     "data": {
      "text/plain": [
       "<function matplotlib.pyplot.show(close=None, block=None)>"
      ]
     },
     "execution_count": 164,
     "metadata": {},
     "output_type": "execute_result"
    },
    {
     "data": {
      "image/png": "[encoded data removed]",
      "text/plain": [
       "<Figure size 432x288 with 1 Axes>"
      ]
     },
     "metadata": {
      "needs_background": "light"
     },
     "output_type": "display_data"
    }
   ],
   "source": [
    "'''\n",
    "Second visualization will be a histogram.\n",
    "Plot a histogram of the state salary data to visualize the distribution of data in an alternative format.\n",
    "Use plt.hist() to create the plot.\n",
    "'''\n",
    "plt.hist(df['average_salary_state'], bins=18, rwidth = 1)\n",
    "plt.grid(False) \n",
    "plt.title(\"Histogram of State Salary Data\", fontsize=12)\n",
    "plt.xlabel(\"Salary\")\n",
    "plt.ylabel(\"Frequency\")\n",
    "plt.show"
   ]
  },
  {
   "cell_type": "code",
   "execution_count": 165,
   "id": "f84c6f1b",
   "metadata": {},
   "outputs": [
    {
     "data": {
      "image/png": "[encoded data removed]",
      "text/plain": [
       "<Figure size 720x576 with 1 Axes>"
      ]
     },
     "metadata": {
      "needs_background": "light"
     },
     "output_type": "display_data"
    }
   ],
   "source": [
    "'''\n",
    "Third visualization chart will be a bar plot. This plot will show the hourly rate plotted by state.\n",
    "'''\n",
    "\n",
    "plt.figure(figsize=(10,8))\n",
    "plt.bar(df['state_name'],df['hourly_rate_state'], color = 'grey')\n",
    "plt.xticks(rotation=90)\n",
    "plt.xlabel('State')\n",
    "plt.ylabel('Hourly Rate ($)')\n",
    "plt.show()"
   ]
  }
 ],
 "metadata": {
  "kernelspec": {
   "display_name": "Python 3 (ipykernel)",
   "language": "python",
   "name": "python3"
  },
  "language_info": {
   "codemirror_mode": {
    "name": "ipython",
    "version": 3
   },
   "file_extension": ".py",
   "mimetype": "text/x-python",
   "name": "python",
   "nbconvert_exporter": "python",
   "pygments_lexer": "ipython3",
   "version": "3.9.7"
  }
 },
 "nbformat": 4,
 "nbformat_minor": 5
}
