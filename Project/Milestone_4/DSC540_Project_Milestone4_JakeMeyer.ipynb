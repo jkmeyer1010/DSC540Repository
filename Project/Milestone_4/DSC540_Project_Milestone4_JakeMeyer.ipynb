{
 "cells": [
  {
   "cell_type": "markdown",
   "id": "895f6b5d",
   "metadata": {},
   "source": [
    "# DCS 540 Data Preparation (DSC540-T301 2225-1)\n",
    "## Bellevue University\n",
    "## Project: Milestone 4\n",
    "## Author: Jake Meyer\n",
    "## Date: "
   ]
  },
  {
   "cell_type": "markdown",
   "id": "7812a52c",
   "metadata": {},
   "source": [
    "### Milestone 4: Connecting to an API/Pulling in the Data and Cleaning/Formatting\n",
    "API source listed below:\n",
    "[ArcGIS API](https://developers.arcgis.com/python/api-reference/)\n",
    "\n",
    "Original Milestone Link from Milestone 1:\n",
    "[USA Major Cities](https://hub.arcgis.com/datasets/esri::usa-major-cities/about)"
   ]
  },
  {
   "cell_type": "code",
   "execution_count": 10,
   "id": "f35fa27b",
   "metadata": {},
   "outputs": [
    {
     "name": "stdout",
     "output_type": "stream",
     "text": [
      "Collecting arcgis\n",
      "  Downloading arcgis-2.0.0.tar.gz (3.7 MB)\n",
      "Collecting urllib3<1.26.0,>=1.25.10\n",
      "  Using cached urllib3-1.25.11-py2.py3-none-any.whl (127 kB)\n",
      "Collecting cachetools\n",
      "  Using cached cachetools-5.0.0-py3-none-any.whl (9.1 kB)\n",
      "Requirement already satisfied: six in c:\\users\\jkmey\\anaconda3\\lib\\site-packages (from arcgis) (1.16.0)\n",
      "Requirement already satisfied: lxml in c:\\users\\jkmey\\anaconda3\\lib\\site-packages (from arcgis) (4.6.3)\n",
      "Requirement already satisfied: cryptography in c:\\users\\jkmey\\anaconda3\\lib\\site-packages (from arcgis) (3.4.8)\n",
      "Requirement already satisfied: ipywidgets>=7 in c:\\users\\jkmey\\anaconda3\\lib\\site-packages (from arcgis) (7.6.5)\n",
      "Requirement already satisfied: widgetsnbextension>=3 in c:\\users\\jkmey\\anaconda3\\lib\\site-packages (from arcgis) (3.5.1)\n",
      "Requirement already satisfied: pandas>=1 in c:\\users\\jkmey\\anaconda3\\lib\\site-packages (from arcgis) (1.3.4)\n",
      "Requirement already satisfied: numpy>=1.16.2 in c:\\users\\jkmey\\anaconda3\\lib\\site-packages (from arcgis) (1.20.3)\n",
      "Requirement already satisfied: matplotlib in c:\\users\\jkmey\\anaconda3\\lib\\site-packages (from arcgis) (3.4.3)\n",
      "Collecting keyring<=21.8.*,>=19\n",
      "  Using cached keyring-21.7.0-py3-none-any.whl (32 kB)\n",
      "Collecting lerc\n",
      "  Using cached lerc-0.1.0-py3-none-any.whl\n",
      "Requirement already satisfied: ujson>=3 in c:\\users\\jkmey\\anaconda3\\lib\\site-packages (from arcgis) (4.0.2)\n",
      "Requirement already satisfied: jupyterlab in c:\\users\\jkmey\\anaconda3\\lib\\site-packages (from arcgis) (3.2.1)\n",
      "Collecting python-certifi-win32\n",
      "  Using cached python_certifi_win32-1.6-py2.py3-none-any.whl (7.2 kB)\n",
      "Collecting pyshp>=2\n",
      "  Using cached pyshp-2.3.0-py2.py3-none-any.whl (46 kB)\n",
      "Collecting geomet\n",
      "  Using cached geomet-0.3.0-py3-none-any.whl (28 kB)\n",
      "Requirement already satisfied: requests in c:\\users\\jkmey\\anaconda3\\lib\\site-packages (from arcgis) (2.26.0)\n",
      "Collecting requests-oauthlib\n",
      "  Using cached requests_oauthlib-1.3.1-py2.py3-none-any.whl (23 kB)\n",
      "Collecting requests_toolbelt\n",
      "  Using cached requests_toolbelt-0.9.1-py2.py3-none-any.whl (54 kB)\n",
      "Collecting requests_ntlm\n",
      "  Using cached requests_ntlm-1.1.0-py2.py3-none-any.whl (5.7 kB)\n",
      "Collecting requests-gssapi\n",
      "  Using cached requests_gssapi-1.2.3-py2.py3-none-any.whl\n",
      "Requirement already satisfied: pywin32>=223 in c:\\users\\jkmey\\anaconda3\\lib\\site-packages (from arcgis) (228)\n",
      "Collecting requests-negotiate-sspi\n",
      "  Using cached requests_negotiate_sspi-0.5.2-py2.py3-none-any.whl (7.1 kB)\n",
      "Collecting requests-kerberos\n",
      "  Using cached requests_kerberos-0.14.0-py2.py3-none-any.whl (11 kB)\n",
      "Collecting winkerberos\n",
      "  Using cached winkerberos-0.9.0-cp39-cp39-win_amd64.whl (23 kB)\n",
      "Requirement already satisfied: ipykernel>=4.5.1 in c:\\users\\jkmey\\anaconda3\\lib\\site-packages (from ipywidgets>=7->arcgis) (6.4.1)\n",
      "Requirement already satisfied: traitlets>=4.3.1 in c:\\users\\jkmey\\anaconda3\\lib\\site-packages (from ipywidgets>=7->arcgis) (5.1.0)\n",
      "Requirement already satisfied: ipython>=4.0.0 in c:\\users\\jkmey\\anaconda3\\lib\\site-packages (from ipywidgets>=7->arcgis) (7.29.0)\n",
      "Requirement already satisfied: nbformat>=4.2.0 in c:\\users\\jkmey\\anaconda3\\lib\\site-packages (from ipywidgets>=7->arcgis) (5.1.3)\n",
      "Requirement already satisfied: jupyterlab-widgets>=1.0.0 in c:\\users\\jkmey\\anaconda3\\lib\\site-packages (from ipywidgets>=7->arcgis) (1.0.0)\n",
      "Requirement already satisfied: ipython-genutils~=0.2.0 in c:\\users\\jkmey\\anaconda3\\lib\\site-packages (from ipywidgets>=7->arcgis) (0.2.0)\n",
      "Requirement already satisfied: jupyter-client<8.0 in c:\\users\\jkmey\\anaconda3\\lib\\site-packages (from ipykernel>=4.5.1->ipywidgets>=7->arcgis) (6.1.12)\n",
      "Requirement already satisfied: debugpy<2.0,>=1.0.0 in c:\\users\\jkmey\\anaconda3\\lib\\site-packages (from ipykernel>=4.5.1->ipywidgets>=7->arcgis) (1.4.1)\n",
      "Requirement already satisfied: tornado<7.0,>=4.2 in c:\\users\\jkmey\\anaconda3\\lib\\site-packages (from ipykernel>=4.5.1->ipywidgets>=7->arcgis) (6.1)\n",
      "Requirement already satisfied: matplotlib-inline<0.2.0,>=0.1.0 in c:\\users\\jkmey\\anaconda3\\lib\\site-packages (from ipykernel>=4.5.1->ipywidgets>=7->arcgis) (0.1.2)\n",
      "Requirement already satisfied: backcall in c:\\users\\jkmey\\anaconda3\\lib\\site-packages (from ipython>=4.0.0->ipywidgets>=7->arcgis) (0.2.0)\n",
      "Requirement already satisfied: setuptools>=18.5 in c:\\users\\jkmey\\anaconda3\\lib\\site-packages (from ipython>=4.0.0->ipywidgets>=7->arcgis) (58.0.4)\n",
      "Requirement already satisfied: decorator in c:\\users\\jkmey\\anaconda3\\lib\\site-packages (from ipython>=4.0.0->ipywidgets>=7->arcgis) (5.1.0)\n",
      "Requirement already satisfied: prompt-toolkit!=3.0.0,!=3.0.1,<3.1.0,>=2.0.0 in c:\\users\\jkmey\\anaconda3\\lib\\site-packages (from ipython>=4.0.0->ipywidgets>=7->arcgis) (3.0.20)\n",
      "Requirement already satisfied: colorama in c:\\users\\jkmey\\anaconda3\\lib\\site-packages (from ipython>=4.0.0->ipywidgets>=7->arcgis) (0.4.4)\n",
      "Requirement already satisfied: jedi>=0.16 in c:\\users\\jkmey\\anaconda3\\lib\\site-packages (from ipython>=4.0.0->ipywidgets>=7->arcgis) (0.18.0)\n",
      "Requirement already satisfied: pickleshare in c:\\users\\jkmey\\anaconda3\\lib\\site-packages (from ipython>=4.0.0->ipywidgets>=7->arcgis) (0.7.5)\n",
      "Requirement already satisfied: pygments in c:\\users\\jkmey\\anaconda3\\lib\\site-packages (from ipython>=4.0.0->ipywidgets>=7->arcgis) (2.10.0)\n",
      "Requirement already satisfied: parso<0.9.0,>=0.8.0 in c:\\users\\jkmey\\anaconda3\\lib\\site-packages (from jedi>=0.16->ipython>=4.0.0->ipywidgets>=7->arcgis) (0.8.2)\n",
      "Requirement already satisfied: python-dateutil>=2.1 in c:\\users\\jkmey\\anaconda3\\lib\\site-packages (from jupyter-client<8.0->ipykernel>=4.5.1->ipywidgets>=7->arcgis) (2.8.2)\n",
      "Requirement already satisfied: jupyter-core>=4.6.0 in c:\\users\\jkmey\\anaconda3\\lib\\site-packages (from jupyter-client<8.0->ipykernel>=4.5.1->ipywidgets>=7->arcgis) (4.8.1)\n",
      "Requirement already satisfied: pyzmq>=13 in c:\\users\\jkmey\\anaconda3\\lib\\site-packages (from jupyter-client<8.0->ipykernel>=4.5.1->ipywidgets>=7->arcgis) (22.2.1)\n",
      "Requirement already satisfied: pywin32-ctypes!=0.1.0,!=0.1.1 in c:\\users\\jkmey\\anaconda3\\lib\\site-packages (from keyring<=21.8.*,>=19->arcgis) (0.2.0)\n",
      "Requirement already satisfied: jsonschema!=2.5.0,>=2.4 in c:\\users\\jkmey\\anaconda3\\lib\\site-packages (from nbformat>=4.2.0->ipywidgets>=7->arcgis) (3.2.0)\n",
      "Requirement already satisfied: attrs>=17.4.0 in c:\\users\\jkmey\\anaconda3\\lib\\site-packages (from jsonschema!=2.5.0,>=2.4->nbformat>=4.2.0->ipywidgets>=7->arcgis) (21.2.0)\n",
      "Requirement already satisfied: pyrsistent>=0.14.0 in c:\\users\\jkmey\\anaconda3\\lib\\site-packages (from jsonschema!=2.5.0,>=2.4->nbformat>=4.2.0->ipywidgets>=7->arcgis) (0.18.0)\n",
      "Requirement already satisfied: pytz>=2017.3 in c:\\users\\jkmey\\anaconda3\\lib\\site-packages (from pandas>=1->arcgis) (2021.3)\n",
      "Requirement already satisfied: wcwidth in c:\\users\\jkmey\\anaconda3\\lib\\site-packages (from prompt-toolkit!=3.0.0,!=3.0.1,<3.1.0,>=2.0.0->ipython>=4.0.0->ipywidgets>=7->arcgis) (0.2.5)\n",
      "Requirement already satisfied: notebook>=4.4.1 in c:\\users\\jkmey\\anaconda3\\lib\\site-packages (from widgetsnbextension>=3->arcgis) (6.4.5)\n",
      "Requirement already satisfied: Send2Trash>=1.5.0 in c:\\users\\jkmey\\anaconda3\\lib\\site-packages (from notebook>=4.4.1->widgetsnbextension>=3->arcgis) (1.8.0)\n",
      "Requirement already satisfied: jinja2 in c:\\users\\jkmey\\anaconda3\\lib\\site-packages (from notebook>=4.4.1->widgetsnbextension>=3->arcgis) (2.11.3)\n",
      "Requirement already satisfied: argon2-cffi in c:\\users\\jkmey\\anaconda3\\lib\\site-packages (from notebook>=4.4.1->widgetsnbextension>=3->arcgis) (20.1.0)\n",
      "Requirement already satisfied: prometheus-client in c:\\users\\jkmey\\anaconda3\\lib\\site-packages (from notebook>=4.4.1->widgetsnbextension>=3->arcgis) (0.11.0)\n",
      "Requirement already satisfied: nbconvert in c:\\users\\jkmey\\anaconda3\\lib\\site-packages (from notebook>=4.4.1->widgetsnbextension>=3->arcgis) (6.1.0)\n",
      "Requirement already satisfied: terminado>=0.8.3 in c:\\users\\jkmey\\anaconda3\\lib\\site-packages (from notebook>=4.4.1->widgetsnbextension>=3->arcgis) (0.9.4)\n",
      "Requirement already satisfied: pywinpty>=0.5 in c:\\users\\jkmey\\anaconda3\\lib\\site-packages (from terminado>=0.8.3->notebook>=4.4.1->widgetsnbextension>=3->arcgis) (0.5.7)\n",
      "Requirement already satisfied: cffi>=1.0.0 in c:\\users\\jkmey\\anaconda3\\lib\\site-packages (from argon2-cffi->notebook>=4.4.1->widgetsnbextension>=3->arcgis) (1.14.6)\n",
      "Requirement already satisfied: pycparser in c:\\users\\jkmey\\anaconda3\\lib\\site-packages (from cffi>=1.0.0->argon2-cffi->notebook>=4.4.1->widgetsnbextension>=3->arcgis) (2.20)\n",
      "Requirement already satisfied: click in c:\\users\\jkmey\\anaconda3\\lib\\site-packages (from geomet->arcgis) (8.0.3)\n",
      "Requirement already satisfied: MarkupSafe>=0.23 in c:\\users\\jkmey\\anaconda3\\lib\\site-packages (from jinja2->notebook>=4.4.1->widgetsnbextension>=3->arcgis) (1.1.1)\n",
      "Requirement already satisfied: jupyterlab-server~=2.3 in c:\\users\\jkmey\\anaconda3\\lib\\site-packages (from jupyterlab->arcgis) (2.8.2)\n",
      "Requirement already satisfied: packaging in c:\\users\\jkmey\\anaconda3\\lib\\site-packages (from jupyterlab->arcgis) (21.0)\n",
      "Requirement already satisfied: jupyter-server~=1.4 in c:\\users\\jkmey\\anaconda3\\lib\\site-packages (from jupyterlab->arcgis) (1.4.1)\n",
      "Requirement already satisfied: nbclassic~=0.2 in c:\\users\\jkmey\\anaconda3\\lib\\site-packages (from jupyterlab->arcgis) (0.2.6)\n",
      "Requirement already satisfied: anyio>=2.0.2 in c:\\users\\jkmey\\anaconda3\\lib\\site-packages (from jupyter-server~=1.4->jupyterlab->arcgis) (2.2.0)\n",
      "Note: you may need to restart the kernel to use updated packages.Requirement already satisfied: idna>=2.8 in c:\\users\\jkmey\\anaconda3\\lib\\site-packages (from anyio>=2.0.2->jupyter-server~=1.4->jupyterlab->arcgis) (3.2)\n"
     ]
    },
    {
     "name": "stderr",
     "output_type": "stream",
     "text": [
      "ERROR: pip's dependency resolver does not currently take into account all the packages that are installed. This behaviour is the source of the following dependency conflicts.\n",
      "spyder 5.1.5 requires pyqt5<5.13, which is not installed.\n",
      "spyder 5.1.5 requires pyqtwebengine<5.13, which is not installed.\n",
      "conda-repo-cli 1.0.4 requires pathlib, which is not installed.\n",
      "anaconda-project 0.10.1 requires ruamel-yaml, which is not installed.\n"
     ]
    },
    {
     "name": "stdout",
     "output_type": "stream",
     "text": [
      "\n",
      "Requirement already satisfied: sniffio>=1.1 in c:\\users\\jkmey\\anaconda3\\lib\\site-packages (from anyio>=2.0.2->jupyter-server~=1.4->jupyterlab->arcgis) (1.2.0)\n",
      "Requirement already satisfied: json5 in c:\\users\\jkmey\\anaconda3\\lib\\site-packages (from jupyterlab-server~=2.3->jupyterlab->arcgis) (0.9.6)\n",
      "Requirement already satisfied: entrypoints>=0.2.2 in c:\\users\\jkmey\\anaconda3\\lib\\site-packages (from jupyterlab-server~=2.3->jupyterlab->arcgis) (0.3)\n",
      "Requirement already satisfied: babel in c:\\users\\jkmey\\anaconda3\\lib\\site-packages (from jupyterlab-server~=2.3->jupyterlab->arcgis) (2.9.1)\n",
      "Requirement already satisfied: pillow>=6.2.0 in c:\\users\\jkmey\\anaconda3\\lib\\site-packages (from matplotlib->arcgis) (8.4.0)\n",
      "Requirement already satisfied: kiwisolver>=1.0.1 in c:\\users\\jkmey\\anaconda3\\lib\\site-packages (from matplotlib->arcgis) (1.3.1)\n",
      "Requirement already satisfied: pyparsing>=2.2.1 in c:\\users\\jkmey\\anaconda3\\lib\\site-packages (from matplotlib->arcgis) (3.0.4)\n",
      "Requirement already satisfied: cycler>=0.10 in c:\\users\\jkmey\\anaconda3\\lib\\site-packages (from matplotlib->arcgis) (0.10.0)\n",
      "Requirement already satisfied: testpath in c:\\users\\jkmey\\anaconda3\\lib\\site-packages (from nbconvert->notebook>=4.4.1->widgetsnbextension>=3->arcgis) (0.5.0)\n",
      "Requirement already satisfied: jupyterlab-pygments in c:\\users\\jkmey\\anaconda3\\lib\\site-packages (from nbconvert->notebook>=4.4.1->widgetsnbextension>=3->arcgis) (0.1.2)\n",
      "Requirement already satisfied: nbclient<0.6.0,>=0.5.0 in c:\\users\\jkmey\\anaconda3\\lib\\site-packages (from nbconvert->notebook>=4.4.1->widgetsnbextension>=3->arcgis) (0.5.3)\n",
      "Requirement already satisfied: bleach in c:\\users\\jkmey\\anaconda3\\lib\\site-packages (from nbconvert->notebook>=4.4.1->widgetsnbextension>=3->arcgis) (4.0.0)\n",
      "Requirement already satisfied: pandocfilters>=1.4.1 in c:\\users\\jkmey\\anaconda3\\lib\\site-packages (from nbconvert->notebook>=4.4.1->widgetsnbextension>=3->arcgis) (1.4.3)\n",
      "Requirement already satisfied: defusedxml in c:\\users\\jkmey\\anaconda3\\lib\\site-packages (from nbconvert->notebook>=4.4.1->widgetsnbextension>=3->arcgis) (0.7.1)\n",
      "Requirement already satisfied: mistune<2,>=0.8.1 in c:\\users\\jkmey\\anaconda3\\lib\\site-packages (from nbconvert->notebook>=4.4.1->widgetsnbextension>=3->arcgis) (0.8.4)\n",
      "Requirement already satisfied: async-generator in c:\\users\\jkmey\\anaconda3\\lib\\site-packages (from nbclient<0.6.0,>=0.5.0->nbconvert->notebook>=4.4.1->widgetsnbextension>=3->arcgis) (1.10)\n",
      "Requirement already satisfied: nest-asyncio in c:\\users\\jkmey\\anaconda3\\lib\\site-packages (from nbclient<0.6.0,>=0.5.0->nbconvert->notebook>=4.4.1->widgetsnbextension>=3->arcgis) (1.5.1)\n",
      "Requirement already satisfied: webencodings in c:\\users\\jkmey\\anaconda3\\lib\\site-packages (from bleach->nbconvert->notebook>=4.4.1->widgetsnbextension>=3->arcgis) (0.5.1)\n",
      "Requirement already satisfied: wrapt>=1.10.4 in c:\\users\\jkmey\\anaconda3\\lib\\site-packages (from python-certifi-win32->arcgis) (1.12.1)\n",
      "Collecting setuptools-scm\n",
      "  Using cached setuptools_scm-6.4.2-py3-none-any.whl (37 kB)\n",
      "Requirement already satisfied: certifi in c:\\users\\jkmey\\anaconda3\\lib\\site-packages (from python-certifi-win32->arcgis) (2021.10.8)\n",
      "Requirement already satisfied: charset-normalizer~=2.0.0 in c:\\users\\jkmey\\anaconda3\\lib\\site-packages (from requests->arcgis) (2.0.4)\n",
      "Collecting gssapi\n",
      "  Using cached gssapi-1.7.3-cp39-cp39-win_amd64.whl (783 kB)\n",
      "Collecting pyspnego[kerberos]\n",
      "  Using cached pyspnego-0.5.2-cp39-cp39-win_amd64.whl (200 kB)\n",
      "Collecting pypiwin32>=223\n",
      "  Using cached pypiwin32-223-py3-none-any.whl (1.7 kB)\n",
      "Collecting ntlm-auth>=1.0.2\n",
      "  Using cached ntlm_auth-1.5.0-py2.py3-none-any.whl (29 kB)\n",
      "Collecting oauthlib>=3.0.0\n",
      "  Using cached oauthlib-3.2.0-py3-none-any.whl (151 kB)\n",
      "Collecting tomli>=1.0.0\n",
      "  Using cached tomli-2.0.1-py3-none-any.whl (12 kB)\n",
      "Building wheels for collected packages: arcgis\n",
      "  Building wheel for arcgis (setup.py): started\n",
      "  Building wheel for arcgis (setup.py): finished with status 'done'\n",
      "  Created wheel for arcgis: filename=arcgis-2.0.0-py2.py3-none-any.whl size=5108900 sha256=f544dd72fa2548af8e44a00200d987f385191127522a389e0dd301830e1ee749\n",
      "  Stored in directory: c:\\users\\jkmey\\appdata\\local\\pip\\cache\\wheels\\40\\89\\24\\c10e5b60c6a66d3928320f95a8ff008a5700be28399fd35985\n",
      "Successfully built arcgis\n",
      "Installing collected packages: urllib3, tomli, pyspnego, setuptools-scm, pypiwin32, oauthlib, ntlm-auth, gssapi, winkerberos, requests-toolbelt, requests-oauthlib, requests-ntlm, requests-negotiate-sspi, requests-kerberos, requests-gssapi, python-certifi-win32, pyshp, lerc, keyring, geomet, cachetools, arcgis\n",
      "  Attempting uninstall: urllib3\n",
      "    Found existing installation: urllib3 1.26.7\n",
      "    Uninstalling urllib3-1.26.7:\n",
      "      Successfully uninstalled urllib3-1.26.7\n",
      "  Attempting uninstall: keyring\n",
      "    Found existing installation: keyring 23.1.0\n",
      "    Uninstalling keyring-23.1.0:\n",
      "      Successfully uninstalled keyring-23.1.0\n",
      "Successfully installed arcgis-2.0.0 cachetools-5.0.0 geomet-0.3.0 gssapi-1.7.3 keyring-21.7.0 lerc-0.1.0 ntlm-auth-1.5.0 oauthlib-3.2.0 pypiwin32-223 pyshp-2.3.0 pyspnego-0.5.2 python-certifi-win32-1.6 requests-gssapi-1.2.3 requests-kerberos-0.14.0 requests-negotiate-sspi-0.5.2 requests-ntlm-1.1.0 requests-oauthlib-1.3.1 requests-toolbelt-0.9.1 setuptools-scm-6.4.2 tomli-2.0.1 urllib3-1.25.11 winkerberos-0.9.0\n"
     ]
    }
   ],
   "source": [
    "'''\n",
    "Install ArcGis API for Python module called arcgis. \n",
    "Based on documentation found for the API source listed above.\n",
    "'''\n",
    "pip install arcgis"
   ]
  },
  {
   "cell_type": "code",
   "execution_count": 19,
   "id": "5c4585fa",
   "metadata": {},
   "outputs": [],
   "source": [
    "'''\n",
    "Import the necessary libraries to transform and/or clean the data from ArcGIS API.\n",
    "''' \n",
    "import numpy as np\n",
    "\n",
    "import pandas as pd\n",
    "   \n",
    "from bs4 import BeautifulSoup\n",
    "\n",
    "import requests\n",
    "\n",
    "from arcgis.gis import GIS\n",
    "\n",
    "import matplotlib.pyplot as plt"
   ]
  },
  {
   "cell_type": "code",
   "execution_count": 20,
   "id": "d5f07e34",
   "metadata": {},
   "outputs": [
    {
     "data": {
      "application/vnd.jupyter.widget-view+json": {
       "model_id": "89f138fa9cc9491d800598c6f3a9fdde",
       "version_major": 2,
       "version_minor": 0
      },
      "text/plain": [
       "MapView(layout=Layout(height='400px', width='100%'))"
      ]
     },
     "metadata": {},
     "output_type": "display_data"
    },
    {
     "data": {
      "text/html": [
       "<div class=\"map-static-img-preview-a66756b7-a7af-4803-93a2-0197c05efad5\"><img src=\"\"></img></div>"
      ],
      "text/plain": [
       "<IPython.core.display.HTML object>"
      ]
     },
     "metadata": {},
     "output_type": "display_data"
    },
    {
     "data": {
      "text/html": [
       "<div class=\"map-html-embed-preview-a66756b7-a7af-4803-93a2-0197c05efad5\"></div>"
      ],
      "text/plain": [
       "<IPython.core.display.HTML object>"
      ]
     },
     "metadata": {},
     "output_type": "display_data"
    }
   ],
   "source": [
    "'''\n",
    "Test the install with Jupyter notebook by generating a map of the United States.\n",
    "'''\n",
    "my_gis=GIS()\n",
    "m=my_gis.map()\n",
    "m"
   ]
  },
  {
   "cell_type": "code",
   "execution_count": 29,
   "id": "2186d726",
   "metadata": {},
   "outputs": [
    {
     "name": "stdout",
     "output_type": "stream",
     "text": [
      "Obtaining arcgishub from git+https://github.com/esridc/hub-py.git#egg=arcgishub\n",
      "  Cloning https://github.com/esridc/hub-py.git to c:\\users\\jkmey\\documents\\github\\dsc540_course_assignments\\dsc540repository\\project\\milestone_4\\src\\arcgishub\n",
      "Note: you may need to restart the kernel to use updated packages.\n"
     ]
    },
    {
     "name": "stderr",
     "output_type": "stream",
     "text": [
      "  Running command git clone -q https://github.com/esridc/hub-py.git 'C:\\Users\\jkmey\\Documents\\Github\\DSC540_Course_Assignments\\DSC540Repository\\Project\\Milestone_4\\src\\arcgishub'\n",
      "  ERROR: Error [WinError 2] The system cannot find the file specified while executing command git clone -q https://github.com/esridc/hub-py.git 'C:\\Users\\jkmey\\Documents\\Github\\DSC540_Course_Assignments\\DSC540Repository\\Project\\Milestone_4\\src\\arcgishub'\n",
      "ERROR: Cannot find command 'git' - do you have 'git' installed and in your PATH?\n"
     ]
    }
   ],
   "source": [
    "pip install -e git+https://github.com/esridc/hub-py.git#egg=arcgishub"
   ]
  },
  {
   "cell_type": "code",
   "execution_count": 30,
   "id": "ae60443f",
   "metadata": {},
   "outputs": [
    {
     "ename": "ModuleNotFoundError",
     "evalue": "No module named 'arcgishub'",
     "output_type": "error",
     "traceback": [
      "\u001b[1;31m---------------------------------------------------------------------------\u001b[0m",
      "\u001b[1;31mModuleNotFoundError\u001b[0m                       Traceback (most recent call last)",
      "\u001b[1;32m~\\AppData\\Local\\Temp/ipykernel_13468/1065872096.py\u001b[0m in \u001b[0;36m<module>\u001b[1;34m\u001b[0m\n\u001b[1;32m----> 1\u001b[1;33m \u001b[1;32mfrom\u001b[0m \u001b[0marcgishub\u001b[0m \u001b[1;32mimport\u001b[0m \u001b[0mhub\u001b[0m\u001b[1;33m\u001b[0m\u001b[1;33m\u001b[0m\u001b[0m\n\u001b[0m",
      "\u001b[1;31mModuleNotFoundError\u001b[0m: No module named 'arcgishub'"
     ]
    }
   ],
   "source": [
    "from arcgishub import hub"
   ]
  },
  {
   "cell_type": "code",
   "execution_count": null,
   "id": "5d1a8e40",
   "metadata": {},
   "outputs": [],
   "source": []
  }
 ],
 "metadata": {
  "kernelspec": {
   "display_name": "Python 3 (ipykernel)",
   "language": "python",
   "name": "python3"
  },
  "language_info": {
   "codemirror_mode": {
    "name": "ipython",
    "version": 3
   },
   "file_extension": ".py",
   "mimetype": "text/x-python",
   "name": "python",
   "nbconvert_exporter": "python",
   "pygments_lexer": "ipython3",
   "version": "3.9.7"
  }
 },
 "nbformat": 4,
 "nbformat_minor": 5
}
