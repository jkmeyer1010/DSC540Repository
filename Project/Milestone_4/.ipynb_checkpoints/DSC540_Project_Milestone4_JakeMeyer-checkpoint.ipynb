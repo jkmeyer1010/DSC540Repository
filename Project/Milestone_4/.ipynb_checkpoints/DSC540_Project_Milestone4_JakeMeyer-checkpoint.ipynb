{
 "cells": [
  {
   "cell_type": "markdown",
   "id": "895f6b5d",
   "metadata": {},
   "source": [
    "# DCS 540 Data Preparation (DSC540-T301 2225-1)\n",
    "## Bellevue University\n",
    "## Project: Milestone 4\n",
    "## Author: Jake Meyer\n",
    "## Date: 5/21/2022"
   ]
  },
  {
   "cell_type": "markdown",
   "id": "7812a52c",
   "metadata": {},
   "source": [
    "### Milestone 4: Connecting to an API/Pulling in the Data and Cleaning/Formatting\n",
    "API source listed below:\n",
    "[ArcGIS API](https://developers.arcgis.com/python/api-reference/)\n",
    "\n",
    "Original Milestone Link from Milestone 1:\n",
    "[USA Major Cities](https://hub.arcgis.com/datasets/esri::usa-major-cities/about)"
   ]
  },
  {
   "cell_type": "code",
   "execution_count": 301,
   "id": "f35fa27b",
   "metadata": {},
   "outputs": [
    {
     "data": {
      "text/plain": [
       "'\\nInstall ArcGis API for Python module called arcgis. \\nBased on documentation found for the API source listed above.\\n'"
      ]
     },
     "execution_count": 301,
     "metadata": {},
     "output_type": "execute_result"
    }
   ],
   "source": [
    "'''\n",
    "Install ArcGis API for Python module called arcgis. \n",
    "Based on documentation found for the API source listed above.\n",
    "'''\n",
    "# pip install arcgis"
   ]
  },
  {
   "cell_type": "code",
   "execution_count": 508,
   "id": "5c4585fa",
   "metadata": {},
   "outputs": [],
   "source": [
    "'''\n",
    "Import the necessary libraries to transform and/or clean the data from ArcGIS API.\n",
    "''' \n",
    "import numpy as np\n",
    "\n",
    "import pandas as pd\n",
    "   \n",
    "from bs4 import BeautifulSoup\n",
    "\n",
    "import requests\n",
    "\n",
    "from arcgis.gis import GIS\n",
    "\n",
    "import matplotlib.pyplot as plt"
   ]
  },
  {
   "cell_type": "code",
   "execution_count": 509,
   "id": "d5f07e34",
   "metadata": {},
   "outputs": [],
   "source": [
    "'''\n",
    "Test the install with Jupyter notebook by generating a map of the United States.\n",
    "ArcGIS API for python will be stored under my_gis.\n",
    "'''\n",
    "my_gis=GIS()\n",
    "my_map=my_gis.map()"
   ]
  },
  {
   "cell_type": "code",
   "execution_count": 510,
   "id": "2186d726",
   "metadata": {},
   "outputs": [],
   "source": [
    "'''\n",
    "Import arcgis.\n",
    "'''\n",
    "import arcgis"
   ]
  },
  {
   "cell_type": "code",
   "execution_count": 511,
   "id": "ae60443f",
   "metadata": {},
   "outputs": [
    {
     "data": {
      "text/html": [
       "<div class=\"item_container\" style=\"height: auto; overflow: hidden; border: 1px solid #cfcfcf; border-radius: 2px; background: #f6fafa; line-height: 1.21429em; padding: 10px;\">\n",
       "                    <div class=\"item_left\" style=\"width: 210px; float: left;\">\n",
       "                       <a href='https://www.arcgis.com/home/item.html?id=85d0ca4ea1ca4b9abf0c51b9bd34de2e' target='_blank'>\n",
       "                        <img src='https://www.arcgis.com/sharing/rest//content/items/85d0ca4ea1ca4b9abf0c51b9bd34de2e/info/thumbnail/thumbnail1578438561290.jpeg' class=\"itemThumbnail\">\n",
       "                       </a>\n",
       "                    </div>\n",
       "\n",
       "                    <div class=\"item_right\"     style=\"float: none; width: auto; overflow: hidden;\">\n",
       "                        <a href='https://www.arcgis.com/home/item.html?id=85d0ca4ea1ca4b9abf0c51b9bd34de2e' target='_blank'><b>USA Major Cities</b>\n",
       "                        </a>\n",
       "                        <br/>This layer presents the locations of cities within the United States with populations of approximately 10,000 or greater, all state capitals, and the national capital.<img src='https://www.arcgis.com/home/js/jsapi/esri/css/images/item_type_icons/featureshosted16.png' style=\"vertical-align:middle;\">Feature Layer Collection by esri_dm\n",
       "                        <br/>Last Modified: May 19, 2020\n",
       "                        <br/>3 comments, 35243547 views\n",
       "                    </div>\n",
       "                </div>\n",
       "                "
      ],
      "text/plain": [
       "<Item title:\"USA Major Cities\" type:Feature Layer Collection owner:esri_dm>"
      ]
     },
     "execution_count": 511,
     "metadata": {},
     "output_type": "execute_result"
    }
   ],
   "source": [
    "'''\n",
    "Search for theUSA Major Cities package within ArcGIS to identify\n",
    "'''\n",
    "data_search = my_gis.content.search(\"USA Major Cities\")\n",
    "data_search[1]"
   ]
  },
  {
   "cell_type": "code",
   "execution_count": 512,
   "id": "5d1a8e40",
   "metadata": {},
   "outputs": [
    {
     "data": {
      "text/plain": [
       "'85d0ca4ea1ca4b9abf0c51b9bd34de2e'"
      ]
     },
     "execution_count": 512,
     "metadata": {},
     "output_type": "execute_result"
    }
   ],
   "source": [
    "'''\n",
    "Obtain the ID of the USA Major Cities data of interest.\n",
    "'''\n",
    "data_search[1].id"
   ]
  },
  {
   "cell_type": "code",
   "execution_count": 513,
   "id": "ea21b1be",
   "metadata": {},
   "outputs": [
    {
     "data": {
      "application/vnd.jupyter.widget-view+json": {
       "model_id": "ca670d5167db46c8b2c69765c048ec28",
       "version_major": 2,
       "version_minor": 0
      },
      "text/plain": [
       "MapView(layout=Layout(height='400px', width='100%'))"
      ]
     },
     "metadata": {},
     "output_type": "display_data"
    },
    {
     "data": {
      "text/html": [
       "<div class=\"map-static-img-preview-57e949bd-88bf-434f-b708-3de9bf186bed\"><img src=\"\"></img></div>"
      ],
      "text/plain": [
       "<IPython.core.display.HTML object>"
      ]
     },
     "metadata": {},
     "output_type": "display_data"
    },
    {
     "data": {
      "text/html": [
       "<div class=\"map-html-embed-preview-57e949bd-88bf-434f-b708-3de9bf186bed\"></div>"
      ],
      "text/plain": [
       "<IPython.core.display.HTML object>"
      ]
     },
     "metadata": {},
     "output_type": "display_data"
    }
   ],
   "source": [
    "'''\n",
    "Show the city data plotted on a MAP of the United States. The data applies to cities with populations of 10,000 people or more,\n",
    "state capitals, and national capital.\n",
    "'''\n",
    "city_data = my_gis.content.get(data_search[1].id)\n",
    "my_map.add_layer(city_data)\n",
    "my_map"
   ]
  },
  {
   "cell_type": "code",
   "execution_count": 514,
   "id": "dc5df280",
   "metadata": {},
   "outputs": [],
   "source": [
    "'''\n",
    "Use the .query() function to access the data within the city layer.\n",
    "Store the city data under the variable city_data_content.\n",
    "'''\n",
    "city_data_content = city_data.layers[0].query()"
   ]
  },
  {
   "cell_type": "code",
   "execution_count": 515,
   "id": "edd5490f",
   "metadata": {},
   "outputs": [],
   "source": [
    "'''\n",
    "Create a DataFrame with the city_data_content variable by using .sdf.\n",
    "The .sdf will store the data in a pandas DataFrame per the API documentation.\n",
    "'''\n",
    "city_df = city_data_content.sdf"
   ]
  },
  {
   "cell_type": "code",
   "execution_count": 516,
   "id": "605f7baf",
   "metadata": {},
   "outputs": [
    {
     "data": {
      "text/plain": [
       "(3886, 50)"
      ]
     },
     "execution_count": 516,
     "metadata": {},
     "output_type": "execute_result"
    }
   ],
   "source": [
    "'''\n",
    "View the city_df shape for rows and columns initially pulled from the API.\n",
    "'''\n",
    "city_df.shape"
   ]
  },
  {
   "cell_type": "code",
   "execution_count": 517,
   "id": "163517f8",
   "metadata": {},
   "outputs": [
    {
     "data": {
      "text/plain": [
       "Index(['FID', 'NAME', 'CLASS', 'ST', 'STFIPS', 'PLACEFIPS', 'CAPITAL',\n",
       "       'POP_CLASS', 'POPULATION', 'POP2010', 'WHITE', 'BLACK', 'AMERI_ES',\n",
       "       'ASIAN', 'HAWN_PI', 'HISPANIC', 'OTHER', 'MULT_RACE', 'MALES',\n",
       "       'FEMALES', 'AGE_UNDER5', 'AGE_5_9', 'AGE_10_14', 'AGE_15_19',\n",
       "       'AGE_20_24', 'AGE_25_34', 'AGE_35_44', 'AGE_45_54', 'AGE_55_64',\n",
       "       'AGE_65_74', 'AGE_75_84', 'AGE_85_UP', 'MED_AGE', 'MED_AGE_M',\n",
       "       'MED_AGE_F', 'HOUSEHOLDS', 'AVE_HH_SZ', 'HSEHLD_1_M', 'HSEHLD_1_F',\n",
       "       'MARHH_CHD', 'MARHH_NO_C', 'MHH_CHILD', 'FHH_CHILD', 'FAMILIES',\n",
       "       'AVE_FAM_SZ', 'HSE_UNITS', 'VACANT', 'OWNER_OCC', 'RENTER_OCC',\n",
       "       'SHAPE'],\n",
       "      dtype='object')"
      ]
     },
     "execution_count": 517,
     "metadata": {},
     "output_type": "execute_result"
    }
   ],
   "source": [
    "'''\n",
    "The shape matches the table rows and columns available from teh original source of inteterest in Milestone 1.\n",
    "Understand the initial columns for the city_df DataFrame.\n",
    "'''\n",
    "city_df.columns"
   ]
  },
  {
   "cell_type": "code",
   "execution_count": 518,
   "id": "b3ef7da8",
   "metadata": {},
   "outputs": [
    {
     "data": {
      "text/html": [
       "<div>\n",
       "<style scoped>\n",
       "    .dataframe tbody tr th:only-of-type {\n",
       "        vertical-align: middle;\n",
       "    }\n",
       "\n",
       "    .dataframe tbody tr th {\n",
       "        vertical-align: top;\n",
       "    }\n",
       "\n",
       "    .dataframe thead th {\n",
       "        text-align: right;\n",
       "    }\n",
       "</style>\n",
       "<table border=\"1\" class=\"dataframe\">\n",
       "  <thead>\n",
       "    <tr style=\"text-align: right;\">\n",
       "      <th></th>\n",
       "      <th>FID</th>\n",
       "      <th>NAME</th>\n",
       "      <th>CLASS</th>\n",
       "      <th>ST</th>\n",
       "      <th>STFIPS</th>\n",
       "      <th>PLACEFIPS</th>\n",
       "      <th>CAPITAL</th>\n",
       "      <th>POP_CLASS</th>\n",
       "      <th>POPULATION</th>\n",
       "      <th>POP2010</th>\n",
       "      <th>...</th>\n",
       "      <th>MARHH_NO_C</th>\n",
       "      <th>MHH_CHILD</th>\n",
       "      <th>FHH_CHILD</th>\n",
       "      <th>FAMILIES</th>\n",
       "      <th>AVE_FAM_SZ</th>\n",
       "      <th>HSE_UNITS</th>\n",
       "      <th>VACANT</th>\n",
       "      <th>OWNER_OCC</th>\n",
       "      <th>RENTER_OCC</th>\n",
       "      <th>SHAPE</th>\n",
       "    </tr>\n",
       "  </thead>\n",
       "  <tbody>\n",
       "    <tr>\n",
       "      <th>0</th>\n",
       "      <td>1</td>\n",
       "      <td>Ammon</td>\n",
       "      <td>city</td>\n",
       "      <td>ID</td>\n",
       "      <td>16</td>\n",
       "      <td>1601990</td>\n",
       "      <td></td>\n",
       "      <td>6</td>\n",
       "      <td>15181</td>\n",
       "      <td>13816</td>\n",
       "      <td>...</td>\n",
       "      <td>1131</td>\n",
       "      <td>106</td>\n",
       "      <td>335</td>\n",
       "      <td>3352</td>\n",
       "      <td>3.61</td>\n",
       "      <td>4747</td>\n",
       "      <td>271</td>\n",
       "      <td>3205</td>\n",
       "      <td>1271</td>\n",
       "      <td>{\"x\": -12462673.723706165, \"y\": 5384674.994080...</td>\n",
       "    </tr>\n",
       "    <tr>\n",
       "      <th>1</th>\n",
       "      <td>2</td>\n",
       "      <td>Blackfoot</td>\n",
       "      <td>city</td>\n",
       "      <td>ID</td>\n",
       "      <td>16</td>\n",
       "      <td>1607840</td>\n",
       "      <td></td>\n",
       "      <td>6</td>\n",
       "      <td>11946</td>\n",
       "      <td>11899</td>\n",
       "      <td>...</td>\n",
       "      <td>1081</td>\n",
       "      <td>174</td>\n",
       "      <td>381</td>\n",
       "      <td>2958</td>\n",
       "      <td>3.31</td>\n",
       "      <td>4547</td>\n",
       "      <td>318</td>\n",
       "      <td>2788</td>\n",
       "      <td>1441</td>\n",
       "      <td>{\"x\": -12506251.313993266, \"y\": 5341537.793529...</td>\n",
       "    </tr>\n",
       "    <tr>\n",
       "      <th>2</th>\n",
       "      <td>3</td>\n",
       "      <td>Boise City</td>\n",
       "      <td>city</td>\n",
       "      <td>ID</td>\n",
       "      <td>16</td>\n",
       "      <td>1608830</td>\n",
       "      <td>State</td>\n",
       "      <td>8</td>\n",
       "      <td>225405</td>\n",
       "      <td>205671</td>\n",
       "      <td>...</td>\n",
       "      <td>21233</td>\n",
       "      <td>2414</td>\n",
       "      <td>5919</td>\n",
       "      <td>50647</td>\n",
       "      <td>2.97</td>\n",
       "      <td>92700</td>\n",
       "      <td>6996</td>\n",
       "      <td>52345</td>\n",
       "      <td>33359</td>\n",
       "      <td>{\"x\": -12938676.6836459, \"y\": 5403597.04949123...</td>\n",
       "    </tr>\n",
       "    <tr>\n",
       "      <th>3</th>\n",
       "      <td>4</td>\n",
       "      <td>Burley</td>\n",
       "      <td>city</td>\n",
       "      <td>ID</td>\n",
       "      <td>16</td>\n",
       "      <td>1611260</td>\n",
       "      <td></td>\n",
       "      <td>6</td>\n",
       "      <td>10727</td>\n",
       "      <td>10345</td>\n",
       "      <td>...</td>\n",
       "      <td>861</td>\n",
       "      <td>139</td>\n",
       "      <td>358</td>\n",
       "      <td>2499</td>\n",
       "      <td>3.37</td>\n",
       "      <td>3885</td>\n",
       "      <td>241</td>\n",
       "      <td>2183</td>\n",
       "      <td>1461</td>\n",
       "      <td>{\"x\": -12667411.402393516, \"y\": 5241722.820606...</td>\n",
       "    </tr>\n",
       "    <tr>\n",
       "      <th>4</th>\n",
       "      <td>5</td>\n",
       "      <td>Caldwell</td>\n",
       "      <td>city</td>\n",
       "      <td>ID</td>\n",
       "      <td>16</td>\n",
       "      <td>1612250</td>\n",
       "      <td></td>\n",
       "      <td>7</td>\n",
       "      <td>53942</td>\n",
       "      <td>46237</td>\n",
       "      <td>...</td>\n",
       "      <td>3113</td>\n",
       "      <td>686</td>\n",
       "      <td>1755</td>\n",
       "      <td>10776</td>\n",
       "      <td>3.51</td>\n",
       "      <td>16323</td>\n",
       "      <td>1428</td>\n",
       "      <td>9699</td>\n",
       "      <td>5196</td>\n",
       "      <td>{\"x\": -12989383.674504515, \"y\": 5413226.487333...</td>\n",
       "    </tr>\n",
       "  </tbody>\n",
       "</table>\n",
       "<p>5 rows × 50 columns</p>\n",
       "</div>"
      ],
      "text/plain": [
       "   FID        NAME CLASS  ST STFIPS PLACEFIPS CAPITAL  POP_CLASS  POPULATION  \\\n",
       "0    1       Ammon  city  ID     16   1601990                  6       15181   \n",
       "1    2   Blackfoot  city  ID     16   1607840                  6       11946   \n",
       "2    3  Boise City  city  ID     16   1608830   State          8      225405   \n",
       "3    4      Burley  city  ID     16   1611260                  6       10727   \n",
       "4    5    Caldwell  city  ID     16   1612250                  7       53942   \n",
       "\n",
       "   POP2010  ...  MARHH_NO_C  MHH_CHILD  FHH_CHILD  FAMILIES  AVE_FAM_SZ  \\\n",
       "0    13816  ...        1131        106        335      3352        3.61   \n",
       "1    11899  ...        1081        174        381      2958        3.31   \n",
       "2   205671  ...       21233       2414       5919     50647        2.97   \n",
       "3    10345  ...         861        139        358      2499        3.37   \n",
       "4    46237  ...        3113        686       1755     10776        3.51   \n",
       "\n",
       "   HSE_UNITS  VACANT  OWNER_OCC  RENTER_OCC  \\\n",
       "0       4747     271       3205        1271   \n",
       "1       4547     318       2788        1441   \n",
       "2      92700    6996      52345       33359   \n",
       "3       3885     241       2183        1461   \n",
       "4      16323    1428       9699        5196   \n",
       "\n",
       "                                               SHAPE  \n",
       "0  {\"x\": -12462673.723706165, \"y\": 5384674.994080...  \n",
       "1  {\"x\": -12506251.313993266, \"y\": 5341537.793529...  \n",
       "2  {\"x\": -12938676.6836459, \"y\": 5403597.04949123...  \n",
       "3  {\"x\": -12667411.402393516, \"y\": 5241722.820606...  \n",
       "4  {\"x\": -12989383.674504515, \"y\": 5413226.487333...  \n",
       "\n",
       "[5 rows x 50 columns]"
      ]
     },
     "execution_count": 518,
     "metadata": {},
     "output_type": "execute_result"
    }
   ],
   "source": [
    "'''\n",
    "View the city_df DataFrame first five rows.\n",
    "'''\n",
    "city_df.head()"
   ]
  },
  {
   "cell_type": "markdown",
   "id": "3efe3476",
   "metadata": {},
   "source": [
    "## Perform data transformation and/or cleansing steps"
   ]
  },
  {
   "cell_type": "markdown",
   "id": "499c0e20",
   "metadata": {},
   "source": [
    "### Data Transformation and/or Cleansing Step 1:\n",
    "Remove the whitespace present in the 'NAME' column for each city. This step will help when filtering the DataFrame based on the top 150 cities from Milestone 2. "
   ]
  },
  {
   "cell_type": "code",
   "execution_count": 519,
   "id": "1e369693",
   "metadata": {},
   "outputs": [],
   "source": [
    "'''\n",
    "Use .str.strip() to remove the whitespace in'NAME' and 'ST' columns.\n",
    "'''\n",
    "city_df['NAME'] = city_df['NAME'].str.strip()\n",
    "city_df['ST'] = city_df['ST'].str.strip()"
   ]
  },
  {
   "cell_type": "markdown",
   "id": "b5eadd84",
   "metadata": {},
   "source": [
    "### Data Transformation and/or Cleansing Step 2:\n",
    "Create an additional column for city_df which will include the city with a \"-\" and the state abbreviation. This will help provide a convenient way to filter the DataFrame for the top 150 cities while handling duplicate city names."
   ]
  },
  {
   "cell_type": "code",
   "execution_count": 520,
   "id": "5765e38d",
   "metadata": {},
   "outputs": [],
   "source": [
    "'''\n",
    "Add a column called city-state which will include a combined name for city and state with a \"-\".\n",
    "'''\n",
    "city_df['city-state'] = city_df['NAME']+\"-\"+city_df['ST']"
   ]
  },
  {
   "cell_type": "code",
   "execution_count": 521,
   "id": "5df2cc2f",
   "metadata": {},
   "outputs": [
    {
     "data": {
      "text/html": [
       "<div>\n",
       "<style scoped>\n",
       "    .dataframe tbody tr th:only-of-type {\n",
       "        vertical-align: middle;\n",
       "    }\n",
       "\n",
       "    .dataframe tbody tr th {\n",
       "        vertical-align: top;\n",
       "    }\n",
       "\n",
       "    .dataframe thead th {\n",
       "        text-align: right;\n",
       "    }\n",
       "</style>\n",
       "<table border=\"1\" class=\"dataframe\">\n",
       "  <thead>\n",
       "    <tr style=\"text-align: right;\">\n",
       "      <th></th>\n",
       "      <th>FID</th>\n",
       "      <th>NAME</th>\n",
       "      <th>CLASS</th>\n",
       "      <th>ST</th>\n",
       "      <th>STFIPS</th>\n",
       "      <th>PLACEFIPS</th>\n",
       "      <th>CAPITAL</th>\n",
       "      <th>POP_CLASS</th>\n",
       "      <th>POPULATION</th>\n",
       "      <th>POP2010</th>\n",
       "      <th>...</th>\n",
       "      <th>MHH_CHILD</th>\n",
       "      <th>FHH_CHILD</th>\n",
       "      <th>FAMILIES</th>\n",
       "      <th>AVE_FAM_SZ</th>\n",
       "      <th>HSE_UNITS</th>\n",
       "      <th>VACANT</th>\n",
       "      <th>OWNER_OCC</th>\n",
       "      <th>RENTER_OCC</th>\n",
       "      <th>SHAPE</th>\n",
       "      <th>city-state</th>\n",
       "    </tr>\n",
       "  </thead>\n",
       "  <tbody>\n",
       "    <tr>\n",
       "      <th>0</th>\n",
       "      <td>1</td>\n",
       "      <td>Ammon</td>\n",
       "      <td>city</td>\n",
       "      <td>ID</td>\n",
       "      <td>16</td>\n",
       "      <td>1601990</td>\n",
       "      <td></td>\n",
       "      <td>6</td>\n",
       "      <td>15181</td>\n",
       "      <td>13816</td>\n",
       "      <td>...</td>\n",
       "      <td>106</td>\n",
       "      <td>335</td>\n",
       "      <td>3352</td>\n",
       "      <td>3.61</td>\n",
       "      <td>4747</td>\n",
       "      <td>271</td>\n",
       "      <td>3205</td>\n",
       "      <td>1271</td>\n",
       "      <td>{\"x\": -12462673.723706165, \"y\": 5384674.994080...</td>\n",
       "      <td>Ammon-ID</td>\n",
       "    </tr>\n",
       "    <tr>\n",
       "      <th>1</th>\n",
       "      <td>2</td>\n",
       "      <td>Blackfoot</td>\n",
       "      <td>city</td>\n",
       "      <td>ID</td>\n",
       "      <td>16</td>\n",
       "      <td>1607840</td>\n",
       "      <td></td>\n",
       "      <td>6</td>\n",
       "      <td>11946</td>\n",
       "      <td>11899</td>\n",
       "      <td>...</td>\n",
       "      <td>174</td>\n",
       "      <td>381</td>\n",
       "      <td>2958</td>\n",
       "      <td>3.31</td>\n",
       "      <td>4547</td>\n",
       "      <td>318</td>\n",
       "      <td>2788</td>\n",
       "      <td>1441</td>\n",
       "      <td>{\"x\": -12506251.313993266, \"y\": 5341537.793529...</td>\n",
       "      <td>Blackfoot-ID</td>\n",
       "    </tr>\n",
       "    <tr>\n",
       "      <th>2</th>\n",
       "      <td>3</td>\n",
       "      <td>Boise City</td>\n",
       "      <td>city</td>\n",
       "      <td>ID</td>\n",
       "      <td>16</td>\n",
       "      <td>1608830</td>\n",
       "      <td>State</td>\n",
       "      <td>8</td>\n",
       "      <td>225405</td>\n",
       "      <td>205671</td>\n",
       "      <td>...</td>\n",
       "      <td>2414</td>\n",
       "      <td>5919</td>\n",
       "      <td>50647</td>\n",
       "      <td>2.97</td>\n",
       "      <td>92700</td>\n",
       "      <td>6996</td>\n",
       "      <td>52345</td>\n",
       "      <td>33359</td>\n",
       "      <td>{\"x\": -12938676.6836459, \"y\": 5403597.04949123...</td>\n",
       "      <td>Boise City-ID</td>\n",
       "    </tr>\n",
       "    <tr>\n",
       "      <th>3</th>\n",
       "      <td>4</td>\n",
       "      <td>Burley</td>\n",
       "      <td>city</td>\n",
       "      <td>ID</td>\n",
       "      <td>16</td>\n",
       "      <td>1611260</td>\n",
       "      <td></td>\n",
       "      <td>6</td>\n",
       "      <td>10727</td>\n",
       "      <td>10345</td>\n",
       "      <td>...</td>\n",
       "      <td>139</td>\n",
       "      <td>358</td>\n",
       "      <td>2499</td>\n",
       "      <td>3.37</td>\n",
       "      <td>3885</td>\n",
       "      <td>241</td>\n",
       "      <td>2183</td>\n",
       "      <td>1461</td>\n",
       "      <td>{\"x\": -12667411.402393516, \"y\": 5241722.820606...</td>\n",
       "      <td>Burley-ID</td>\n",
       "    </tr>\n",
       "    <tr>\n",
       "      <th>4</th>\n",
       "      <td>5</td>\n",
       "      <td>Caldwell</td>\n",
       "      <td>city</td>\n",
       "      <td>ID</td>\n",
       "      <td>16</td>\n",
       "      <td>1612250</td>\n",
       "      <td></td>\n",
       "      <td>7</td>\n",
       "      <td>53942</td>\n",
       "      <td>46237</td>\n",
       "      <td>...</td>\n",
       "      <td>686</td>\n",
       "      <td>1755</td>\n",
       "      <td>10776</td>\n",
       "      <td>3.51</td>\n",
       "      <td>16323</td>\n",
       "      <td>1428</td>\n",
       "      <td>9699</td>\n",
       "      <td>5196</td>\n",
       "      <td>{\"x\": -12989383.674504515, \"y\": 5413226.487333...</td>\n",
       "      <td>Caldwell-ID</td>\n",
       "    </tr>\n",
       "  </tbody>\n",
       "</table>\n",
       "<p>5 rows × 51 columns</p>\n",
       "</div>"
      ],
      "text/plain": [
       "   FID        NAME CLASS  ST STFIPS PLACEFIPS CAPITAL  POP_CLASS  POPULATION  \\\n",
       "0    1       Ammon  city  ID     16   1601990                  6       15181   \n",
       "1    2   Blackfoot  city  ID     16   1607840                  6       11946   \n",
       "2    3  Boise City  city  ID     16   1608830   State          8      225405   \n",
       "3    4      Burley  city  ID     16   1611260                  6       10727   \n",
       "4    5    Caldwell  city  ID     16   1612250                  7       53942   \n",
       "\n",
       "   POP2010  ...  MHH_CHILD  FHH_CHILD  FAMILIES  AVE_FAM_SZ  HSE_UNITS  \\\n",
       "0    13816  ...        106        335      3352        3.61       4747   \n",
       "1    11899  ...        174        381      2958        3.31       4547   \n",
       "2   205671  ...       2414       5919     50647        2.97      92700   \n",
       "3    10345  ...        139        358      2499        3.37       3885   \n",
       "4    46237  ...        686       1755     10776        3.51      16323   \n",
       "\n",
       "   VACANT  OWNER_OCC  RENTER_OCC  \\\n",
       "0     271       3205        1271   \n",
       "1     318       2788        1441   \n",
       "2    6996      52345       33359   \n",
       "3     241       2183        1461   \n",
       "4    1428       9699        5196   \n",
       "\n",
       "                                               SHAPE     city-state  \n",
       "0  {\"x\": -12462673.723706165, \"y\": 5384674.994080...       Ammon-ID  \n",
       "1  {\"x\": -12506251.313993266, \"y\": 5341537.793529...   Blackfoot-ID  \n",
       "2  {\"x\": -12938676.6836459, \"y\": 5403597.04949123...  Boise City-ID  \n",
       "3  {\"x\": -12667411.402393516, \"y\": 5241722.820606...      Burley-ID  \n",
       "4  {\"x\": -12989383.674504515, \"y\": 5413226.487333...    Caldwell-ID  \n",
       "\n",
       "[5 rows x 51 columns]"
      ]
     },
     "execution_count": 521,
     "metadata": {},
     "output_type": "execute_result"
    }
   ],
   "source": [
    "'''\n",
    "Show that 'city-state' column was successfully added to the DataFrame. There will now be 51 columns.\n",
    "'''\n",
    "city_df.head()"
   ]
  },
  {
   "cell_type": "markdown",
   "id": "3179ed25",
   "metadata": {},
   "source": [
    "### Data Transformation and/or Cleansing Step 3:\n",
    "Filter the DataFrame based on the top 150 cities from Milestone 2. This will involve creating a list from the final DataFrame produced from Milestone 2 for the top 150 cities. "
   ]
  },
  {
   "cell_type": "code",
   "execution_count": 522,
   "id": "d91a38cb",
   "metadata": {},
   "outputs": [],
   "source": [
    "'''\n",
    "Move a copy of the final DataFrame produced in Milestone 2 into the working directory for this notebook. \n",
    "The df_final from Milestone 2 was renamed df_final_milestone2.csv.\n",
    "The city names were stripped down to just the name without any state abbreviations.\n",
    "Begin by reading the csv file for milestone 2 with pd.read_csv.\n",
    "Create a dictionary which includes the top 150 cities listed in US News Report.\n",
    "'''\n",
    "df_final_milestone2 = pd.read_csv(\"df_final_milestone2.csv\")"
   ]
  },
  {
   "cell_type": "code",
   "execution_count": 523,
   "id": "01e75ad3",
   "metadata": {},
   "outputs": [
    {
     "data": {
      "text/plain": [
       "(150, 10)"
      ]
     },
     "execution_count": 523,
     "metadata": {},
     "output_type": "execute_result"
    }
   ],
   "source": [
    "'''\n",
    "Understand the shape of the DataFrame.\n",
    "'''\n",
    "df_final_milestone2.shape"
   ]
  },
  {
   "cell_type": "code",
   "execution_count": 526,
   "id": "3c9dfaf3",
   "metadata": {},
   "outputs": [],
   "source": [
    "'''\n",
    "Use list() and zip() to create a tupled list of city and state abbreviation.\n",
    "Eliminated the whitespace from the State abbreviations straight from the CSV file.\n",
    "Create a list of the top 150 cities with the corresponding state abbreviation to help filter the DataFrame.\n",
    "'''\n",
    "my_list = list(zip(df_final_milestone2['city'], df_final_milestone2['state']))"
   ]
  },
  {
   "cell_type": "code",
   "execution_count": 527,
   "id": "55afa8e3",
   "metadata": {},
   "outputs": [
    {
     "data": {
      "text/plain": [
       "[('Boulder', 'CO'),\n",
       " ('Raleigh', 'NC'),\n",
       " ('Huntsville', 'AL'),\n",
       " ('Fayetteville', 'AR'),\n",
       " ('Austin', 'TX'),\n",
       " ('Colorado Springs', 'CO'),\n",
       " ('Naples', 'FL'),\n",
       " ('Portland', 'ME'),\n",
       " ('Sarasota', 'FL'),\n",
       " ('Portland', 'OR'),\n",
       " ('Boise City', 'ID'),\n",
       " ('Ann Arbor', 'MI'),\n",
       " ('Des Moines', 'IA'),\n",
       " ('Denver', 'CO'),\n",
       " ('San Francisco', 'CA'),\n",
       " ('Madison', 'WI'),\n",
       " ('Fort Collins', 'CO'),\n",
       " ('Melbourne', 'FL'),\n",
       " ('Seattle', 'WA'),\n",
       " ('Charlotte', 'NC'),\n",
       " ('Green Bay', 'WI'),\n",
       " ('Jacksonville', 'FL'),\n",
       " ('Salt Lake City', 'UT'),\n",
       " ('Spartanburg', 'SC'),\n",
       " ('Omaha', 'NE'),\n",
       " ('Pensacola', 'FL'),\n",
       " ('Minneapolis', 'MN'),\n",
       " ('Washington', 'DC'),\n",
       " ('Lincoln', 'NE'),\n",
       " ('Nashville', 'TN'),\n",
       " ('Boston', 'MA'),\n",
       " ('Tampa', 'FL'),\n",
       " ('Lexington', 'KY'),\n",
       " ('Grand Rapids', 'MI'),\n",
       " ('Myrtle Beach', 'SC'),\n",
       " ('San Jose', 'CA'),\n",
       " ('Dallas', 'TX'),\n",
       " ('Greenville', 'SC'),\n",
       " ('Houston', 'TX'),\n",
       " ('Phoenix', 'AZ'),\n",
       " ('Knoxville', 'TN'),\n",
       " ('Charleston', 'SC'),\n",
       " ('Fort Myers', 'FL'),\n",
       " ('Cincinnati', 'OH'),\n",
       " ('Albany', 'NY'),\n",
       " ('Winston-Salem', 'NC'),\n",
       " ('Port St. Lucie', 'FL'),\n",
       " ('Asheville', 'NC'),\n",
       " ('Chattanooga', 'TN'),\n",
       " ('Richmond', 'VA'),\n",
       " ('Kalamazoo', 'MI'),\n",
       " ('Hickory', 'NC'),\n",
       " ('Hartford', 'CT'),\n",
       " ('Columbia', 'SC'),\n",
       " ('Atlanta', 'GA'),\n",
       " ('Reno', 'NV'),\n",
       " ('Kansas City', 'MO'),\n",
       " ('Ocala', 'FL'),\n",
       " ('Columbus', 'OH'),\n",
       " ('Orlando', 'FL'),\n",
       " ('Harrisburg', 'PA'),\n",
       " ('Salem', 'OR'),\n",
       " ('Syracuse', 'NY'),\n",
       " ('Lansing', 'MI'),\n",
       " ('Eugene', 'OR'),\n",
       " ('Indianapolis', 'IN'),\n",
       " ('Manchester', 'NH'),\n",
       " ('Oklahoma City', 'OK'),\n",
       " ('Daytona Beach', 'FL'),\n",
       " ('Buffalo', 'NY'),\n",
       " ('Pittsburgh', 'PA'),\n",
       " ('Rochester', 'NY'),\n",
       " ('Fort Wayne', 'IN'),\n",
       " ('Lancaster', 'PA'),\n",
       " ('San Antonio', 'TX'),\n",
       " ('Tallahassee', 'FL'),\n",
       " ('Louisville', 'KY'),\n",
       " ('Spokane', 'WA'),\n",
       " ('Springfield', 'MO'),\n",
       " ('Lakeland', 'FL'),\n",
       " ('Tucson', 'AZ'),\n",
       " ('Augusta', 'GA'),\n",
       " ('Worcester', 'MA'),\n",
       " ('Savannah', 'GA'),\n",
       " ('Dayton', 'OH'),\n",
       " ('Davenport', 'IA'),\n",
       " ('Peoria', 'IL'),\n",
       " ('South Bend', 'IN'),\n",
       " ('Tulsa', 'OK'),\n",
       " ('Anchorage', 'AK'),\n",
       " ('Birmingham', 'AL'),\n",
       " ('Milwaukee', 'WI'),\n",
       " ('Little Rock', 'AR'),\n",
       " ('Greensboro', 'NC'),\n",
       " ('Salisbury', 'MD'),\n",
       " ('York', 'PA'),\n",
       " ('San Diego', 'CA'),\n",
       " ('Sacramento', 'CA'),\n",
       " ('St. Louis', 'MO'),\n",
       " ('Baltimore', 'MD'),\n",
       " ('Reading', 'PA'),\n",
       " ('Chicago', 'IL'),\n",
       " ('Wichita', 'KS'),\n",
       " ('Cleveland', 'OH'),\n",
       " ('Virginia Beach', 'VA'),\n",
       " ('Providence', 'RI'),\n",
       " ('Baton Rouge', 'LA'),\n",
       " ('Allentown', 'PA'),\n",
       " ('Springfield', 'MA'),\n",
       " ('Scranton', 'PA'),\n",
       " ('New Haven', 'CT'),\n",
       " ('Philadelphia', 'PA'),\n",
       " ('Honolulu', 'HI'),\n",
       " ('Killeen', 'TX'),\n",
       " ('Santa Barbara', 'CA'),\n",
       " ('Toledo', 'OH'),\n",
       " ('Trenton', 'NJ'),\n",
       " ('New York', 'NY'),\n",
       " ('Huntington', 'WV'),\n",
       " ('Albuquerque', 'NM'),\n",
       " ('Santa Rosa', 'CA'),\n",
       " ('Montgomery', 'AL'),\n",
       " ('Lafayette', 'LA'),\n",
       " ('Beaumont', 'TX'),\n",
       " ('Youngstown', 'OH'),\n",
       " ('Los Angeles', 'CA'),\n",
       " ('Detroit', 'MI'),\n",
       " ('Miami', 'FL'),\n",
       " ('Corpus Christi', 'TX'),\n",
       " ('Jackson', 'MS'),\n",
       " ('El Paso', 'TX'),\n",
       " ('Mobile', 'AL'),\n",
       " ('Rockford', 'IL'),\n",
       " ('Gulfport', 'MS'),\n",
       " ('Vallejo', 'CA'),\n",
       " ('Fresno', 'CA'),\n",
       " ('Las Vegas', 'NV'),\n",
       " ('New Orleans', 'LA'),\n",
       " ('McAllen', 'TX'),\n",
       " ('Brownsville', 'TX'),\n",
       " ('Salinas', 'CA'),\n",
       " ('Fayetteville', 'NC'),\n",
       " ('Memphis', 'TN'),\n",
       " ('Flint', 'MI'),\n",
       " ('Shreveport', 'LA'),\n",
       " ('Modesto', 'CA'),\n",
       " ('Stockton', 'CA'),\n",
       " ('Bakersfield', 'CA'),\n",
       " ('Visalia', 'CA'),\n",
       " ('San Juan', 'PR')]"
      ]
     },
     "execution_count": 527,
     "metadata": {},
     "output_type": "execute_result"
    }
   ],
   "source": [
    "'''\n",
    "Show my_list to ensure the city and state abbreviations are stored correctly as tupled pairs.\n",
    "'''\n",
    "my_list"
   ]
  },
  {
   "cell_type": "code",
   "execution_count": 528,
   "id": "be163735",
   "metadata": {},
   "outputs": [
    {
     "data": {
      "text/plain": [
       "150"
      ]
     },
     "execution_count": 528,
     "metadata": {},
     "output_type": "execute_result"
    }
   ],
   "source": [
    "'''\n",
    "Print the length of my_list.\n",
    "'''\n",
    "len(my_list)"
   ]
  },
  {
   "cell_type": "code",
   "execution_count": 529,
   "id": "276a73db",
   "metadata": {},
   "outputs": [
    {
     "data": {
      "text/plain": [
       "['Boulder-CO',\n",
       " 'Raleigh-NC',\n",
       " 'Huntsville-AL',\n",
       " 'Fayetteville-AR',\n",
       " 'Austin-TX',\n",
       " 'Colorado Springs-CO',\n",
       " 'Naples-FL',\n",
       " 'Portland-ME',\n",
       " 'Sarasota-FL',\n",
       " 'Portland-OR',\n",
       " 'Boise City-ID',\n",
       " 'Ann Arbor-MI',\n",
       " 'Des Moines-IA',\n",
       " 'Denver-CO',\n",
       " 'San Francisco-CA',\n",
       " 'Madison-WI',\n",
       " 'Fort Collins-CO',\n",
       " 'Melbourne-FL',\n",
       " 'Seattle-WA',\n",
       " 'Charlotte-NC',\n",
       " 'Green Bay-WI',\n",
       " 'Jacksonville-FL',\n",
       " 'Salt Lake City-UT',\n",
       " 'Spartanburg-SC',\n",
       " 'Omaha-NE',\n",
       " 'Pensacola-FL',\n",
       " 'Minneapolis-MN',\n",
       " 'Washington-DC',\n",
       " 'Lincoln-NE',\n",
       " 'Nashville-TN',\n",
       " 'Boston-MA',\n",
       " 'Tampa-FL',\n",
       " 'Lexington-KY',\n",
       " 'Grand Rapids-MI',\n",
       " 'Myrtle Beach-SC',\n",
       " 'San Jose-CA',\n",
       " 'Dallas-TX',\n",
       " 'Greenville-SC',\n",
       " 'Houston-TX',\n",
       " 'Phoenix-AZ',\n",
       " 'Knoxville-TN',\n",
       " 'Charleston-SC',\n",
       " 'Fort Myers-FL',\n",
       " 'Cincinnati-OH',\n",
       " 'Albany-NY',\n",
       " 'Winston-Salem-NC',\n",
       " 'Port St. Lucie-FL',\n",
       " 'Asheville-NC',\n",
       " 'Chattanooga-TN',\n",
       " 'Richmond-VA',\n",
       " 'Kalamazoo-MI',\n",
       " 'Hickory-NC',\n",
       " 'Hartford-CT',\n",
       " 'Columbia-SC',\n",
       " 'Atlanta-GA',\n",
       " 'Reno-NV',\n",
       " 'Kansas City-MO',\n",
       " 'Ocala-FL',\n",
       " 'Columbus-OH',\n",
       " 'Orlando-FL',\n",
       " 'Harrisburg-PA',\n",
       " 'Salem-OR',\n",
       " 'Syracuse-NY',\n",
       " 'Lansing-MI',\n",
       " 'Eugene-OR',\n",
       " 'Indianapolis-IN',\n",
       " 'Manchester-NH',\n",
       " 'Oklahoma City-OK',\n",
       " 'Daytona Beach-FL',\n",
       " 'Buffalo-NY',\n",
       " 'Pittsburgh-PA',\n",
       " 'Rochester-NY',\n",
       " 'Fort Wayne-IN',\n",
       " 'Lancaster-PA',\n",
       " 'San Antonio-TX',\n",
       " 'Tallahassee-FL',\n",
       " 'Louisville-KY',\n",
       " 'Spokane-WA',\n",
       " 'Springfield-MO',\n",
       " 'Lakeland-FL',\n",
       " 'Tucson-AZ',\n",
       " 'Augusta-GA',\n",
       " 'Worcester-MA',\n",
       " 'Savannah-GA',\n",
       " 'Dayton-OH',\n",
       " 'Davenport-IA',\n",
       " 'Peoria-IL',\n",
       " 'South Bend-IN',\n",
       " 'Tulsa-OK',\n",
       " 'Anchorage-AK',\n",
       " 'Birmingham-AL',\n",
       " 'Milwaukee-WI',\n",
       " 'Little Rock-AR',\n",
       " 'Greensboro-NC',\n",
       " 'Salisbury-MD',\n",
       " 'York-PA',\n",
       " 'San Diego-CA',\n",
       " 'Sacramento-CA',\n",
       " 'St. Louis-MO',\n",
       " 'Baltimore-MD',\n",
       " 'Reading-PA',\n",
       " 'Chicago-IL',\n",
       " 'Wichita-KS',\n",
       " 'Cleveland-OH',\n",
       " 'Virginia Beach-VA',\n",
       " 'Providence-RI',\n",
       " 'Baton Rouge-LA',\n",
       " 'Allentown-PA',\n",
       " 'Springfield-MA',\n",
       " 'Scranton-PA',\n",
       " 'New Haven-CT',\n",
       " 'Philadelphia-PA',\n",
       " 'Honolulu-HI',\n",
       " 'Killeen-TX',\n",
       " 'Santa Barbara-CA',\n",
       " 'Toledo-OH',\n",
       " 'Trenton-NJ',\n",
       " 'New York-NY',\n",
       " 'Huntington-WV',\n",
       " 'Albuquerque-NM',\n",
       " 'Santa Rosa-CA',\n",
       " 'Montgomery-AL',\n",
       " 'Lafayette-LA',\n",
       " 'Beaumont-TX',\n",
       " 'Youngstown-OH',\n",
       " 'Los Angeles-CA',\n",
       " 'Detroit-MI',\n",
       " 'Miami-FL',\n",
       " 'Corpus Christi-TX',\n",
       " 'Jackson-MS',\n",
       " 'El Paso-TX',\n",
       " 'Mobile-AL',\n",
       " 'Rockford-IL',\n",
       " 'Gulfport-MS',\n",
       " 'Vallejo-CA',\n",
       " 'Fresno-CA',\n",
       " 'Las Vegas-NV',\n",
       " 'New Orleans-LA',\n",
       " 'McAllen-TX',\n",
       " 'Brownsville-TX',\n",
       " 'Salinas-CA',\n",
       " 'Fayetteville-NC',\n",
       " 'Memphis-TN',\n",
       " 'Flint-MI',\n",
       " 'Shreveport-LA',\n",
       " 'Modesto-CA',\n",
       " 'Stockton-CA',\n",
       " 'Bakersfield-CA',\n",
       " 'Visalia-CA',\n",
       " 'San Juan-PR']"
      ]
     },
     "execution_count": 529,
     "metadata": {},
     "output_type": "execute_result"
    }
   ],
   "source": [
    "'''\n",
    "Create a list called city_state_list that contains the top 150 city-state combinations.\n",
    "'''\n",
    "city_state_list = []\n",
    "for key,value in my_list:\n",
    "    city_state_list.append(key + '-' + value)\n",
    "city_state_list"
   ]
  },
  {
   "cell_type": "code",
   "execution_count": 530,
   "id": "4fce7904",
   "metadata": {},
   "outputs": [
    {
     "data": {
      "text/plain": [
       "150"
      ]
     },
     "execution_count": 530,
     "metadata": {},
     "output_type": "execute_result"
    }
   ],
   "source": [
    "'''\n",
    "Check the length of the city_state_list to ensure there are 150 cities.\n",
    "'''\n",
    "len(city_state_list)"
   ]
  },
  {
   "cell_type": "code",
   "execution_count": 531,
   "id": "f8a6b000",
   "metadata": {},
   "outputs": [],
   "source": [
    "df_final = city_df[city_df['city-state'].isin(city_state_list)]"
   ]
  },
  {
   "cell_type": "code",
   "execution_count": 532,
   "id": "bf65ece5",
   "metadata": {},
   "outputs": [
    {
     "data": {
      "text/html": [
       "<div>\n",
       "<style scoped>\n",
       "    .dataframe tbody tr th:only-of-type {\n",
       "        vertical-align: middle;\n",
       "    }\n",
       "\n",
       "    .dataframe tbody tr th {\n",
       "        vertical-align: top;\n",
       "    }\n",
       "\n",
       "    .dataframe thead th {\n",
       "        text-align: right;\n",
       "    }\n",
       "</style>\n",
       "<table border=\"1\" class=\"dataframe\">\n",
       "  <thead>\n",
       "    <tr style=\"text-align: right;\">\n",
       "      <th></th>\n",
       "      <th>FID</th>\n",
       "      <th>NAME</th>\n",
       "      <th>CLASS</th>\n",
       "      <th>ST</th>\n",
       "      <th>STFIPS</th>\n",
       "      <th>PLACEFIPS</th>\n",
       "      <th>CAPITAL</th>\n",
       "      <th>POP_CLASS</th>\n",
       "      <th>POPULATION</th>\n",
       "      <th>POP2010</th>\n",
       "      <th>...</th>\n",
       "      <th>MHH_CHILD</th>\n",
       "      <th>FHH_CHILD</th>\n",
       "      <th>FAMILIES</th>\n",
       "      <th>AVE_FAM_SZ</th>\n",
       "      <th>HSE_UNITS</th>\n",
       "      <th>VACANT</th>\n",
       "      <th>OWNER_OCC</th>\n",
       "      <th>RENTER_OCC</th>\n",
       "      <th>SHAPE</th>\n",
       "      <th>city-state</th>\n",
       "    </tr>\n",
       "  </thead>\n",
       "  <tbody>\n",
       "    <tr>\n",
       "      <th>2</th>\n",
       "      <td>3</td>\n",
       "      <td>Boise City</td>\n",
       "      <td>city</td>\n",
       "      <td>ID</td>\n",
       "      <td>16</td>\n",
       "      <td>1608830</td>\n",
       "      <td>State</td>\n",
       "      <td>8</td>\n",
       "      <td>225405</td>\n",
       "      <td>205671</td>\n",
       "      <td>...</td>\n",
       "      <td>2414</td>\n",
       "      <td>5919</td>\n",
       "      <td>50647</td>\n",
       "      <td>2.97</td>\n",
       "      <td>92700</td>\n",
       "      <td>6996</td>\n",
       "      <td>52345</td>\n",
       "      <td>33359</td>\n",
       "      <td>{\"x\": -12938676.6836459, \"y\": 5403597.04949123...</td>\n",
       "      <td>Boise City-ID</td>\n",
       "    </tr>\n",
       "    <tr>\n",
       "      <th>62</th>\n",
       "      <td>63</td>\n",
       "      <td>Chicago</td>\n",
       "      <td>city</td>\n",
       "      <td>IL</td>\n",
       "      <td>17</td>\n",
       "      <td>1714000</td>\n",
       "      <td></td>\n",
       "      <td>10</td>\n",
       "      <td>2781116</td>\n",
       "      <td>2695598</td>\n",
       "      <td>...</td>\n",
       "      <td>28332</td>\n",
       "      <td>116555</td>\n",
       "      <td>576793</td>\n",
       "      <td>3.40</td>\n",
       "      <td>1194337</td>\n",
       "      <td>148777</td>\n",
       "      <td>469562</td>\n",
       "      <td>575998</td>\n",
       "      <td>{\"x\": -9756835.705284344, \"y\": 5124572.0445172...</td>\n",
       "      <td>Chicago-IL</td>\n",
       "    </tr>\n",
       "    <tr>\n",
       "      <th>182</th>\n",
       "      <td>183</td>\n",
       "      <td>Peoria</td>\n",
       "      <td>city</td>\n",
       "      <td>IL</td>\n",
       "      <td>17</td>\n",
       "      <td>1759000</td>\n",
       "      <td></td>\n",
       "      <td>8</td>\n",
       "      <td>116343</td>\n",
       "      <td>115007</td>\n",
       "      <td>...</td>\n",
       "      <td>1065</td>\n",
       "      <td>5775</td>\n",
       "      <td>27353</td>\n",
       "      <td>3.06</td>\n",
       "      <td>52621</td>\n",
       "      <td>5469</td>\n",
       "      <td>27349</td>\n",
       "      <td>19803</td>\n",
       "      <td>{\"x\": -9973119.96631685, \"y\": 4966943.94268674...</td>\n",
       "      <td>Peoria-IL</td>\n",
       "    </tr>\n",
       "    <tr>\n",
       "      <th>194</th>\n",
       "      <td>195</td>\n",
       "      <td>Rockford</td>\n",
       "      <td>city</td>\n",
       "      <td>IL</td>\n",
       "      <td>17</td>\n",
       "      <td>1765000</td>\n",
       "      <td></td>\n",
       "      <td>8</td>\n",
       "      <td>150027</td>\n",
       "      <td>152871</td>\n",
       "      <td>...</td>\n",
       "      <td>2013</td>\n",
       "      <td>7634</td>\n",
       "      <td>37044</td>\n",
       "      <td>3.14</td>\n",
       "      <td>66700</td>\n",
       "      <td>6727</td>\n",
       "      <td>34998</td>\n",
       "      <td>24975</td>\n",
       "      <td>{\"x\": -9914287.199988268, \"y\": 5200447.4284772...</td>\n",
       "      <td>Rockford-IL</td>\n",
       "    </tr>\n",
       "    <tr>\n",
       "      <th>264</th>\n",
       "      <td>265</td>\n",
       "      <td>Fort Wayne</td>\n",
       "      <td>city</td>\n",
       "      <td>IN</td>\n",
       "      <td>18</td>\n",
       "      <td>1825000</td>\n",
       "      <td></td>\n",
       "      <td>8</td>\n",
       "      <td>263854</td>\n",
       "      <td>253691</td>\n",
       "      <td>...</td>\n",
       "      <td>3113</td>\n",
       "      <td>10853</td>\n",
       "      <td>63001</td>\n",
       "      <td>3.09</td>\n",
       "      <td>113541</td>\n",
       "      <td>11956</td>\n",
       "      <td>64291</td>\n",
       "      <td>37294</td>\n",
       "      <td>{\"x\": -9478144.565630203, \"y\": 5025404.7988688...</td>\n",
       "      <td>Fort Wayne-IN</td>\n",
       "    </tr>\n",
       "  </tbody>\n",
       "</table>\n",
       "<p>5 rows × 51 columns</p>\n",
       "</div>"
      ],
      "text/plain": [
       "     FID        NAME CLASS  ST STFIPS PLACEFIPS CAPITAL  POP_CLASS  \\\n",
       "2      3  Boise City  city  ID     16   1608830   State          8   \n",
       "62    63     Chicago  city  IL     17   1714000                 10   \n",
       "182  183      Peoria  city  IL     17   1759000                  8   \n",
       "194  195    Rockford  city  IL     17   1765000                  8   \n",
       "264  265  Fort Wayne  city  IN     18   1825000                  8   \n",
       "\n",
       "     POPULATION  POP2010  ...  MHH_CHILD  FHH_CHILD  FAMILIES  AVE_FAM_SZ  \\\n",
       "2        225405   205671  ...       2414       5919     50647        2.97   \n",
       "62      2781116  2695598  ...      28332     116555    576793        3.40   \n",
       "182      116343   115007  ...       1065       5775     27353        3.06   \n",
       "194      150027   152871  ...       2013       7634     37044        3.14   \n",
       "264      263854   253691  ...       3113      10853     63001        3.09   \n",
       "\n",
       "     HSE_UNITS  VACANT  OWNER_OCC  RENTER_OCC  \\\n",
       "2        92700    6996      52345       33359   \n",
       "62     1194337  148777     469562      575998   \n",
       "182      52621    5469      27349       19803   \n",
       "194      66700    6727      34998       24975   \n",
       "264     113541   11956      64291       37294   \n",
       "\n",
       "                                                 SHAPE     city-state  \n",
       "2    {\"x\": -12938676.6836459, \"y\": 5403597.04949123...  Boise City-ID  \n",
       "62   {\"x\": -9756835.705284344, \"y\": 5124572.0445172...     Chicago-IL  \n",
       "182  {\"x\": -9973119.96631685, \"y\": 4966943.94268674...      Peoria-IL  \n",
       "194  {\"x\": -9914287.199988268, \"y\": 5200447.4284772...    Rockford-IL  \n",
       "264  {\"x\": -9478144.565630203, \"y\": 5025404.7988688...  Fort Wayne-IN  \n",
       "\n",
       "[5 rows x 51 columns]"
      ]
     },
     "execution_count": 532,
     "metadata": {},
     "output_type": "execute_result"
    }
   ],
   "source": [
    "df_final.head()"
   ]
  },
  {
   "cell_type": "code",
   "execution_count": 533,
   "id": "a828321e",
   "metadata": {},
   "outputs": [
    {
     "data": {
      "text/plain": [
       "(149, 51)"
      ]
     },
     "execution_count": 533,
     "metadata": {},
     "output_type": "execute_result"
    }
   ],
   "source": [
    "'''\n",
    "Understand the shape of df_final to see the number of rows and columns.\n",
    "'''\n",
    "df_final.shape"
   ]
  },
  {
   "cell_type": "code",
   "execution_count": 534,
   "id": "a76b6cea",
   "metadata": {},
   "outputs": [
    {
     "name": "stdout",
     "output_type": "stream",
     "text": [
      "Boise City-ID\n",
      "Chicago-IL\n",
      "Peoria-IL\n",
      "Rockford-IL\n",
      "Fort Wayne-IN\n",
      "Indianapolis-IN\n",
      "South Bend-IN\n",
      "Davenport-IA\n",
      "Des Moines-IA\n",
      "Wichita-KS\n",
      "Los Angeles-CA\n",
      "Modesto-CA\n",
      "Sacramento-CA\n",
      "Salinas-CA\n",
      "San Diego-CA\n",
      "San Francisco-CA\n",
      "San Jose-CA\n",
      "Santa Barbara-CA\n",
      "Santa Rosa-CA\n",
      "Stockton-CA\n",
      "Vallejo-CA\n",
      "Visalia-CA\n",
      "Boulder-CO\n",
      "Colorado Springs-CO\n",
      "Denver-CO\n",
      "Fort Collins-CO\n",
      "Hartford-CT\n",
      "New Haven-CT\n",
      "Washington-DC\n",
      "Birmingham-AL\n",
      "Huntsville-AL\n",
      "Mobile-AL\n",
      "Montgomery-AL\n",
      "Anchorage-AK\n",
      "Phoenix-AZ\n",
      "Tucson-AZ\n",
      "Fayetteville-AR\n",
      "Little Rock-AR\n",
      "Bakersfield-CA\n",
      "Fresno-CA\n",
      "Lexington-KY\n",
      "Louisville-KY\n",
      "Baton Rouge-LA\n",
      "Lafayette-LA\n",
      "New Orleans-LA\n",
      "Shreveport-LA\n",
      "Portland-ME\n",
      "Baltimore-MD\n",
      "Salisbury-MD\n",
      "Boston-MA\n",
      "Springfield-MA\n",
      "Worcester-MA\n",
      "Ann Arbor-MI\n",
      "Detroit-MI\n",
      "Flint-MI\n",
      "Grand Rapids-MI\n",
      "Kalamazoo-MI\n",
      "Lansing-MI\n",
      "Daytona Beach-FL\n",
      "Fort Myers-FL\n",
      "Jacksonville-FL\n",
      "Lakeland-FL\n",
      "Melbourne-FL\n",
      "Miami-FL\n",
      "Naples-FL\n",
      "Ocala-FL\n",
      "Orlando-FL\n",
      "Pensacola-FL\n",
      "Port St. Lucie-FL\n",
      "Sarasota-FL\n",
      "Tallahassee-FL\n",
      "Tampa-FL\n",
      "Atlanta-GA\n",
      "Augusta-GA\n",
      "Savannah-GA\n",
      "Honolulu-HI\n",
      "Trenton-NJ\n",
      "Albuquerque-NM\n",
      "Albany-NY\n",
      "Buffalo-NY\n",
      "New York-NY\n",
      "Rochester-NY\n",
      "Syracuse-NY\n",
      "Asheville-NC\n",
      "Charlotte-NC\n",
      "Fayetteville-NC\n",
      "Greensboro-NC\n",
      "Hickory-NC\n",
      "Raleigh-NC\n",
      "Winston-Salem-NC\n",
      "Cincinnati-OH\n",
      "Cleveland-OH\n",
      "Columbus-OH\n",
      "Dayton-OH\n",
      "Richmond-VA\n",
      "Virginia Beach-VA\n",
      "Seattle-WA\n",
      "Spokane-WA\n",
      "Huntington-WV\n",
      "Green Bay-WI\n",
      "Madison-WI\n",
      "Milwaukee-WI\n",
      "Toledo-OH\n",
      "Youngstown-OH\n",
      "Oklahoma City-OK\n",
      "Tulsa-OK\n",
      "Eugene-OR\n",
      "Portland-OR\n",
      "Salem-OR\n",
      "Allentown-PA\n",
      "Harrisburg-PA\n",
      "Lancaster-PA\n",
      "Philadelphia-PA\n",
      "Pittsburgh-PA\n",
      "Reading-PA\n",
      "Scranton-PA\n",
      "York-PA\n",
      "Providence-RI\n",
      "Charleston-SC\n",
      "Columbia-SC\n",
      "Greenville-SC\n",
      "Myrtle Beach-SC\n",
      "Spartanburg-SC\n",
      "Chattanooga-TN\n",
      "Minneapolis-MN\n",
      "Gulfport-MS\n",
      "Jackson-MS\n",
      "Kansas City-MO\n",
      "St. Louis-MO\n",
      "Springfield-MO\n",
      "Lincoln-NE\n",
      "Omaha-NE\n",
      "Las Vegas-NV\n",
      "Reno-NV\n",
      "Manchester-NH\n",
      "Knoxville-TN\n",
      "Memphis-TN\n",
      "Nashville-TN\n",
      "Austin-TX\n",
      "Beaumont-TX\n",
      "Brownsville-TX\n",
      "Corpus Christi-TX\n",
      "Dallas-TX\n",
      "El Paso-TX\n",
      "Houston-TX\n",
      "Killeen-TX\n",
      "McAllen-TX\n",
      "San Antonio-TX\n",
      "Salt Lake City-UT\n"
     ]
    }
   ],
   "source": [
    "'''\n",
    "Print out the 'city-state' combination to view any missing from the list of 150.\n",
    "Also, provides the opportunity to review with the original list for any city naming anomolies.\n",
    "Compare with the ArcGIS filter site for any differences.\n",
    "For example, New York City vs. New York.\n",
    "'''\n",
    "for l in df_final['city-state']:\n",
    "    print(l)"
   ]
  },
  {
   "cell_type": "markdown",
   "id": "e1288403",
   "metadata": {},
   "source": [
    "### Data Transformation and/or Cleansing Step 3:\n",
    "Remove non-essential columns. The columns that will be retained will be population columns, ethnicity/race counts, family count/size, and housing data.  "
   ]
  },
  {
   "cell_type": "code",
   "execution_count": 535,
   "id": "e8f36b87",
   "metadata": {},
   "outputs": [],
   "source": [
    "'''\n",
    "Create a list of essential columns to include in df_final.\n",
    "Columns removed from the Data Frame are:\n",
    "'FID', 'CLASS', 'POP_CLASS', 'MED_AGE_M', 'MED_AGE_F', 'STFIPS', 'PLACEFIPS',\n",
    "'CAPITAL', 'HSEHLD_1_M', 'HSEHLD_1_F', 'MARHH_CHD', 'MARHH_NO_C',\n",
    "'MHH_CHILD', 'FHH_CHILD', 'SHAPE', and 'city-state'.\n",
    "'''\n",
    "essential_columns = ['NAME', 'ST', 'POPULATION', 'POP2010', 'WHITE', 'BLACK', 'AMERI_ES',\n",
    "                     'ASIAN', 'HAWN_PI', 'HISPANIC', 'OTHER', 'MULT_RACE', 'MALES',\n",
    "                     'FEMALES', 'AGE_UNDER5', 'AGE_5_9', 'AGE_10_14', 'AGE_15_19',\n",
    "                     'AGE_20_24', 'AGE_25_34', 'AGE_35_44', 'AGE_45_54', 'AGE_55_64',\n",
    "                     'AGE_65_74', 'AGE_75_84', 'AGE_85_UP', 'MED_AGE', 'HOUSEHOLDS',\n",
    "                     'AVE_HH_SZ', 'FAMILIES', 'AVE_FAM_SZ', 'HSE_UNITS', 'VACANT',\n",
    "                     'OWNER_OCC', 'RENTER_OCC']"
   ]
  },
  {
   "cell_type": "code",
   "execution_count": 536,
   "id": "0d6b5bb5",
   "metadata": {},
   "outputs": [],
   "source": [
    "'''\n",
    "Create the df_final DataFrame consisting of only essential columns.\n",
    "'''\n",
    "df_final=df_final[essential_columns]"
   ]
  },
  {
   "cell_type": "code",
   "execution_count": 537,
   "id": "0ffdd7ca",
   "metadata": {},
   "outputs": [
    {
     "data": {
      "text/html": [
       "<div>\n",
       "<style scoped>\n",
       "    .dataframe tbody tr th:only-of-type {\n",
       "        vertical-align: middle;\n",
       "    }\n",
       "\n",
       "    .dataframe tbody tr th {\n",
       "        vertical-align: top;\n",
       "    }\n",
       "\n",
       "    .dataframe thead th {\n",
       "        text-align: right;\n",
       "    }\n",
       "</style>\n",
       "<table border=\"1\" class=\"dataframe\">\n",
       "  <thead>\n",
       "    <tr style=\"text-align: right;\">\n",
       "      <th></th>\n",
       "      <th>NAME</th>\n",
       "      <th>ST</th>\n",
       "      <th>POPULATION</th>\n",
       "      <th>POP2010</th>\n",
       "      <th>WHITE</th>\n",
       "      <th>BLACK</th>\n",
       "      <th>AMERI_ES</th>\n",
       "      <th>ASIAN</th>\n",
       "      <th>HAWN_PI</th>\n",
       "      <th>HISPANIC</th>\n",
       "      <th>...</th>\n",
       "      <th>AGE_85_UP</th>\n",
       "      <th>MED_AGE</th>\n",
       "      <th>HOUSEHOLDS</th>\n",
       "      <th>AVE_HH_SZ</th>\n",
       "      <th>FAMILIES</th>\n",
       "      <th>AVE_FAM_SZ</th>\n",
       "      <th>HSE_UNITS</th>\n",
       "      <th>VACANT</th>\n",
       "      <th>OWNER_OCC</th>\n",
       "      <th>RENTER_OCC</th>\n",
       "    </tr>\n",
       "  </thead>\n",
       "  <tbody>\n",
       "    <tr>\n",
       "      <th>2</th>\n",
       "      <td>Boise City</td>\n",
       "      <td>ID</td>\n",
       "      <td>225405</td>\n",
       "      <td>205671</td>\n",
       "      <td>182991</td>\n",
       "      <td>3043</td>\n",
       "      <td>1404</td>\n",
       "      <td>6501</td>\n",
       "      <td>457</td>\n",
       "      <td>14606</td>\n",
       "      <td>...</td>\n",
       "      <td>3690</td>\n",
       "      <td>35.3</td>\n",
       "      <td>85704</td>\n",
       "      <td>2.36</td>\n",
       "      <td>50647</td>\n",
       "      <td>2.97</td>\n",
       "      <td>92700</td>\n",
       "      <td>6996</td>\n",
       "      <td>52345</td>\n",
       "      <td>33359</td>\n",
       "    </tr>\n",
       "    <tr>\n",
       "      <th>62</th>\n",
       "      <td>Chicago</td>\n",
       "      <td>IL</td>\n",
       "      <td>2781116</td>\n",
       "      <td>2695598</td>\n",
       "      <td>1212835</td>\n",
       "      <td>887608</td>\n",
       "      <td>13337</td>\n",
       "      <td>147164</td>\n",
       "      <td>1013</td>\n",
       "      <td>778862</td>\n",
       "      <td>...</td>\n",
       "      <td>37033</td>\n",
       "      <td>33.1</td>\n",
       "      <td>1045560</td>\n",
       "      <td>2.52</td>\n",
       "      <td>576793</td>\n",
       "      <td>3.40</td>\n",
       "      <td>1194337</td>\n",
       "      <td>148777</td>\n",
       "      <td>469562</td>\n",
       "      <td>575998</td>\n",
       "    </tr>\n",
       "    <tr>\n",
       "      <th>182</th>\n",
       "      <td>Peoria</td>\n",
       "      <td>IL</td>\n",
       "      <td>116343</td>\n",
       "      <td>115007</td>\n",
       "      <td>71740</td>\n",
       "      <td>30991</td>\n",
       "      <td>360</td>\n",
       "      <td>5240</td>\n",
       "      <td>29</td>\n",
       "      <td>5628</td>\n",
       "      <td>...</td>\n",
       "      <td>2691</td>\n",
       "      <td>34.0</td>\n",
       "      <td>47152</td>\n",
       "      <td>2.36</td>\n",
       "      <td>27353</td>\n",
       "      <td>3.06</td>\n",
       "      <td>52621</td>\n",
       "      <td>5469</td>\n",
       "      <td>27349</td>\n",
       "      <td>19803</td>\n",
       "    </tr>\n",
       "    <tr>\n",
       "      <th>194</th>\n",
       "      <td>Rockford</td>\n",
       "      <td>IL</td>\n",
       "      <td>150027</td>\n",
       "      <td>152871</td>\n",
       "      <td>99517</td>\n",
       "      <td>31359</td>\n",
       "      <td>614</td>\n",
       "      <td>4443</td>\n",
       "      <td>41</td>\n",
       "      <td>24085</td>\n",
       "      <td>...</td>\n",
       "      <td>3970</td>\n",
       "      <td>35.8</td>\n",
       "      <td>59973</td>\n",
       "      <td>2.48</td>\n",
       "      <td>37044</td>\n",
       "      <td>3.14</td>\n",
       "      <td>66700</td>\n",
       "      <td>6727</td>\n",
       "      <td>34998</td>\n",
       "      <td>24975</td>\n",
       "    </tr>\n",
       "    <tr>\n",
       "      <th>264</th>\n",
       "      <td>Fort Wayne</td>\n",
       "      <td>IN</td>\n",
       "      <td>263854</td>\n",
       "      <td>253691</td>\n",
       "      <td>186763</td>\n",
       "      <td>39085</td>\n",
       "      <td>939</td>\n",
       "      <td>8379</td>\n",
       "      <td>154</td>\n",
       "      <td>20200</td>\n",
       "      <td>...</td>\n",
       "      <td>4806</td>\n",
       "      <td>34.5</td>\n",
       "      <td>101585</td>\n",
       "      <td>2.44</td>\n",
       "      <td>63001</td>\n",
       "      <td>3.09</td>\n",
       "      <td>113541</td>\n",
       "      <td>11956</td>\n",
       "      <td>64291</td>\n",
       "      <td>37294</td>\n",
       "    </tr>\n",
       "  </tbody>\n",
       "</table>\n",
       "<p>5 rows × 35 columns</p>\n",
       "</div>"
      ],
      "text/plain": [
       "           NAME  ST  POPULATION  POP2010    WHITE   BLACK  AMERI_ES   ASIAN  \\\n",
       "2    Boise City  ID      225405   205671   182991    3043      1404    6501   \n",
       "62      Chicago  IL     2781116  2695598  1212835  887608     13337  147164   \n",
       "182      Peoria  IL      116343   115007    71740   30991       360    5240   \n",
       "194    Rockford  IL      150027   152871    99517   31359       614    4443   \n",
       "264  Fort Wayne  IN      263854   253691   186763   39085       939    8379   \n",
       "\n",
       "     HAWN_PI  HISPANIC  ...  AGE_85_UP  MED_AGE  HOUSEHOLDS  AVE_HH_SZ  \\\n",
       "2        457     14606  ...       3690     35.3       85704       2.36   \n",
       "62      1013    778862  ...      37033     33.1     1045560       2.52   \n",
       "182       29      5628  ...       2691     34.0       47152       2.36   \n",
       "194       41     24085  ...       3970     35.8       59973       2.48   \n",
       "264      154     20200  ...       4806     34.5      101585       2.44   \n",
       "\n",
       "     FAMILIES  AVE_FAM_SZ  HSE_UNITS  VACANT  OWNER_OCC  RENTER_OCC  \n",
       "2       50647        2.97      92700    6996      52345       33359  \n",
       "62     576793        3.40    1194337  148777     469562      575998  \n",
       "182     27353        3.06      52621    5469      27349       19803  \n",
       "194     37044        3.14      66700    6727      34998       24975  \n",
       "264     63001        3.09     113541   11956      64291       37294  \n",
       "\n",
       "[5 rows x 35 columns]"
      ]
     },
     "execution_count": 537,
     "metadata": {},
     "output_type": "execute_result"
    }
   ],
   "source": [
    "'''\n",
    "View the df_final DataFrame to check the revised columns. \n",
    "'''\n",
    "df_final.head()"
   ]
  },
  {
   "cell_type": "markdown",
   "id": "10ccd0e0",
   "metadata": {},
   "source": [
    "### Data Transformation and/or Cleansing Step 4:\n",
    "Rename the column headers. The headers will be renamed to clarify the data contained within each column. "
   ]
  },
  {
   "cell_type": "code",
   "execution_count": 538,
   "id": "657c547d",
   "metadata": {},
   "outputs": [],
   "source": [
    "'''\n",
    "Create a list of column names for df_final.\n",
    "Headers will be lower case and contain no-spaces.\n",
    "'''\n",
    "column_names = ['city', 'state', 'population', 'population2010', 'race_white', 'race_black', 'race_ameri_es',\n",
    "                     'race_asian', 'race_hawaiian_pi', 'race_hispanic', 'race_other', 'race_multi', 'males',\n",
    "                     'females', 'age_under_5', 'age_5to9', 'age_10to14', 'age_15to19',\n",
    "                     'age_20to24', 'age_25to34', 'age_35to44', 'age_45to54', 'age_55to64',\n",
    "                     'age_65to74', 'age_75to84', 'age_over_85', 'median_age', 'household_count',\n",
    "                     'average_household_size', 'families_count', 'average_family_size', 'house_units_count',\n",
    "                     'vacant_house_count','owner_occupied_house', 'renter_occupied_house']"
   ]
  },
  {
   "cell_type": "code",
   "execution_count": 539,
   "id": "de98139b",
   "metadata": {},
   "outputs": [
    {
     "data": {
      "text/html": [
       "<div>\n",
       "<style scoped>\n",
       "    .dataframe tbody tr th:only-of-type {\n",
       "        vertical-align: middle;\n",
       "    }\n",
       "\n",
       "    .dataframe tbody tr th {\n",
       "        vertical-align: top;\n",
       "    }\n",
       "\n",
       "    .dataframe thead th {\n",
       "        text-align: right;\n",
       "    }\n",
       "</style>\n",
       "<table border=\"1\" class=\"dataframe\">\n",
       "  <thead>\n",
       "    <tr style=\"text-align: right;\">\n",
       "      <th></th>\n",
       "      <th>city</th>\n",
       "      <th>state</th>\n",
       "      <th>population</th>\n",
       "      <th>population2010</th>\n",
       "      <th>race_white</th>\n",
       "      <th>race_black</th>\n",
       "      <th>race_ameri_es</th>\n",
       "      <th>race_asian</th>\n",
       "      <th>race_hawaiian_pi</th>\n",
       "      <th>race_hispanic</th>\n",
       "      <th>...</th>\n",
       "      <th>age_over_85</th>\n",
       "      <th>median_age</th>\n",
       "      <th>household_count</th>\n",
       "      <th>average_household_size</th>\n",
       "      <th>families_count</th>\n",
       "      <th>average_family_size</th>\n",
       "      <th>house_units_count</th>\n",
       "      <th>vacant_house_count</th>\n",
       "      <th>owner_occupied_house</th>\n",
       "      <th>renter_occupied_house</th>\n",
       "    </tr>\n",
       "  </thead>\n",
       "  <tbody>\n",
       "    <tr>\n",
       "      <th>2</th>\n",
       "      <td>Boise City</td>\n",
       "      <td>ID</td>\n",
       "      <td>225405</td>\n",
       "      <td>205671</td>\n",
       "      <td>182991</td>\n",
       "      <td>3043</td>\n",
       "      <td>1404</td>\n",
       "      <td>6501</td>\n",
       "      <td>457</td>\n",
       "      <td>14606</td>\n",
       "      <td>...</td>\n",
       "      <td>3690</td>\n",
       "      <td>35.3</td>\n",
       "      <td>85704</td>\n",
       "      <td>2.36</td>\n",
       "      <td>50647</td>\n",
       "      <td>2.97</td>\n",
       "      <td>92700</td>\n",
       "      <td>6996</td>\n",
       "      <td>52345</td>\n",
       "      <td>33359</td>\n",
       "    </tr>\n",
       "    <tr>\n",
       "      <th>62</th>\n",
       "      <td>Chicago</td>\n",
       "      <td>IL</td>\n",
       "      <td>2781116</td>\n",
       "      <td>2695598</td>\n",
       "      <td>1212835</td>\n",
       "      <td>887608</td>\n",
       "      <td>13337</td>\n",
       "      <td>147164</td>\n",
       "      <td>1013</td>\n",
       "      <td>778862</td>\n",
       "      <td>...</td>\n",
       "      <td>37033</td>\n",
       "      <td>33.1</td>\n",
       "      <td>1045560</td>\n",
       "      <td>2.52</td>\n",
       "      <td>576793</td>\n",
       "      <td>3.40</td>\n",
       "      <td>1194337</td>\n",
       "      <td>148777</td>\n",
       "      <td>469562</td>\n",
       "      <td>575998</td>\n",
       "    </tr>\n",
       "    <tr>\n",
       "      <th>182</th>\n",
       "      <td>Peoria</td>\n",
       "      <td>IL</td>\n",
       "      <td>116343</td>\n",
       "      <td>115007</td>\n",
       "      <td>71740</td>\n",
       "      <td>30991</td>\n",
       "      <td>360</td>\n",
       "      <td>5240</td>\n",
       "      <td>29</td>\n",
       "      <td>5628</td>\n",
       "      <td>...</td>\n",
       "      <td>2691</td>\n",
       "      <td>34.0</td>\n",
       "      <td>47152</td>\n",
       "      <td>2.36</td>\n",
       "      <td>27353</td>\n",
       "      <td>3.06</td>\n",
       "      <td>52621</td>\n",
       "      <td>5469</td>\n",
       "      <td>27349</td>\n",
       "      <td>19803</td>\n",
       "    </tr>\n",
       "    <tr>\n",
       "      <th>194</th>\n",
       "      <td>Rockford</td>\n",
       "      <td>IL</td>\n",
       "      <td>150027</td>\n",
       "      <td>152871</td>\n",
       "      <td>99517</td>\n",
       "      <td>31359</td>\n",
       "      <td>614</td>\n",
       "      <td>4443</td>\n",
       "      <td>41</td>\n",
       "      <td>24085</td>\n",
       "      <td>...</td>\n",
       "      <td>3970</td>\n",
       "      <td>35.8</td>\n",
       "      <td>59973</td>\n",
       "      <td>2.48</td>\n",
       "      <td>37044</td>\n",
       "      <td>3.14</td>\n",
       "      <td>66700</td>\n",
       "      <td>6727</td>\n",
       "      <td>34998</td>\n",
       "      <td>24975</td>\n",
       "    </tr>\n",
       "    <tr>\n",
       "      <th>264</th>\n",
       "      <td>Fort Wayne</td>\n",
       "      <td>IN</td>\n",
       "      <td>263854</td>\n",
       "      <td>253691</td>\n",
       "      <td>186763</td>\n",
       "      <td>39085</td>\n",
       "      <td>939</td>\n",
       "      <td>8379</td>\n",
       "      <td>154</td>\n",
       "      <td>20200</td>\n",
       "      <td>...</td>\n",
       "      <td>4806</td>\n",
       "      <td>34.5</td>\n",
       "      <td>101585</td>\n",
       "      <td>2.44</td>\n",
       "      <td>63001</td>\n",
       "      <td>3.09</td>\n",
       "      <td>113541</td>\n",
       "      <td>11956</td>\n",
       "      <td>64291</td>\n",
       "      <td>37294</td>\n",
       "    </tr>\n",
       "  </tbody>\n",
       "</table>\n",
       "<p>5 rows × 35 columns</p>\n",
       "</div>"
      ],
      "text/plain": [
       "           city state  population  population2010  race_white  race_black  \\\n",
       "2    Boise City    ID      225405          205671      182991        3043   \n",
       "62      Chicago    IL     2781116         2695598     1212835      887608   \n",
       "182      Peoria    IL      116343          115007       71740       30991   \n",
       "194    Rockford    IL      150027          152871       99517       31359   \n",
       "264  Fort Wayne    IN      263854          253691      186763       39085   \n",
       "\n",
       "     race_ameri_es  race_asian  race_hawaiian_pi  race_hispanic  ...  \\\n",
       "2             1404        6501               457          14606  ...   \n",
       "62           13337      147164              1013         778862  ...   \n",
       "182            360        5240                29           5628  ...   \n",
       "194            614        4443                41          24085  ...   \n",
       "264            939        8379               154          20200  ...   \n",
       "\n",
       "     age_over_85  median_age  household_count  average_household_size  \\\n",
       "2           3690        35.3            85704                    2.36   \n",
       "62         37033        33.1          1045560                    2.52   \n",
       "182         2691        34.0            47152                    2.36   \n",
       "194         3970        35.8            59973                    2.48   \n",
       "264         4806        34.5           101585                    2.44   \n",
       "\n",
       "     families_count  average_family_size  house_units_count  \\\n",
       "2             50647                 2.97              92700   \n",
       "62           576793                 3.40            1194337   \n",
       "182           27353                 3.06              52621   \n",
       "194           37044                 3.14              66700   \n",
       "264           63001                 3.09             113541   \n",
       "\n",
       "     vacant_house_count  owner_occupied_house  renter_occupied_house  \n",
       "2                  6996                 52345                  33359  \n",
       "62               148777                469562                 575998  \n",
       "182                5469                 27349                  19803  \n",
       "194                6727                 34998                  24975  \n",
       "264               11956                 64291                  37294  \n",
       "\n",
       "[5 rows x 35 columns]"
      ]
     },
     "execution_count": 539,
     "metadata": {},
     "output_type": "execute_result"
    }
   ],
   "source": [
    "'''\n",
    "Modify the column names based on column_names generated above.\n",
    "Show the first 5 rows of the DataFrame to ensure the column names were updated.\n",
    "'''\n",
    "df_final.columns = column_names\n",
    "df_final.head()"
   ]
  },
  {
   "cell_type": "markdown",
   "id": "a886a234",
   "metadata": {},
   "source": [
    "### Data Transformation and/or Cleansing Step 5:\n",
    "Add a column to the DataFrame called population_growth. This will be the difference in population since 2010."
   ]
  },
  {
   "cell_type": "code",
   "execution_count": 540,
   "id": "743b5f84",
   "metadata": {},
   "outputs": [],
   "source": [
    "'''\n",
    "Add a column to df_final called population_growth which will be the difference between the current population\n",
    "and the population from 2010.\n",
    "'''\n",
    "df_final['population_growth'] = df_final['population'] - df_final['population2010']"
   ]
  },
  {
   "cell_type": "code",
   "execution_count": 541,
   "id": "a6d877ea",
   "metadata": {},
   "outputs": [
    {
     "data": {
      "text/html": [
       "<div>\n",
       "<style scoped>\n",
       "    .dataframe tbody tr th:only-of-type {\n",
       "        vertical-align: middle;\n",
       "    }\n",
       "\n",
       "    .dataframe tbody tr th {\n",
       "        vertical-align: top;\n",
       "    }\n",
       "\n",
       "    .dataframe thead th {\n",
       "        text-align: right;\n",
       "    }\n",
       "</style>\n",
       "<table border=\"1\" class=\"dataframe\">\n",
       "  <thead>\n",
       "    <tr style=\"text-align: right;\">\n",
       "      <th></th>\n",
       "      <th>city</th>\n",
       "      <th>state</th>\n",
       "      <th>population</th>\n",
       "      <th>population2010</th>\n",
       "      <th>race_white</th>\n",
       "      <th>race_black</th>\n",
       "      <th>race_ameri_es</th>\n",
       "      <th>race_asian</th>\n",
       "      <th>race_hawaiian_pi</th>\n",
       "      <th>race_hispanic</th>\n",
       "      <th>...</th>\n",
       "      <th>median_age</th>\n",
       "      <th>household_count</th>\n",
       "      <th>average_household_size</th>\n",
       "      <th>families_count</th>\n",
       "      <th>average_family_size</th>\n",
       "      <th>house_units_count</th>\n",
       "      <th>vacant_house_count</th>\n",
       "      <th>owner_occupied_house</th>\n",
       "      <th>renter_occupied_house</th>\n",
       "      <th>population_growth</th>\n",
       "    </tr>\n",
       "  </thead>\n",
       "  <tbody>\n",
       "    <tr>\n",
       "      <th>2</th>\n",
       "      <td>Boise City</td>\n",
       "      <td>ID</td>\n",
       "      <td>225405</td>\n",
       "      <td>205671</td>\n",
       "      <td>182991</td>\n",
       "      <td>3043</td>\n",
       "      <td>1404</td>\n",
       "      <td>6501</td>\n",
       "      <td>457</td>\n",
       "      <td>14606</td>\n",
       "      <td>...</td>\n",
       "      <td>35.3</td>\n",
       "      <td>85704</td>\n",
       "      <td>2.36</td>\n",
       "      <td>50647</td>\n",
       "      <td>2.97</td>\n",
       "      <td>92700</td>\n",
       "      <td>6996</td>\n",
       "      <td>52345</td>\n",
       "      <td>33359</td>\n",
       "      <td>19734</td>\n",
       "    </tr>\n",
       "    <tr>\n",
       "      <th>62</th>\n",
       "      <td>Chicago</td>\n",
       "      <td>IL</td>\n",
       "      <td>2781116</td>\n",
       "      <td>2695598</td>\n",
       "      <td>1212835</td>\n",
       "      <td>887608</td>\n",
       "      <td>13337</td>\n",
       "      <td>147164</td>\n",
       "      <td>1013</td>\n",
       "      <td>778862</td>\n",
       "      <td>...</td>\n",
       "      <td>33.1</td>\n",
       "      <td>1045560</td>\n",
       "      <td>2.52</td>\n",
       "      <td>576793</td>\n",
       "      <td>3.40</td>\n",
       "      <td>1194337</td>\n",
       "      <td>148777</td>\n",
       "      <td>469562</td>\n",
       "      <td>575998</td>\n",
       "      <td>85518</td>\n",
       "    </tr>\n",
       "    <tr>\n",
       "      <th>182</th>\n",
       "      <td>Peoria</td>\n",
       "      <td>IL</td>\n",
       "      <td>116343</td>\n",
       "      <td>115007</td>\n",
       "      <td>71740</td>\n",
       "      <td>30991</td>\n",
       "      <td>360</td>\n",
       "      <td>5240</td>\n",
       "      <td>29</td>\n",
       "      <td>5628</td>\n",
       "      <td>...</td>\n",
       "      <td>34.0</td>\n",
       "      <td>47152</td>\n",
       "      <td>2.36</td>\n",
       "      <td>27353</td>\n",
       "      <td>3.06</td>\n",
       "      <td>52621</td>\n",
       "      <td>5469</td>\n",
       "      <td>27349</td>\n",
       "      <td>19803</td>\n",
       "      <td>1336</td>\n",
       "    </tr>\n",
       "    <tr>\n",
       "      <th>194</th>\n",
       "      <td>Rockford</td>\n",
       "      <td>IL</td>\n",
       "      <td>150027</td>\n",
       "      <td>152871</td>\n",
       "      <td>99517</td>\n",
       "      <td>31359</td>\n",
       "      <td>614</td>\n",
       "      <td>4443</td>\n",
       "      <td>41</td>\n",
       "      <td>24085</td>\n",
       "      <td>...</td>\n",
       "      <td>35.8</td>\n",
       "      <td>59973</td>\n",
       "      <td>2.48</td>\n",
       "      <td>37044</td>\n",
       "      <td>3.14</td>\n",
       "      <td>66700</td>\n",
       "      <td>6727</td>\n",
       "      <td>34998</td>\n",
       "      <td>24975</td>\n",
       "      <td>-2844</td>\n",
       "    </tr>\n",
       "    <tr>\n",
       "      <th>264</th>\n",
       "      <td>Fort Wayne</td>\n",
       "      <td>IN</td>\n",
       "      <td>263854</td>\n",
       "      <td>253691</td>\n",
       "      <td>186763</td>\n",
       "      <td>39085</td>\n",
       "      <td>939</td>\n",
       "      <td>8379</td>\n",
       "      <td>154</td>\n",
       "      <td>20200</td>\n",
       "      <td>...</td>\n",
       "      <td>34.5</td>\n",
       "      <td>101585</td>\n",
       "      <td>2.44</td>\n",
       "      <td>63001</td>\n",
       "      <td>3.09</td>\n",
       "      <td>113541</td>\n",
       "      <td>11956</td>\n",
       "      <td>64291</td>\n",
       "      <td>37294</td>\n",
       "      <td>10163</td>\n",
       "    </tr>\n",
       "  </tbody>\n",
       "</table>\n",
       "<p>5 rows × 36 columns</p>\n",
       "</div>"
      ],
      "text/plain": [
       "           city state  population  population2010  race_white  race_black  \\\n",
       "2    Boise City    ID      225405          205671      182991        3043   \n",
       "62      Chicago    IL     2781116         2695598     1212835      887608   \n",
       "182      Peoria    IL      116343          115007       71740       30991   \n",
       "194    Rockford    IL      150027          152871       99517       31359   \n",
       "264  Fort Wayne    IN      263854          253691      186763       39085   \n",
       "\n",
       "     race_ameri_es  race_asian  race_hawaiian_pi  race_hispanic  ...  \\\n",
       "2             1404        6501               457          14606  ...   \n",
       "62           13337      147164              1013         778862  ...   \n",
       "182            360        5240                29           5628  ...   \n",
       "194            614        4443                41          24085  ...   \n",
       "264            939        8379               154          20200  ...   \n",
       "\n",
       "     median_age  household_count  average_household_size  families_count  \\\n",
       "2          35.3            85704                    2.36           50647   \n",
       "62         33.1          1045560                    2.52          576793   \n",
       "182        34.0            47152                    2.36           27353   \n",
       "194        35.8            59973                    2.48           37044   \n",
       "264        34.5           101585                    2.44           63001   \n",
       "\n",
       "     average_family_size  house_units_count  vacant_house_count  \\\n",
       "2                   2.97              92700                6996   \n",
       "62                  3.40            1194337              148777   \n",
       "182                 3.06              52621                5469   \n",
       "194                 3.14              66700                6727   \n",
       "264                 3.09             113541               11956   \n",
       "\n",
       "     owner_occupied_house  renter_occupied_house  population_growth  \n",
       "2                   52345                  33359              19734  \n",
       "62                 469562                 575998              85518  \n",
       "182                 27349                  19803               1336  \n",
       "194                 34998                  24975              -2844  \n",
       "264                 64291                  37294              10163  \n",
       "\n",
       "[5 rows x 36 columns]"
      ]
     },
     "execution_count": 541,
     "metadata": {},
     "output_type": "execute_result"
    }
   ],
   "source": [
    "'''\n",
    "Check to see that the population_growth column was added to df_final.\n",
    "'''\n",
    "df_final.head()"
   ]
  },
  {
   "cell_type": "markdown",
   "id": "c0a3485c",
   "metadata": {},
   "source": [
    "### Data Transformation and/or Cleansing Step 6:\n",
    "Check for any missing or NaN values within the DataFrame. Decide how to handle the missing data if necessary."
   ]
  },
  {
   "cell_type": "code",
   "execution_count": 542,
   "id": "70dadcf5",
   "metadata": {},
   "outputs": [
    {
     "data": {
      "text/plain": [
       "city                      0\n",
       "state                     0\n",
       "population                0\n",
       "population2010            0\n",
       "race_white                0\n",
       "race_black                0\n",
       "race_ameri_es             0\n",
       "race_asian                0\n",
       "race_hawaiian_pi          0\n",
       "race_hispanic             0\n",
       "race_other                0\n",
       "race_multi                0\n",
       "males                     0\n",
       "females                   0\n",
       "age_under_5               0\n",
       "age_5to9                  0\n",
       "age_10to14                0\n",
       "age_15to19                0\n",
       "age_20to24                0\n",
       "age_25to34                0\n",
       "age_35to44                0\n",
       "age_45to54                0\n",
       "age_55to64                0\n",
       "age_65to74                0\n",
       "age_75to84                0\n",
       "age_over_85               0\n",
       "median_age                0\n",
       "household_count           0\n",
       "average_household_size    0\n",
       "families_count            0\n",
       "average_family_size       0\n",
       "house_units_count         0\n",
       "vacant_house_count        0\n",
       "owner_occupied_house      0\n",
       "renter_occupied_house     0\n",
       "population_growth         0\n",
       "dtype: int64"
      ]
     },
     "execution_count": 542,
     "metadata": {},
     "output_type": "execute_result"
    }
   ],
   "source": [
    "'''\n",
    "Use .isn() and .sum() to find a count of missing values within df_final.\n",
    "'''\n",
    "df_final.isna().sum()"
   ]
  },
  {
   "cell_type": "markdown",
   "id": "cc07d9a6",
   "metadata": {},
   "source": [
    "There are no missing values within df_final."
   ]
  },
  {
   "cell_type": "markdown",
   "id": "e3761dcd",
   "metadata": {},
   "source": [
    "### Data Transformation and/or Cleansing Step 7:\n",
    "Check for outliers using data visualization. Mostly concerned with the population, population_growth, median_age, families_count, average_family_size, house_units_count, owner_occupied_house, and renter_occupied_house columns. "
   ]
  },
  {
   "cell_type": "code",
   "execution_count": 543,
   "id": "a6e3034a",
   "metadata": {},
   "outputs": [
    {
     "data": {
      "image/png": "[encoded data removed]",
      "text/plain": [
       "<Figure size 432x288 with 1 Axes>"
      ]
     },
     "metadata": {
      "needs_background": "light"
     },
     "output_type": "display_data"
    },
    {
     "data": {
      "image/png": "[encoded data removed]",
      "text/plain": [
       "<Figure size 432x288 with 1 Axes>"
      ]
     },
     "metadata": {
      "needs_background": "light"
     },
     "output_type": "display_data"
    },
    {
     "data": {
      "image/png": "[encoded data removed]",
      "text/plain": [
       "<Figure size 432x288 with 1 Axes>"
      ]
     },
     "metadata": {
      "needs_background": "light"
     },
     "output_type": "display_data"
    },
    {
     "data": {
      "image/png": "[encoded data removed]",
      "text/plain": [
       "<Figure size 432x288 with 1 Axes>"
      ]
     },
     "metadata": {
      "needs_background": "light"
     },
     "output_type": "display_data"
    },
    {
     "data": {
      "image/png": "[encoded data removed]",
      "text/plain": [
       "<Figure size 432x288 with 1 Axes>"
      ]
     },
     "metadata": {
      "needs_background": "light"
     },
     "output_type": "display_data"
    },
    {
     "data": {
      "image/png": "[encoded data removed]",
      "text/plain": [
       "<Figure size 432x288 with 1 Axes>"
      ]
     },
     "metadata": {
      "needs_background": "light"
     },
     "output_type": "display_data"
    },
    {
     "data": {
      "image/png": "[encoded data removed]",
      "text/plain": [
       "<Figure size 432x288 with 1 Axes>"
      ]
     },
     "metadata": {
      "needs_background": "light"
     },
     "output_type": "display_data"
    },
    {
     "data": {
      "image/png": "[encoded data removed]",
      "text/plain": [
       "<Figure size 432x288 with 1 Axes>"
      ]
     },
     "metadata": {
      "needs_background": "light"
     },
     "output_type": "display_data"
    }
   ],
   "source": [
    "'''\n",
    "This section of the code will utilize a for loop to plot\n",
    "all the histograms for the essential columns using the plt.hist() function. \n",
    "'''\n",
    "df_reduced = df_final[['population', 'population_growth', 'median_age', 'families_count', 'average_family_size',\n",
    "                      'house_units_count', 'owner_occupied_house', 'renter_occupied_house']]\n",
    "\n",
    "# For loop generation of histogram plot across all columns listed as important above.\n",
    "for col in df_reduced.columns:\n",
    "    # Iterate across columns in df_reduced to plot a histogram of each col.\n",
    "    plt.hist(df_reduced[col], color = 'blue',bins = 18, edgecolor='k') \n",
    "    plt.grid(True)\n",
    "    plt.title(\"Histogram of {}\".format(col), fontsize=15)\n",
    "    plt.xlabel(\"Variable \" +col, fontsize=10)\n",
    "    plt.xticks(fontsize=10) \n",
    "    plt.yticks(fontsize=10) \n",
    "    plt.show() "
   ]
  },
  {
   "cell_type": "code",
   "execution_count": 544,
   "id": "a1592238",
   "metadata": {},
   "outputs": [],
   "source": [
    "'''\n",
    "Create a pareto plot function. The basis for this code was found from Tyler Marr's blog and\n",
    "slightly modified for this application. The site to reference the pareto plot code is:\n",
    "https://tylermarrs.com/posts/pareto-plot-with-matplotlib/\n",
    "'''\n",
    "def pareto_plot(df, x=None, y=None, title=None, show_pct_y=False, pct_format='{0:.0%}'):\n",
    "    xlabel = x\n",
    "    ylabel = y\n",
    "    tmp = df.sort_values(y, ascending=False)[0:5]\n",
    "    x = tmp[x].values\n",
    "    y = tmp[y].values\n",
    "    weights = y / y.sum()\n",
    "    cumsum = weights.cumsum()\n",
    "    \n",
    "    fig, ax1 = plt.subplots()\n",
    "    ax1.bar(x, y)\n",
    "    ax1.set_xlabel(xlabel)\n",
    "    ax1.set_ylabel(ylabel)\n",
    "\n",
    "    ax2 = ax1.twinx()\n",
    "    ax2.plot(x, cumsum, '-ro', alpha=0.5)\n",
    "    ax2.set_ylabel('', color='r')\n",
    "    ax2.tick_params('y', colors='r')\n",
    "    \n",
    "    vals = ax2.get_yticks()\n",
    "    ax2.set_yticklabels(['{:,.2%}'.format(x) for x in vals])\n",
    "\n",
    "    # hide y-labels on right side\n",
    "    if not show_pct_y:\n",
    "        ax2.set_yticks([])\n",
    "    \n",
    "    formatted_weights = [pct_format.format(x) for x in cumsum]\n",
    "    for i, txt in enumerate(formatted_weights):\n",
    "        ax2.annotate(txt, (x[i], cumsum[i]), fontweight='heavy')    \n",
    "    \n",
    "    if title:\n",
    "        plt.title(title)\n",
    "    \n",
    "    plt.tight_layout()\n",
    "    plt.show()"
   ]
  },
  {
   "cell_type": "code",
   "execution_count": 545,
   "id": "e0943a3c",
   "metadata": {},
   "outputs": [
    {
     "name": "stderr",
     "output_type": "stream",
     "text": [
      "C:\\Users\\jkmey\\AppData\\Local\\Temp/ipykernel_18420/660345533.py:26: UserWarning: FixedFormatter should only be used together with FixedLocator\n",
      "  ax2.set_yticklabels(['{:,.2%}'.format(x) for x in vals])\n"
     ]
    },
    {
     "data": {
      "image/png": "[encoded data removed]",
      "text/plain": [
       "<Figure size 432x288 with 2 Axes>"
      ]
     },
     "metadata": {
      "needs_background": "light"
     },
     "output_type": "display_data"
    }
   ],
   "source": [
    "'''\n",
    "There looked to be an outlier for population growth.\n",
    "Create a pareto plot of city vs population growth to understand which city is way higher. \n",
    "The pareto plot will include only the top 5.\n",
    "'''\n",
    "pareto_plot(df_final, x = 'city', y = 'population', title = 'Pareto Plot of Population by City')"
   ]
  },
  {
   "cell_type": "code",
   "execution_count": 546,
   "id": "32d395f8",
   "metadata": {},
   "outputs": [
    {
     "name": "stderr",
     "output_type": "stream",
     "text": [
      "C:\\Users\\jkmey\\AppData\\Local\\Temp/ipykernel_18420/660345533.py:26: UserWarning: FixedFormatter should only be used together with FixedLocator\n",
      "  ax2.set_yticklabels(['{:,.2%}'.format(x) for x in vals])\n"
     ]
    },
    {
     "data": {
      "image/png": "[encoded data removed]",
      "text/plain": [
       "<Figure size 432x288 with 2 Axes>"
      ]
     },
     "metadata": {
      "needs_background": "light"
     },
     "output_type": "display_data"
    }
   ],
   "source": [
    "'''\n",
    "There looked to be an outlier for population growth.\n",
    "Create a pareto plot of city vs population growth to understand which City is way higher. \n",
    "The pareto plot will include only the top 5.\n",
    "'''\n",
    "pareto_plot(df_final, x = 'city', y = 'population_growth', title = 'Pareto Plot of Population Growth by City')"
   ]
  },
  {
   "cell_type": "code",
   "execution_count": 547,
   "id": "c08e5007",
   "metadata": {},
   "outputs": [
    {
     "name": "stderr",
     "output_type": "stream",
     "text": [
      "C:\\Users\\jkmey\\AppData\\Local\\Temp/ipykernel_18420/660345533.py:26: UserWarning: FixedFormatter should only be used together with FixedLocator\n",
      "  ax2.set_yticklabels(['{:,.2%}'.format(x) for x in vals])\n"
     ]
    },
    {
     "data": {
      "image/png": "[encoded data removed]",
      "text/plain": [
       "<Figure size 432x288 with 2 Axes>"
      ]
     },
     "metadata": {
      "needs_background": "light"
     },
     "output_type": "display_data"
    }
   ],
   "source": [
    "'''\n",
    "There looked to be an outlier for median age.\n",
    "Create a pareto plot of city vs median age to understand which City is way higher. \n",
    "The pareto plot will include only the top 5.\n",
    "'''\n",
    "pareto_plot(df_final, x = 'city', y = 'median_age', title = 'Pareto Plot of Median Age by City')"
   ]
  },
  {
   "cell_type": "code",
   "execution_count": 548,
   "id": "edb85742",
   "metadata": {},
   "outputs": [
    {
     "name": "stderr",
     "output_type": "stream",
     "text": [
      "C:\\Users\\jkmey\\AppData\\Local\\Temp/ipykernel_18420/660345533.py:26: UserWarning: FixedFormatter should only be used together with FixedLocator\n",
      "  ax2.set_yticklabels(['{:,.2%}'.format(x) for x in vals])\n"
     ]
    },
    {
     "data": {
      "image/png": "[encoded data removed]",
      "text/plain": [
       "<Figure size 432x288 with 2 Axes>"
      ]
     },
     "metadata": {
      "needs_background": "light"
     },
     "output_type": "display_data"
    }
   ],
   "source": [
    "'''\n",
    "There looked to be an outlier for number of families.\n",
    "Create a pareto plot of city vs family_count to understand which City is way higher. \n",
    "The pareto plot will include only the top 5.\n",
    "'''\n",
    "pareto_plot(df_final, x = 'city', y = 'families_count', title = 'Pareto Plot of Number of Families by City')"
   ]
  },
  {
   "cell_type": "code",
   "execution_count": 549,
   "id": "07e3f8f7",
   "metadata": {},
   "outputs": [
    {
     "name": "stderr",
     "output_type": "stream",
     "text": [
      "C:\\Users\\jkmey\\AppData\\Local\\Temp/ipykernel_18420/660345533.py:26: UserWarning: FixedFormatter should only be used together with FixedLocator\n",
      "  ax2.set_yticklabels(['{:,.2%}'.format(x) for x in vals])\n"
     ]
    },
    {
     "data": {
      "image/png": "[encoded data removed]",
      "text/plain": [
       "<Figure size 432x288 with 2 Axes>"
      ]
     },
     "metadata": {
      "needs_background": "light"
     },
     "output_type": "display_data"
    }
   ],
   "source": [
    "'''\n",
    "There looked to be an outlier for number of houses.\n",
    "Create a pareto plot of city vs house count to understand which City is way higher. \n",
    "The pareto plot will include only the top 5.\n",
    "'''\n",
    "pareto_plot(df_final, x = 'city', y = 'house_units_count', title = 'Pareto Plot of Number of House Units by City')"
   ]
  },
  {
   "cell_type": "code",
   "execution_count": 550,
   "id": "28f05138",
   "metadata": {},
   "outputs": [
    {
     "name": "stderr",
     "output_type": "stream",
     "text": [
      "C:\\Users\\jkmey\\AppData\\Local\\Temp/ipykernel_18420/660345533.py:26: UserWarning: FixedFormatter should only be used together with FixedLocator\n",
      "  ax2.set_yticklabels(['{:,.2%}'.format(x) for x in vals])\n"
     ]
    },
    {
     "data": {
      "image/png": "[encoded data removed]",
      "text/plain": [
       "<Figure size 432x288 with 2 Axes>"
      ]
     },
     "metadata": {
      "needs_background": "light"
     },
     "output_type": "display_data"
    }
   ],
   "source": [
    "'''\n",
    "There looked to be an outlier for the number of owner occupied houses.\n",
    "Create a pareto plot of city vs owner occupied house count to understand which City is way higher. \n",
    "The pareto plot will include only the top 5.\n",
    "'''\n",
    "pareto_plot(df_final, x = 'city', y = 'owner_occupied_house',\n",
    "            title = 'Pareto Plot of Owner Occupied House Units by City')"
   ]
  },
  {
   "cell_type": "code",
   "execution_count": 551,
   "id": "97c2d665",
   "metadata": {},
   "outputs": [
    {
     "name": "stderr",
     "output_type": "stream",
     "text": [
      "C:\\Users\\jkmey\\AppData\\Local\\Temp/ipykernel_18420/660345533.py:26: UserWarning: FixedFormatter should only be used together with FixedLocator\n",
      "  ax2.set_yticklabels(['{:,.2%}'.format(x) for x in vals])\n"
     ]
    },
    {
     "data": {
      "image/png": "[encoded data removed]",
      "text/plain": [
       "<Figure size 432x288 with 2 Axes>"
      ]
     },
     "metadata": {
      "needs_background": "light"
     },
     "output_type": "display_data"
    }
   ],
   "source": [
    "'''\n",
    "There looked to be an outlier for the number of renter occupied houses.\n",
    "Create a pareto plot of city vs renter occupied house count to understand which City is way higher. \n",
    "The pareto plot will include only the top 5.\n",
    "'''\n",
    "pareto_plot(df_final, x = 'city', y = 'renter_occupied_house',\n",
    "            title = 'Pareto Plot of Renter Occupied House Units by City')"
   ]
  },
  {
   "cell_type": "code",
   "execution_count": 552,
   "id": "8ef3c911",
   "metadata": {},
   "outputs": [
    {
     "data": {
      "image/png": "[encoded data removed]",
      "text/plain": [
       "<Figure size 720x360 with 1 Axes>"
      ]
     },
     "metadata": {
      "needs_background": "light"
     },
     "output_type": "display_data"
    }
   ],
   "source": [
    "'''\n",
    "Understand the relationship between population_growth and number of families.\n",
    "Use plot() to create the chart.\n",
    "'''\n",
    "df_final.plot.scatter('population_growth','families_count', s=50, c='green', edgecolor='k', figsize=(10,5))\n",
    "plt.grid(True)\n",
    "plt.title(\"Population Growth vs. Family Count Scatter Plot\", fontsize=18)\n",
    "plt.xlabel(\"Population Growth Since 2010\")\n",
    "plt.xticks(rotation = 90)\n",
    "plt.ylabel(\"Family Count\")\n",
    "plt.show()"
   ]
  },
  {
   "cell_type": "markdown",
   "id": "04c73fba",
   "metadata": {},
   "source": [
    "No additional data were removed after reviewing the visualization plots (histograms and pareto plots). With the exception of median age, New York appears to stand out on the high side for population, population growth, number of families, number of house units, owner occupied house units, and renter occupied house units.  "
   ]
  },
  {
   "cell_type": "code",
   "execution_count": 553,
   "id": "8e44960f",
   "metadata": {},
   "outputs": [
    {
     "name": "stdout",
     "output_type": "stream",
     "text": [
      "The shape of the final DataFrame is 149 rows and 36 columns.\n"
     ]
    }
   ],
   "source": [
    "'''\n",
    "Understand the shape of df_final.\n",
    "'''\n",
    "print('The shape of the final DataFrame is {} rows and {} columns.'.format(df_final.shape[0],df_final.shape[1]))"
   ]
  },
  {
   "cell_type": "code",
   "execution_count": 554,
   "id": "0fc20eae",
   "metadata": {},
   "outputs": [],
   "source": [
    "'''\n",
    "Export df_final to a csv file.\n",
    "Label the file as Milestone4_df_final.csv\n",
    "'''\n",
    "df_final.to_csv('Milestone4_df_final.csv',index=False)"
   ]
  },
  {
   "cell_type": "markdown",
   "id": "5ba61cef",
   "metadata": {},
   "source": [
    "### Milestone 4 Reflection and Ethical Considerations:\n",
    "Milestone 4 includes a connection to an API to retrieve data for cleaning and transforming steps. The API chosen for this milestone was ArcGIS. Within ArcGIS, the USA Major Cities package was located and utilized to retrieve the data for the final DataFrame. From the command terminal, the \"arcgis\" module needs to be installed. Once installed, then the \"GIS()\" command can be utilized to connect to the API. The most challenging part of this milestone was searching through the API documentation to figure out how to make the initial connection. Once connected to GIS, then the additional functions were identified to query and search for the USA Major Cities data. Although this milestone was challenging, the benefits for being able to connect and retreive data from an API are unlimited. Another challenge was handling duplicate city names that were across multiple states. This is one of the reasons why a 'city-state' column was generated to include the full string text for the city with a state abbreviation added to the end. This helped for filtering down the final DataFrame.\n",
    "\n",
    "The final DataFrame produced within this milestone is intended solely for completion of the Milestone 4 project. Any additional uses for this final DataFrame need to have ethical considerations applied since the data contains some sensitive elements such as race. The cleaning and transformation steps to arrive at the final DataFrame are outlined in the code above for transperancy. Some additional notes are as follows. City names were modified from Milestone 2 CSV file for Boise (Boise City), New York City (New York), Quad Cities (Davenport), Lexington-Fayette (Lexington), Dallas-Fort Worth (Dallas), Gulfport-Biloxi (Gulfport), and Tuscon (Tucson). San Juan data from Puerto Rico was not available on the API data, so there were only 149 cities included in the final DataFrame. The updates were made to ensure the string values for the cities matched between the original list of cities and the city names on the API. Similar to Milestone 3, the pareto code was utilized from Tyler Marr's blog and modified for this project. Lastly, please respect the connection to ArcGIS API. Depending on the authentication used to access the API, a user can create, read, update, and delete. The recommendation is for any additional folks to read through the documentation for the API thoroughly.  "
   ]
  }
 ],
 "metadata": {
  "kernelspec": {
   "display_name": "Python 3 (ipykernel)",
   "language": "python",
   "name": "python3"
  },
  "language_info": {
   "codemirror_mode": {
    "name": "ipython",
    "version": 3
   },
   "file_extension": ".py",
   "mimetype": "text/x-python",
   "name": "python",
   "nbconvert_exporter": "python",
   "pygments_lexer": "ipython3",
   "version": "3.9.7"
  }
 },
 "nbformat": 4,
 "nbformat_minor": 5
}
